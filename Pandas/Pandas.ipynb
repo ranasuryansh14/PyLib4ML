{
 "cells": [
  {
   "cell_type": "markdown",
   "id": "3aaed805",
   "metadata": {},
   "source": [
    "### What is pandas\n",
    "Pandas is an open-source Python library that provides powerful and easy-to-use data analysis tools. It is built on top of the NumPy library and allows users to work with structured data in a way that is similar to working with spreadsheets or SQL tables.\n",
    "Pandas provides two primary data structures: Series and DataFrame. A Series is a one-dimensional array-like object that can hold any data type. A DataFrame is a two-dimensional table-like data structure that can hold multiple Series. Pandas also provides functionality for data manipulation, data cleaning, merging and joining of datasets, time series analysis, and more.\n",
    "Pandas is widely used in data science, machine learning, finance, and other domains where data analysis and manipulation are important."
   ]
  },
  {
   "cell_type": "raw",
   "id": "59011f50-2b3c-4f81-bc90-2547b25ce9a6",
   "metadata": {},
   "source": [
    "Pandas is a popular open-source Python library that is widely used for data manipulation\n",
    "and analysis. It provides easy-to-use data structures and data analysis tools, making it \n",
    "an essential tool for data scientists, analysts, and anyone working with tabular or structured data"
   ]
  },
  {
   "cell_type": "code",
   "execution_count": null,
   "id": "cef3026d",
   "metadata": {},
   "outputs": [],
   "source": [
    "Comma-separated values (CSV)\n",
    "\n",
    "XLSX\n",
    "\n",
    "ZIP\n",
    "\n",
    "Plain Text (txt)\n",
    "\n",
    "JSON\n",
    "\n",
    "XML\n",
    "\n",
    "HTML\n",
    "\n",
    "Images\n",
    "\n",
    "Hierarchical Data Format\n",
    "\n",
    "PDF\n",
    "\n",
    "DOCX\n",
    "\n",
    "MP3\n",
    "\n",
    "MP4\n",
    "\n",
    "SQL"
   ]
  },
  {
   "cell_type": "markdown",
   "id": "1118aef0",
   "metadata": {},
   "source": [
    "#### why we use pandas in data science\n",
    "Pandas is a popular choice for data science because it provides a powerful set of tools for data analysis and manipulation in Python. Here are some of the key reasons why pandas is widely used in data science:            \n",
    "1. Easy handling of tabular data: Pandas makes it easy to work with structured data such as tables or spreadsheets, which is common in data science.            \n",
    "\n",
    "2. Powerful data manipulation tools: Pandas provides many tools for manipulating data such as filtering, sorting, grouping, merging, and reshaping. These tools allow data scientists to perform complex data transformations quickly and easily.                \n",
    "\n",
    "3. Integration with other data science libraries: Pandas integrates well with other popular Python libraries used in data science such as NumPy, Matplotlib, and Scikit-learn. This makes it easy to use pandas alongside these libraries in data analysis workflows.        \n",
    "\n",
    "4. Time series analysis: Pandas has excellent support for time series analysis, including tools for working with dates and times, resampling, and time zone handling.                   \n",
    "\n",
    "5. Missing data handling: Pandas provides flexible tools for handling missing data, including methods for filling in missing data or dropping incomplete rows.      "
   ]
  },
  {
   "cell_type": "markdown",
   "id": "84c236fc",
   "metadata": {},
   "source": [
    "### installation of pandas\n",
    "pip install pandas"
   ]
  },
  {
   "cell_type": "code",
   "execution_count": 1,
   "id": "b59d2d63",
   "metadata": {},
   "outputs": [],
   "source": [
    "import pandas as pd\n",
    "import numpy as np"
   ]
  },
  {
   "cell_type": "markdown",
   "id": "35dca639",
   "metadata": {},
   "source": [
    "### pandas provide 2 type of data structure\n",
    "1. Series\n",
    "2. DataFrame"
   ]
  },
  {
   "cell_type": "markdown",
   "id": "be5839a7",
   "metadata": {},
   "source": [
    "### 1. series\n",
    "Pandas is a popular library in Python for data manipulation and analysis. It provides a data structure called Series, which is a one-dimensional labeled array capable of holding any data type. You can think of a Series as a column in a spreadsheet or a single column of data."
   ]
  },
  {
   "cell_type": "markdown",
   "id": "f0e959a4",
   "metadata": {},
   "source": [
    "### creating a series"
   ]
  },
  {
   "cell_type": "code",
   "execution_count": 11,
   "id": "ea16661d",
   "metadata": {},
   "outputs": [
    {
     "data": {
      "text/plain": [
       "0    s\n",
       "1    o\n",
       "2    u\n",
       "3    r\n",
       "4    a\n",
       "5    v\n",
       "dtype: object"
      ]
     },
     "execution_count": 11,
     "metadata": {},
     "output_type": "execute_result"
    }
   ],
   "source": [
    "#creating empty series\n",
    "import pandas as pd\n",
    "import numpy as np\n",
    "# ser=pd.Series()\n",
    "# print(ser)\n",
    "# print()\n",
    "# create array series\n",
    "data=np.array([\"s\",\"o\",\"u\",\"r\",\"a\",\"v\"])\n",
    "ser=pd.Series(data)\n",
    "ser"
   ]
  },
  {
   "cell_type": "code",
   "execution_count": 6,
   "id": "3e11ff12",
   "metadata": {},
   "outputs": [
    {
     "name": "stdout",
     "output_type": "stream",
     "text": [
      "11    s\n",
      "12    o\n",
      "13    u\n",
      "14    r\n",
      "15    a\n",
      "16    v\n",
      "dtype: object\n"
     ]
    }
   ],
   "source": [
    "#simple array\n",
    "data=np.array([\"s\",\"o\",\"u\",\"r\",\"a\",\"v\"])\n",
    "#providing an index\n",
    "ser=pd.Series(data,index=[11,12,13,14,15,16])\n",
    "print(ser)"
   ]
  },
  {
   "cell_type": "code",
   "execution_count": 6,
   "id": "39524ddf",
   "metadata": {},
   "outputs": [
    {
     "name": "stdout",
     "output_type": "stream",
     "text": [
      "lucky     20\n",
      "sourav    30\n",
      "atul      89\n",
      "dtype: int64\n"
     ]
    }
   ],
   "source": [
    "# a simple dictonary\n",
    "dict=  {'lucky':20,'sourav':30,'atul':89}\n",
    "ser=pd.Series(dict)\n",
    "print(ser)"
   ]
  },
  {
   "cell_type": "code",
   "execution_count": 12,
   "id": "b8886cbc",
   "metadata": {},
   "outputs": [
    {
     "name": "stdout",
     "output_type": "stream",
     "text": [
      "0    swini\n",
      "1    swini\n",
      "2    swini\n",
      "3    swini\n",
      "4    swini\n",
      "dtype: object\n"
     ]
    }
   ],
   "source": [
    "#giving scaler value with index\n",
    "ser=pd.Series('swini',index=[0,1,2,3,4])\n",
    "print(ser)"
   ]
  },
  {
   "cell_type": "code",
   "execution_count": 22,
   "id": "d9337b28",
   "metadata": {},
   "outputs": [
    {
     "name": "stdout",
     "output_type": "stream",
     "text": [
      "0     2.000000\n",
      "1    12.333333\n",
      "2    22.666667\n",
      "3    33.000000\n",
      "dtype: float64\n"
     ]
    }
   ],
   "source": [
    "import pandas as pd\n",
    "import numpy as np\n",
    "#series with numpy linspace()\n",
    "ser1=pd.Series(np.linspace(2,33,4))\n",
    "print(ser1)\n",
    "# var=np.linspace(2,33,4,dtype=\"i\")"
   ]
  },
  {
   "cell_type": "code",
   "execution_count": 24,
   "id": "1e58c4a9",
   "metadata": {},
   "outputs": [
    {
     "name": "stdout",
     "output_type": "stream",
     "text": [
      "0     2\n",
      "1    12\n",
      "2    22\n",
      "3    33\n",
      "dtype: int32\n"
     ]
    }
   ],
   "source": [
    "import pandas as pd\n",
    "import numpy as np\n",
    "\n",
    "# Series with numpy linspace()\n",
    "ser1 = pd.Series(np.linspace(2, 33, 4).astype(int))\n",
    "print(ser1)\n"
   ]
  },
  {
   "cell_type": "code",
   "execution_count": 24,
   "id": "f624c06a",
   "metadata": {},
   "outputs": [
    {
     "name": "stdout",
     "output_type": "stream",
     "text": [
      "a\n",
      "b\n",
      "c\n",
      "d\n",
      "e\n",
      "f\n",
      "g\n"
     ]
    }
   ],
   "source": [
    "for x in 'abcdefg':\n",
    "    print(x)"
   ]
  },
  {
   "cell_type": "code",
   "execution_count": 4,
   "id": "faab4d6e",
   "metadata": {},
   "outputs": [
    {
     "name": "stdout",
     "output_type": "stream",
     "text": [
      "a     1\n",
      "b     4\n",
      "c     7\n",
      "d    10\n",
      "e    13\n",
      "f    16\n",
      "g    19\n",
      "dtype: int64\n"
     ]
    }
   ],
   "source": [
    "#creating a series using for loop and list comprehesion\n",
    "import numpy as np\n",
    "import pandas as pd\n",
    "ser=pd.Series(range(1,20,3),index=[x for x in 'abcdefg'])\n",
    "print(ser)"
   ]
  },
  {
   "cell_type": "code",
   "execution_count": 5,
   "id": "2d42464c",
   "metadata": {},
   "outputs": [
    {
     "name": "stdout",
     "output_type": "stream",
     "text": [
      "0    0\n",
      "1    1\n",
      "2    2\n",
      "3    3\n",
      "4    4\n",
      "5    5\n",
      "6    6\n",
      "7    7\n",
      "8    8\n",
      "9    9\n",
      "dtype: int64\n"
     ]
    }
   ],
   "source": [
    "#creating a series using range function\n",
    "ser=pd.Series(range(10))\n",
    "print(ser)"
   ]
  },
  {
   "cell_type": "code",
   "execution_count": 4,
   "id": "6919d84b",
   "metadata": {},
   "outputs": [
    {
     "name": "stdout",
     "output_type": "stream",
     "text": [
      "1\n",
      "2\n",
      "3\n",
      "4\n",
      "5\n",
      "6\n",
      "7\n",
      "8\n",
      "9\n"
     ]
    }
   ],
   "source": [
    "for i in range(1,10):\n",
    "    print(i)\n"
   ]
  },
  {
   "cell_type": "markdown",
   "id": "5ff9ddbc",
   "metadata": {},
   "source": [
    "### Accessing  elements of Series"
   ]
  },
  {
   "cell_type": "markdown",
   "id": "1e71840b",
   "metadata": {},
   "source": [
    "there are two ways tohrough whoch we can access element of series,\n",
    "1. accessing element from series with position\n",
    "2. accessing element using label (index)"
   ]
  },
  {
   "cell_type": "code",
   "execution_count": 25,
   "id": "eaade5e8",
   "metadata": {},
   "outputs": [
    {
     "name": "stdout",
     "output_type": "stream",
     "text": [
      "30\n",
      "40\n"
     ]
    }
   ],
   "source": [
    "import pandas as pd\n",
    "\n",
    "data = [10, 20, 30, 40, 50]\n",
    "ser = pd.Series(data)\n",
    "# print(ser)\n",
    "\n",
    "# Access element at position 2 using indexing operator []\n",
    "element = ser[2]\n",
    "print(element)\n",
    "elements=ser[3]\n",
    "print(elements)\n"
   ]
  },
  {
   "cell_type": "code",
   "execution_count": 10,
   "id": "d3ae79a7",
   "metadata": {},
   "outputs": [
    {
     "name": "stdout",
     "output_type": "stream",
     "text": [
      "[7, 8, 9]\n"
     ]
    }
   ],
   "source": [
    "l=[7,8,9,6,7]\n",
    "#    0 1  2 3 4\n",
    "# print(l[start:end:step])\n",
    "print(l[0:3])"
   ]
  },
  {
   "cell_type": "code",
   "execution_count": 11,
   "id": "c06366f6",
   "metadata": {},
   "outputs": [
    {
     "name": "stdout",
     "output_type": "stream",
     "text": [
      "3    40\n",
      "4    50\n",
      "dtype: int64\n"
     ]
    }
   ],
   "source": [
    "data = [10, 20, 30, 40, 50]\n",
    "ser = pd.Series(data)\n",
    "\n",
    "# retrive ist two element\n",
    "element = ser[3:5]\n",
    "print(element)\n"
   ]
  },
  {
   "cell_type": "code",
   "execution_count": 13,
   "id": "7d48b219",
   "metadata": {},
   "outputs": [
    {
     "name": "stdout",
     "output_type": "stream",
     "text": [
      "a    10\n",
      "b    20\n",
      "c    30\n",
      "d    40\n",
      "e    50\n",
      "dtype: int64\n",
      "40\n"
     ]
    }
   ],
   "source": [
    "data = [10, 20, 30, 40, 50]\n",
    "index = ['a', 'b', 'c', 'd', 'e']\n",
    "series = pd.Series(data, index=index)\n",
    "print(series)\n",
    "# Access element with label 'c' using indexing operator []\n",
    "element = series['d']\n",
    "print(element)"
   ]
  },
  {
   "cell_type": "code",
   "execution_count": 33,
   "id": "5e265098",
   "metadata": {},
   "outputs": [
    {
     "name": "stdout",
     "output_type": "stream",
     "text": [
      "0        99999\n",
      "1        99999\n",
      "2        99999\n",
      "3        99999\n",
      "4        99999\n",
      "         ...  \n",
      "41710     ZZ11\n",
      "41711     ZZ11\n",
      "41712     ZZ11\n",
      "41713     ZZ11\n",
      "41714     ZZ11\n",
      "Name: Industry_code_NZSIOC, Length: 41715, dtype: object\n",
      "0    99999\n",
      "1    99999\n",
      "2    99999\n",
      "3    99999\n",
      "4    99999\n",
      "Name: Industry_code_NZSIOC, dtype: object\n"
     ]
    }
   ],
   "source": [
    "# making data frame using csv file\n",
    "import pandas as pd\n",
    "df=pd.read_csv(\"data.csv\")\n",
    "# print(df.head())\n",
    "ser=pd.Series(df['Industry_code_NZSIOC'])\n",
    "print(ser)\n",
    "data1=ser.head()\n",
    "print(data1)"
   ]
  },
  {
   "cell_type": "code",
   "execution_count": 39,
   "id": "e2346f67",
   "metadata": {},
   "outputs": [
    {
     "name": "stdout",
     "output_type": "stream",
     "text": [
      "   Year Industry_aggregation_NZSIOC Industry_code_NZSIOC Industry_name_NZSIOC  \\\n",
      "3  2021                     Level 1                99999       All industries   \n",
      "4  2021                     Level 1                99999       All industries   \n",
      "\n",
      "                Units Variable_code         Variable_name  \\\n",
      "3  Dollars (millions)           H07  Non-operating income   \n",
      "4  Dollars (millions)           H08     Total expenditure   \n",
      "\n",
      "       Variable_category    Value  \\\n",
      "3  Financial performance   33,020   \n",
      "4  Financial performance  654,404   \n",
      "\n",
      "                              Industry_code_ANZSIC06  \n",
      "3  ANZSIC06 divisions A-S (excluding classes K633...  \n",
      "4  ANZSIC06 divisions A-S (excluding classes K633...  \n"
     ]
    }
   ],
   "source": [
    "df=pd.read_csv(\"data.csv\")\n",
    "\n",
    "# df\n",
    "ser=pd.Series(df['Industry_code_NZSIOC'])\n",
    "data1=df[3:5]\n",
    "print(data1)"
   ]
  },
  {
   "cell_type": "code",
   "execution_count": 41,
   "id": "d83e6250",
   "metadata": {},
   "outputs": [
    {
     "name": "stdout",
     "output_type": "stream",
     "text": [
      "   Year Industry_aggregation_NZSIOC Industry_code_NZSIOC Industry_name_NZSIOC  \\\n",
      "4  2021                     Level 1                99999       All industries   \n",
      "5  2021                     Level 1                99999       All industries   \n",
      "6  2021                     Level 1                99999       All industries   \n",
      "7  2021                     Level 1                99999       All industries   \n",
      "8  2021                     Level 1                99999       All industries   \n",
      "9  2021                     Level 1                99999       All industries   \n",
      "\n",
      "                Units Variable_code             Variable_name  \\\n",
      "4  Dollars (millions)           H08         Total expenditure   \n",
      "5  Dollars (millions)           H09    Interest and donations   \n",
      "6  Dollars (millions)           H10            Indirect taxes   \n",
      "7  Dollars (millions)           H11              Depreciation   \n",
      "8  Dollars (millions)           H12   Salaries and wages paid   \n",
      "9  Dollars (millions)           H13  Redundancy and severance   \n",
      "\n",
      "       Variable_category    Value  \\\n",
      "4  Financial performance  654,404   \n",
      "5  Financial performance   26,138   \n",
      "6  Financial performance    6,991   \n",
      "7  Financial performance   27,801   \n",
      "8  Financial performance  123,620   \n",
      "9  Financial performance      275   \n",
      "\n",
      "                              Industry_code_ANZSIC06  \n",
      "4  ANZSIC06 divisions A-S (excluding classes K633...  \n",
      "5  ANZSIC06 divisions A-S (excluding classes K633...  \n",
      "6  ANZSIC06 divisions A-S (excluding classes K633...  \n",
      "7  ANZSIC06 divisions A-S (excluding classes K633...  \n",
      "8  ANZSIC06 divisions A-S (excluding classes K633...  \n",
      "9  ANZSIC06 divisions A-S (excluding classes K633...  \n"
     ]
    }
   ],
   "source": [
    "#using .loc[] function\n",
    "print(df.loc[4:9])\n"
   ]
  },
  {
   "cell_type": "code",
   "execution_count": 18,
   "id": "b8b9501c",
   "metadata": {},
   "outputs": [
    {
     "name": "stdout",
     "output_type": "stream",
     "text": [
      "   Year Industry_aggregation_NZSIOC Industry_code_NZSIOC Industry_name_NZSIOC  \\\n",
      "4  2021                     Level 1                99999       All industries   \n",
      "5  2021                     Level 1                99999       All industries   \n",
      "6  2021                     Level 1                99999       All industries   \n",
      "7  2021                     Level 1                99999       All industries   \n",
      "8  2021                     Level 1                99999       All industries   \n",
      "\n",
      "                Units Variable_code            Variable_name  \\\n",
      "4  Dollars (millions)           H08        Total expenditure   \n",
      "5  Dollars (millions)           H09   Interest and donations   \n",
      "6  Dollars (millions)           H10           Indirect taxes   \n",
      "7  Dollars (millions)           H11             Depreciation   \n",
      "8  Dollars (millions)           H12  Salaries and wages paid   \n",
      "\n",
      "       Variable_category    Value  \\\n",
      "4  Financial performance  654,404   \n",
      "5  Financial performance   26,138   \n",
      "6  Financial performance    6,991   \n",
      "7  Financial performance   27,801   \n",
      "8  Financial performance  123,620   \n",
      "\n",
      "                              Industry_code_ANZSIC06  \n",
      "4  ANZSIC06 divisions A-S (excluding classes K633...  \n",
      "5  ANZSIC06 divisions A-S (excluding classes K633...  \n",
      "6  ANZSIC06 divisions A-S (excluding classes K633...  \n",
      "7  ANZSIC06 divisions A-S (excluding classes K633...  \n",
      "8  ANZSIC06 divisions A-S (excluding classes K633...  \n"
     ]
    }
   ],
   "source": [
    "#using .iloc[] function\n",
    "# print(df.loc[])\n",
    "print(df.iloc[4:9])"
   ]
  },
  {
   "cell_type": "markdown",
   "id": "6c00a9d1",
   "metadata": {},
   "source": [
    "## Data frame\n",
    " a data frame is a two-dimensional tabular data structure that is similar to a spreadsheet or a SQL table. It is one of the core data structures provided by pandas and is widely used for data analysis and manipulation."
   ]
  },
  {
   "cell_type": "markdown",
   "id": "fcf4e59c",
   "metadata": {},
   "source": [
    "The correct syntax for creating a data frame using the DataFrame() function in pandas.\n",
    "\n",
    "\"pandas.DataFrame(data, index, columns)\"\n",
    "\n",
    "Here's a breakdown of the parameters:\n",
    "\n",
    "1. data: This is the dataset from which the data frame is created. It can be a list, dictionary, scalar value, series, NumPy arrays, etc. The data is organized in a tabular format, with rows representing observations and columns representing variables.\n",
    "\n",
    "2. index (optional): By default, the index of the data frame starts from 0 and ends at the last data value (n-1). However, you can explicitly define the row labels by specifying the index parameter. It can be a list, array, or any other sequence that matches the length of the data.\n",
    "\n",
    "3. columns (optional): This parameter is used to provide column names in the data frame. If column names are not defined, the data frame will assign default column names as integers from 0 to n-1, based on the number of columns in the data. You can specify the columns parameter as a list, array, or any other sequence that matches the length of the data."
   ]
  },
  {
   "cell_type": "code",
   "execution_count": 44,
   "id": "13585b2b",
   "metadata": {},
   "outputs": [
    {
     "name": "stdout",
     "output_type": "stream",
     "text": [
      "Empty DataFrame\n",
      "Columns: []\n",
      "Index: []\n"
     ]
    }
   ],
   "source": [
    "#create a empty data set\n",
    "import pandas as pd\n",
    "df = pd.DataFrame()\n",
    "print(df)"
   ]
  },
  {
   "cell_type": "code",
   "execution_count": 43,
   "id": "57e11f1f",
   "metadata": {},
   "outputs": [
    {
     "name": "stdout",
     "output_type": "stream",
     "text": [
      "   0\n",
      "0  a\n",
      "1  b\n",
      "2  c\n",
      "3  d\n",
      "4  e\n"
     ]
    }
   ],
   "source": [
    "# print  dataframe by using list\n",
    "index = ['a', 'b', 'c', 'd', 'e']\n",
    "df = pd.DataFrame(index)\n",
    "print(df)"
   ]
  },
  {
   "cell_type": "code",
   "execution_count": 14,
   "id": "210d3f61",
   "metadata": {},
   "outputs": [
    {
     "name": "stdout",
     "output_type": "stream",
     "text": [
      "  name  age    city\n",
      "0    a   10     chd\n",
      "1    b   20     chd\n",
      "2    c   30  mohali\n",
      "3    d   40   delhi\n",
      "4    e   50     chd\n"
     ]
    }
   ],
   "source": [
    "#dictonary\n",
    "dict = {'name':['a', 'b', 'c', 'd', 'e'],'age':[10, 20, 30, 40, 50],'city':[\"chd\",\"chd\",\"mohali\",\"delhi\",\"chd\"]}\n",
    "df = pd.DataFrame(dict)\n",
    "print(df)"
   ]
  },
  {
   "cell_type": "code",
   "execution_count": 46,
   "id": "cda9ee5c",
   "metadata": {},
   "outputs": [
    {
     "name": "stdout",
     "output_type": "stream",
     "text": [
      "   name  age\n",
      "11    a   10\n",
      "12    b   20\n",
      "13    c   30\n",
      "14    d   40\n",
      "15    e   50\n"
     ]
    }
   ],
   "source": [
    "# zip function : combine two list in form of tupple\n",
    "import pandas as pd\n",
    "\n",
    "age = [10, 20, 30, 40, 50]\n",
    "name = ['a', 'b', 'c', 'd', 'e']\n",
    "list_of_tuples = list(zip(name, age))\n",
    "\n",
    "df = pd.DataFrame(list_of_tuples,index=[11,12,13,14,15],columns=['name', 'age'])\n",
    "print(df)\n"
   ]
  },
  {
   "cell_type": "code",
   "execution_count": 20,
   "id": "bd78a2c0",
   "metadata": {},
   "outputs": [
    {
     "name": "stdout",
     "output_type": "stream",
     "text": [
      "    one    two  three   four\n",
      "a  10.0    NaN   10.0    NaN\n",
      "b  20.0    NaN   20.0    NaN\n",
      "c  30.0    NaN   30.0    NaN\n",
      "d  40.0    NaN   40.0    NaN\n",
      "e  50.0    NaN   50.0    NaN\n",
      "f   NaN   60.0    NaN   60.0\n",
      "g   NaN   70.0    NaN   70.0\n",
      "h   NaN   80.0    NaN   80.0\n",
      "i   NaN   90.0    NaN   90.0\n",
      "j   NaN  100.0    NaN  100.0\n"
     ]
    }
   ],
   "source": [
    "# initiailze dat to dicts of series\n",
    "d={'one': pd.Series([10,20,30,40,50], index=['a', 'b', 'c', 'd', 'e']),\n",
    "   'two':pd.Series([60,70,80,90,100], index=['f', 'g', 'h', 'i', 'j']),\n",
    "  'three': pd.Series([10,20,30,40,50], index=['a', 'b', 'c', 'd', 'e']),\n",
    "   'four':pd.Series([60,70,80,90,100], index=['f', 'g', 'h', 'i', 'j'])\n",
    "  }\n",
    "df=pd.DataFrame(d)\n",
    "print(df)"
   ]
  },
  {
   "cell_type": "markdown",
   "id": "d9655ac3",
   "metadata": {},
   "source": [
    "### dealing with rows and columns"
   ]
  },
  {
   "cell_type": "code",
   "execution_count": 19,
   "id": "13cecd7f",
   "metadata": {},
   "outputs": [
    {
     "name": "stdout",
     "output_type": "stream",
     "text": [
      "      Name  Age Qualification  Gender       City    Country\n",
      "0    Alice   25      Bachelor  Female   New York        USA\n",
      "1      Bob   30        Master    Male     London         UK\n",
      "2  Charlie   35           PhD    Male      Tokyo      Japan\n",
      "3    David   28        Master    Male      Paris     France\n",
      "4      Eva   32      Bachelor  Female     Berlin    Germany\n",
      "5    Frank   27        Master    Male     Sydney  Australia\n",
      "6    Grace   31           PhD  Female    Toronto     Canada\n",
      "7    Henry   29      Bachelor    Male     Mumbai      India\n",
      "8      Ivy   34        Master  Female  Singapore  Singapore\n",
      "9     Jack   26           PhD    Male      Dubai        UAE\n",
      "      Name  Gender    Country\n",
      "0    Alice  Female        USA\n",
      "1      Bob    Male         UK\n",
      "2  Charlie    Male      Japan\n",
      "3    David    Male     France\n",
      "4      Eva  Female    Germany\n",
      "5    Frank    Male  Australia\n",
      "6    Grace  Female     Canada\n",
      "7    Henry    Male      India\n",
      "8      Ivy  Female  Singapore\n",
      "9     Jack    Male        UAE\n"
     ]
    }
   ],
   "source": [
    "data = {\n",
    "    'Name': ['Alice', 'Bob', 'Charlie', 'David', 'Eva', 'Frank', 'Grace', 'Henry', 'Ivy', 'Jack'],\n",
    "    'Age': [25, 30, 35, 28, 32, 27, 31, 29, 34, 26],\n",
    "    'Qualification': ['Bachelor', 'Master', 'PhD', 'Master', 'Bachelor', 'Master', 'PhD', 'Bachelor', 'Master', 'PhD'],\n",
    "    'Gender': ['Female', 'Male', 'Male', 'Male', 'Female', 'Male', 'Female', 'Male', 'Female', 'Male'],\n",
    "    'City': ['New York', 'London', 'Tokyo', 'Paris', 'Berlin', 'Sydney', 'Toronto', 'Mumbai', 'Singapore', 'Dubai'],\n",
    "    'Country': ['USA', 'UK', 'Japan', 'France', 'Germany', 'Australia', 'Canada', 'India', 'Singapore', 'UAE']\n",
    "}\n",
    "\n",
    "df = pd.DataFrame(data)\n",
    "print(df)\n",
    "print(df[['Name','Gender','Country']])"
   ]
  },
  {
   "cell_type": "code",
   "execution_count": 21,
   "id": "39a0e572-11a7-425d-a9f7-98e5132b0259",
   "metadata": {},
   "outputs": [
    {
     "data": {
      "text/html": [
       "<div>\n",
       "<style scoped>\n",
       "    .dataframe tbody tr th:only-of-type {\n",
       "        vertical-align: middle;\n",
       "    }\n",
       "\n",
       "    .dataframe tbody tr th {\n",
       "        vertical-align: top;\n",
       "    }\n",
       "\n",
       "    .dataframe thead th {\n",
       "        text-align: right;\n",
       "    }\n",
       "</style>\n",
       "<table border=\"1\" class=\"dataframe\">\n",
       "  <thead>\n",
       "    <tr style=\"text-align: right;\">\n",
       "      <th></th>\n",
       "      <th>Name</th>\n",
       "      <th>Age</th>\n",
       "      <th>Qualification</th>\n",
       "      <th>Gender</th>\n",
       "      <th>City</th>\n",
       "      <th>Country</th>\n",
       "    </tr>\n",
       "  </thead>\n",
       "  <tbody>\n",
       "    <tr>\n",
       "      <th>0</th>\n",
       "      <td>Alice</td>\n",
       "      <td>25</td>\n",
       "      <td>Bachelor</td>\n",
       "      <td>Female</td>\n",
       "      <td>New York</td>\n",
       "      <td>USA</td>\n",
       "    </tr>\n",
       "    <tr>\n",
       "      <th>1</th>\n",
       "      <td>Bob</td>\n",
       "      <td>30</td>\n",
       "      <td>Master</td>\n",
       "      <td>Male</td>\n",
       "      <td>London</td>\n",
       "      <td>UK</td>\n",
       "    </tr>\n",
       "    <tr>\n",
       "      <th>2</th>\n",
       "      <td>Charlie</td>\n",
       "      <td>35</td>\n",
       "      <td>PhD</td>\n",
       "      <td>Male</td>\n",
       "      <td>Tokyo</td>\n",
       "      <td>Japan</td>\n",
       "    </tr>\n",
       "    <tr>\n",
       "      <th>3</th>\n",
       "      <td>David</td>\n",
       "      <td>28</td>\n",
       "      <td>Master</td>\n",
       "      <td>Male</td>\n",
       "      <td>Paris</td>\n",
       "      <td>France</td>\n",
       "    </tr>\n",
       "    <tr>\n",
       "      <th>4</th>\n",
       "      <td>Eva</td>\n",
       "      <td>32</td>\n",
       "      <td>Bachelor</td>\n",
       "      <td>Female</td>\n",
       "      <td>Berlin</td>\n",
       "      <td>Germany</td>\n",
       "    </tr>\n",
       "    <tr>\n",
       "      <th>5</th>\n",
       "      <td>Frank</td>\n",
       "      <td>27</td>\n",
       "      <td>Master</td>\n",
       "      <td>Male</td>\n",
       "      <td>Sydney</td>\n",
       "      <td>Australia</td>\n",
       "    </tr>\n",
       "    <tr>\n",
       "      <th>6</th>\n",
       "      <td>Grace</td>\n",
       "      <td>31</td>\n",
       "      <td>PhD</td>\n",
       "      <td>Female</td>\n",
       "      <td>Toronto</td>\n",
       "      <td>Canada</td>\n",
       "    </tr>\n",
       "    <tr>\n",
       "      <th>7</th>\n",
       "      <td>Henry</td>\n",
       "      <td>29</td>\n",
       "      <td>Bachelor</td>\n",
       "      <td>Male</td>\n",
       "      <td>Mumbai</td>\n",
       "      <td>India</td>\n",
       "    </tr>\n",
       "    <tr>\n",
       "      <th>8</th>\n",
       "      <td>Ivy</td>\n",
       "      <td>34</td>\n",
       "      <td>Master</td>\n",
       "      <td>Female</td>\n",
       "      <td>Singapore</td>\n",
       "      <td>Singapore</td>\n",
       "    </tr>\n",
       "    <tr>\n",
       "      <th>9</th>\n",
       "      <td>Jack</td>\n",
       "      <td>26</td>\n",
       "      <td>PhD</td>\n",
       "      <td>Male</td>\n",
       "      <td>Dubai</td>\n",
       "      <td>UAE</td>\n",
       "    </tr>\n",
       "  </tbody>\n",
       "</table>\n",
       "</div>"
      ],
      "text/plain": [
       "      Name  Age Qualification  Gender       City    Country\n",
       "0    Alice   25      Bachelor  Female   New York        USA\n",
       "1      Bob   30        Master    Male     London         UK\n",
       "2  Charlie   35           PhD    Male      Tokyo      Japan\n",
       "3    David   28        Master    Male      Paris     France\n",
       "4      Eva   32      Bachelor  Female     Berlin    Germany\n",
       "5    Frank   27        Master    Male     Sydney  Australia\n",
       "6    Grace   31           PhD  Female    Toronto     Canada\n",
       "7    Henry   29      Bachelor    Male     Mumbai      India\n",
       "8      Ivy   34        Master  Female  Singapore  Singapore\n",
       "9     Jack   26           PhD    Male      Dubai        UAE"
      ]
     },
     "execution_count": 21,
     "metadata": {},
     "output_type": "execute_result"
    }
   ],
   "source": [
    "df"
   ]
  },
  {
   "cell_type": "code",
   "execution_count": 18,
   "id": "4c8b2dfa",
   "metadata": {},
   "outputs": [
    {
     "name": "stdout",
     "output_type": "stream",
     "text": [
      "0       3401198.0\n",
      "1       3073734.0\n",
      "2       3093465.0\n",
      "3       3111162.0\n",
      "4       3127264.0\n",
      "          ...    \n",
      "879    29774448.0\n",
      "880    30243172.0\n",
      "881    30757669.0\n",
      "882    31298929.0\n",
      "883           NaN\n",
      "Name: Total population, Length: 884, dtype: float64\n"
     ]
    }
   ],
   "source": [
    "#asscess data from json file\n",
    "import pandas as pd\n",
    "import numpy as np\n",
    "data=pd.read_json(\"database.json\")\n",
    "df=data[\"Total population\"]\n",
    "print(df)"
   ]
  },
  {
   "cell_type": "markdown",
   "id": "4bd627b2",
   "metadata": {},
   "source": [
    "### working with missing data :\n",
    "Working with missing data in pandas involves handling and managing the absence of values or NaN (Not a Number) values in a data frame. Pandas provides several methods and functions to handle missing data effectively.\n",
    "\n",
    "Here are some common operations for working with missing data in pandas:\n",
    "\n",
    "1. Detecting missing values:\n",
    "\n",
    "isnull() and notnull(): These functions return a Boolean mask indicating which values are missing or not missing, respectively, in the data frame or a specific column.\n",
    "\n",
    "any() and all(): These functions can be used with isnull() to check if any or all values in a column or data frame are missing.\n",
    "\n",
    "2. Dropping missing values:\n",
    "\n",
    "dropna(): This function is used to drop rows or columns that contain missing values. It allows you to specify the axis (rows or columns) and other parameters to control the behavior of dropping.\n",
    "\n",
    "3. Filling missing values:\n",
    "\n",
    "fillna(): This function is used to fill missing values with a specified value or a predefined strategy. It can fill missing values forward or backward (using the previous or next non-missing value), or fill with a constant value, mean, median, or mode of the column.\n",
    "\n",
    "4. Replacing missing values:\n",
    "\n",
    "replace(): This function can be used to replace specific values, including missing values, with other values of your choice.\n",
    " \n",
    "5. Interpolating missing values:\n",
    "\n",
    "interpolate(): This function is used to interpolate missing values based on various interpolation methods such as linear, quadratic, cubic, etc. It estimates missing values based on existing values in a column or data frame.\n",
    "\n",
    "6. Counting missing values:\n",
    "\n",
    "isnull().sum(): This expression returns the count of missing values in each column of the data frame.\n",
    "\n",
    "count(): This function returns the count of non-missing values in each column."
   ]
  },
  {
   "cell_type": "code",
   "execution_count": 20,
   "id": "4a0e3da4",
   "metadata": {},
   "outputs": [
    {
     "name": "stdout",
     "output_type": "stream",
     "text": [
      "     A    B     C\n",
      "0  1.0  5.0   NaN\n",
      "1  2.0  NaN  10.0\n",
      "2  NaN  7.0  11.0\n",
      "3  4.0  8.0  12.0\n",
      "       A      B      C\n",
      "0  False  False   True\n",
      "1  False   True  False\n",
      "2   True  False  False\n",
      "3  False  False  False\n",
      "A    True\n",
      "B    True\n",
      "C    True\n",
      "dtype: bool\n",
      "A    False\n",
      "B    False\n",
      "C    False\n",
      "dtype: bool\n"
     ]
    }
   ],
   "source": [
    "#Detecting missing values:\n",
    "data = {'A': [1, 2, np.nan, 4],\n",
    "        'B': [5, np.nan, 7, 8],\n",
    "        'C': [np.nan, 10, 11, 12]}\n",
    "\n",
    "df = pd.DataFrame(data)\n",
    "print(df)\n",
    "# Detect missing values\n",
    "print(df.isnull())\n",
    "# print(\"***************************\")\n",
    "# print(\"***************************\")\n",
    "# Check if any values are missing in each column\n",
    "print(df.isnull().any())\n",
    "# print(\"***************************\")\n",
    "# print(\"***************************\")\n",
    "# Check if all values are missing in each column\n",
    "print(df.isnull().all())"
   ]
  },
  {
   "cell_type": "code",
   "execution_count": 21,
   "id": "b4678add",
   "metadata": {},
   "outputs": [
    {
     "name": "stdout",
     "output_type": "stream",
     "text": [
      "     A    B     C\n",
      "3  4.0  8.0  12.0\n",
      "***************************\n",
      "***************************\n",
      "Empty DataFrame\n",
      "Columns: []\n",
      "Index: [0, 1, 2, 3]\n"
     ]
    }
   ],
   "source": [
    "#Dropping missing values\n",
    "\n",
    "# Drop rows with missing values\n",
    "df_dropped_rows = df.dropna()\n",
    "print(df_dropped_rows)\n",
    "print(\"***************************\")\n",
    "print(\"***************************\")\n",
    "# Drop columns with missing values\n",
    "df_dropped_columns = df.dropna(axis=1)\n",
    "print(df_dropped_columns)"
   ]
  },
  {
   "cell_type": "code",
   "execution_count": 20,
   "id": "371fd1ac",
   "metadata": {},
   "outputs": [
    {
     "name": "stdout",
     "output_type": "stream",
     "text": [
      "     A    B     C\n",
      "0  1.0  5.0   NaN\n",
      "1  2.0  NaN  10.0\n",
      "2  NaN  7.0  11.0\n",
      "3  4.0  8.0  12.0\n",
      "     A    B     C\n",
      "0  1.0  5.0   8.0\n",
      "1  2.0  8.0  10.0\n",
      "2  8.0  7.0  11.0\n",
      "3  4.0  8.0  12.0\n",
      "***************************\n",
      "***************************\n",
      "          A         B     C\n",
      "0  1.000000  5.000000  11.0\n",
      "1  2.000000  6.666667  10.0\n",
      "2  2.333333  7.000000  11.0\n",
      "3  4.000000  8.000000  12.0\n",
      "***************************\n",
      "***************************\n",
      "     A    B     C\n",
      "0  1.0  5.0   NaN\n",
      "1  2.0  5.0  10.0\n",
      "2  2.0  7.0  11.0\n",
      "3  4.0  8.0  12.0\n"
     ]
    }
   ],
   "source": [
    "#Filling missing values\n",
    "\n",
    "# Fill missing values with a constant value\n",
    "df_filled_constant = df.fillna(8)\n",
    "print(df)\n",
    "print(df_filled_constant)\n",
    "print(\"***************************\")\n",
    "print(\"***************************\")\n",
    "# Fill missing values with the mean of the column\n",
    "df_filled_mean = df.fillna(df.mean())\n",
    "print(df_filled_mean)\n",
    "print(\"***************************\")\n",
    "print(\"***************************\")\n",
    "# Fill missing values forward (use the previous non-missing value)\n",
    "# df_filled_forward = df.fillna(method='bfill')\n",
    "df_filled_forward = df.fillna(method='ffill')\n",
    "\n",
    "print(df_filled_forward)\n"
   ]
  },
  {
   "cell_type": "code",
   "execution_count": 23,
   "id": "e29456fe",
   "metadata": {},
   "outputs": [
    {
     "name": "stdout",
     "output_type": "stream",
     "text": [
      "     A    B     C\n",
      "0  1.0  5.0  -1.0\n",
      "1  2.0 -1.0  10.0\n",
      "2 -1.0  7.0  11.0\n",
      "3  4.0  8.0  12.0\n"
     ]
    }
   ],
   "source": [
    "# Replace missing values\n",
    "# Replace missing values with a specific value\n",
    "df_replaced = df.replace(np.nan, -1)\n",
    "print(df_replaced)\n"
   ]
  },
  {
   "cell_type": "code",
   "execution_count": 24,
   "id": "53449bb1",
   "metadata": {},
   "outputs": [
    {
     "name": "stdout",
     "output_type": "stream",
     "text": [
      "     A    B     C\n",
      "0  1.0  5.0   NaN\n",
      "1  2.0  NaN  10.0\n",
      "2  NaN  7.0  11.0\n",
      "3  4.0  8.0  12.0\n",
      "     A    B     C\n",
      "0  1.0  5.0   NaN\n",
      "1  2.0  6.0  10.0\n",
      "2  3.0  7.0  11.0\n",
      "3  4.0  8.0  12.0\n"
     ]
    }
   ],
   "source": [
    "#Apologies for the confusion\n",
    "# Interpolate missing values\n",
    "print(df)\n",
    "df_interpolated = df.interpolate()\n",
    "print(df_interpolated)"
   ]
  },
  {
   "cell_type": "code",
   "execution_count": 28,
   "id": "37fa6666",
   "metadata": {},
   "outputs": [
    {
     "name": "stdout",
     "output_type": "stream",
     "text": [
      "Count of missing values using isnull().sum():\n",
      "A    1\n",
      "B    1\n",
      "C    1\n",
      "dtype: int64\n",
      "***************************\n",
      "***************************\n",
      "\n",
      "Count of non-missing values using count():\n",
      "A    3\n",
      "B    3\n",
      "C    3\n",
      "dtype: int64\n"
     ]
    }
   ],
   "source": [
    "#Counting missing values:\n",
    "# Count missing values in each column using isnull().sum()\n",
    "missing_count = df.isnull().sum()\n",
    "print(\"Count of missing values using isnull().sum():\")\n",
    "print(missing_count)\n",
    "print(\"***************************\")\n",
    "print(\"***************************\")\n",
    "# Count non-missing values in each column using count()\n",
    "non_missing_count = df.count()\n",
    "print(\"\\nCount of non-missing values using count():\")\n",
    "print(non_missing_count)"
   ]
  },
  {
   "cell_type": "markdown",
   "id": "96cdc28b",
   "metadata": {},
   "source": [
    "#### Iterating over rows and columns\n",
    "\n"
   ]
  },
  {
   "cell_type": "code",
   "execution_count": 7,
   "id": "ca0d8fe6",
   "metadata": {},
   "outputs": [
    {
     "name": "stdout",
     "output_type": "stream",
     "text": [
      "Iterating over rows using iterrows\n",
      "***************************\n",
      "   A  B  C\n",
      "0  1  4  7\n",
      "1  2  5  8\n",
      "2  3  6  9\n",
      "Row index: 0\n",
      "Row values: A    1\n",
      "B    4\n",
      "C    7\n",
      "Name: 0, dtype: int64\n",
      "\n",
      "Row index: 1\n",
      "Row values: A    2\n",
      "B    5\n",
      "C    8\n",
      "Name: 1, dtype: int64\n",
      "\n",
      "Row index: 2\n",
      "Row values: A    3\n",
      "B    6\n",
      "C    9\n",
      "Name: 2, dtype: int64\n",
      "\n"
     ]
    }
   ],
   "source": [
    "print(\"Iterating over rows using iterrows\")\n",
    "print(\"***************************\")\n",
    "data = {'A': [1, 2, 3],\n",
    "        'B': [4, 5, 6],\n",
    "        'C': [7, 8, 9]}\n",
    "\n",
    "df = pd.DataFrame(data)\n",
    "print(df)\n",
    "# Iterating over rows using iterrows()\n",
    "for index, row in df.iterrows():\n",
    "    print(f\"Row index: {index}\")\n",
    "    print(f\"Row values: {row}\\n\")"
   ]
  },
  {
   "cell_type": "code",
   "execution_count": 30,
   "id": "59e6dd3e",
   "metadata": {},
   "outputs": [
    {
     "name": "stdout",
     "output_type": "stream",
     "text": [
      "Iterating over columns using iteritems\n",
      "***************************\n",
      "Column name: A\n",
      "Column values: [1 2 3]\n",
      "\n",
      "Column name: B\n",
      "Column values: [4 5 6]\n",
      "\n",
      "Column name: C\n",
      "Column values: [7 8 9]\n",
      "\n"
     ]
    }
   ],
   "source": [
    "print(\"Iterating over columns using iteritems\")\n",
    "print(\"***************************\")\n",
    "\n",
    "data = {'A': [1, 2, 3],\n",
    "        'B': [4, 5, 6],\n",
    "        'C': [7, 8, 9]}\n",
    "\n",
    "df = pd.DataFrame(data)\n",
    "\n",
    "# Iterating over columns using items()\n",
    "for column_name, column_data in df.items():\n",
    "    print(f\"Column name: {column_name}\")\n",
    "    print(f\"Column values: {column_data.values}\\n\")"
   ]
  },
  {
   "cell_type": "markdown",
   "id": "cd2f8dae",
   "metadata": {},
   "source": [
    "### Pandas Dataframe/Series.head() method\n",
    "The head() method in pandas is used to return the first n rows of a DataFrame or Series. It provides a convenient way to quickly inspect the beginning of a dataset or a subset of it."
   ]
  },
  {
   "cell_type": "code",
   "execution_count": 10,
   "id": "6d5647c6",
   "metadata": {},
   "outputs": [
    {
     "name": "stdout",
     "output_type": "stream",
     "text": [
      "    Name  Age    Country\n",
      "0   John   25        USA\n",
      "1  Alice   30     Canada\n",
      "2    Bob   35         UK\n",
      "3   Jane   28  Australia\n",
      "4   Mike   32    Germany\n",
      "    Name  Age Country\n",
      "0   John   25     USA\n",
      "1  Alice   30  Canada\n"
     ]
    }
   ],
   "source": [
    "#in normal way\n",
    "data = {'Name': ['John', 'Alice', 'Bob', 'Jane', 'Mike'],\n",
    "        'Age': [25, 30, 35, 28, 32],\n",
    "        'Country': ['USA', 'Canada', 'UK', 'Australia', 'Germany']}\n",
    "\n",
    "df = pd.DataFrame(data)\n",
    "print(df)\n",
    "\n",
    "# Display the first 3 rows of the DataFrame\n",
    "print(df.head(2))"
   ]
  },
  {
   "cell_type": "code",
   "execution_count": 32,
   "id": "8239a42b",
   "metadata": {},
   "outputs": [
    {
     "name": "stdout",
     "output_type": "stream",
     "text": [
      "   Year Industry_aggregation_NZSIOC Industry_code_NZSIOC Industry_name_NZSIOC   \n",
      "0  2021                     Level 1                99999       All industries  \\\n",
      "1  2021                     Level 1                99999       All industries   \n",
      "2  2021                     Level 1                99999       All industries   \n",
      "\n",
      "                Units Variable_code   \n",
      "0  Dollars (millions)           H01  \\\n",
      "1  Dollars (millions)           H04   \n",
      "2  Dollars (millions)           H05   \n",
      "\n",
      "                                     Variable_name      Variable_category   \n",
      "0                                     Total income  Financial performance  \\\n",
      "1  Sales, government funding, grants and subsidies  Financial performance   \n",
      "2                Interest, dividends and donations  Financial performance   \n",
      "\n",
      "     Value                             Industry_code_ANZSIC06  \n",
      "0  757,504  ANZSIC06 divisions A-S (excluding classes K633...  \n",
      "1  674,890  ANZSIC06 divisions A-S (excluding classes K633...  \n",
      "2   49,593  ANZSIC06 divisions A-S (excluding classes K633...  \n"
     ]
    }
   ],
   "source": [
    "# by csv file\n",
    "data=pd.read_csv(\"data.csv\")\n",
    "df = pd.DataFrame(data)\n",
    "print(df.head(3))"
   ]
  },
  {
   "cell_type": "code",
   "execution_count": 33,
   "id": "d285bdfc",
   "metadata": {},
   "outputs": [
    {
     "name": "stdout",
     "output_type": "stream",
     "text": [
      "   Country  Year  Area (square kilometres)  Total population   \n",
      "0  Albania  2000                   28748.0         3401198.0  \\\n",
      "1  Albania  2001                   28748.0         3073734.0   \n",
      "2  Albania  2002                   28748.0         3093465.0   \n",
      "\n",
      "   Population density, pers. per sq. km  Population aged 0-14, male   \n",
      "0                             118.31077                    564851.0  \\\n",
      "1                             106.91992                    460732.0   \n",
      "2                             107.60627                    452373.0   \n",
      "\n",
      "   Population aged 0-14, female  Population aged 15-64, male   \n",
      "0                      529820.0                    1029446.0  \\\n",
      "1                      436652.0                     963612.0   \n",
      "2                      427711.0                     977294.0   \n",
      "\n",
      "   Population aged 15-64, female  Population aged 64+, male  ...   \n",
      "0                      1086946.0                    82588.0  ...  \\\n",
      "1                       980800.0                   108254.0  ...   \n",
      "2                       995773.0                   112546.0  ...   \n",
      "\n",
      "   Employment in industry and energy (ISIC Rev. 4 B-E), share of total employment   \n",
      "0                                                NaN                               \\\n",
      "1                                                NaN                                \n",
      "2                                                NaN                                \n",
      "\n",
      "   Employment in construction (ISIC Rev. 4 F), share of total employment   \n",
      "0                                                NaN                      \\\n",
      "1                                                NaN                       \n",
      "2                                                NaN                       \n",
      "\n",
      "   Employment in trade, hotels, restaurants, transport and communications (ISIC Rev. 4 G-J), share of total employment   \n",
      "0                                                NaN                                                                    \\\n",
      "1                                                NaN                                                                     \n",
      "2                                                NaN                                                                     \n",
      "\n",
      "   Employment in finance, real estate and business services (ISIC Rev. 4 K-N), share of total employment   \n",
      "0                                                NaN                                                      \\\n",
      "1                                                NaN                                                       \n",
      "2                                                NaN                                                       \n",
      "\n",
      "   Employment in public administration, education and health (ISIC Rev. 4 O-Q), share of total employment   \n",
      "0                                                NaN                                                       \\\n",
      "1                                                NaN                                                        \n",
      "2                                                NaN                                                        \n",
      "\n",
      "   Employment in other service activities (ISIC Rev. 4 R-U), share of total employment   \n",
      "0                                                NaN                                    \\\n",
      "1                                                NaN                                     \n",
      "2                                                NaN                                     \n",
      "\n",
      "   Persons killed in road accidents  Persons injured in road accidents   \n",
      "0                             280.0                              336.0  \\\n",
      "1                             297.0                              250.0   \n",
      "2                             250.0                              228.0   \n",
      "\n",
      "   Total length of motorways (km)  Total length of railway lines (km)  \n",
      "0                             NaN                               400.0  \n",
      "1                             NaN                               409.0  \n",
      "2                             NaN                               428.0  \n",
      "\n",
      "[3 rows x 79 columns]\n"
     ]
    }
   ],
   "source": [
    "# by json file\n",
    "data=pd.read_json(\"database.json\")\n",
    "df = pd.DataFrame(data)\n",
    "print(df.head(3))"
   ]
  },
  {
   "cell_type": "markdown",
   "id": "1ecdb104",
   "metadata": {},
   "source": [
    "### Dataframe/Series.tail() method\n",
    "The tail() method in pandas is used to return the last n rows of a DataFrame or Series. It is similar to the head() method, but it displays the end portion of the dataset."
   ]
  },
  {
   "cell_type": "code",
   "execution_count": 26,
   "id": "8b6b88e2",
   "metadata": {},
   "outputs": [
    {
     "name": "stdout",
     "output_type": "stream",
     "text": [
      "   Name  Age    Country\n",
      "2   Bob   35         UK\n",
      "3  Jane   28  Australia\n",
      "4  Mike   32    Germany\n"
     ]
    }
   ],
   "source": [
    "# by normal way\n",
    "data = {'Name': ['John', 'Alice', 'Bob', 'Jane', 'Mike'],\n",
    "        'Age': [25, 30, 35, 28, 32],\n",
    "        'Country': ['USA', 'Canada', 'UK', 'Australia', 'Germany']}\n",
    "\n",
    "df = pd.DataFrame(data)\n",
    "\n",
    "# Display the last 2 rows of the DataFrame\n",
    "print(df.tail(3))"
   ]
  },
  {
   "cell_type": "code",
   "execution_count": 35,
   "id": "a5fd300b",
   "metadata": {},
   "outputs": [
    {
     "name": "stdout",
     "output_type": "stream",
     "text": [
      "Name              [John, Alice, Bob, Jane, Mike]\n",
      "Age                         [25, 30, 35, 28, 32]\n",
      "Country    [USA, Canada, UK, Australia, Germany]\n",
      "dtype: object\n"
     ]
    }
   ],
   "source": [
    "series = pd.Series(data)\n",
    "\n",
    "# Display the last 3 elements of the Series\n",
    "print(series.tail(3))"
   ]
  },
  {
   "cell_type": "code",
   "execution_count": 13,
   "id": "5bcf6af4",
   "metadata": {},
   "outputs": [
    {
     "name": "stdout",
     "output_type": "stream",
     "text": [
      "        Country  Year  Area (square kilometres)  Total population  \\\n",
      "881  Uzbekistan  2014                  447400.0        30757669.0   \n",
      "882  Uzbekistan  2015                  447400.0        31298929.0   \n",
      "883  Uzbekistan  2016                  447400.0               NaN   \n",
      "\n",
      "     Population density, pers. per sq. km  Population aged 0-14, male  \\\n",
      "881                              68.74758                   4465526.0   \n",
      "882                              69.95737                   4567154.0   \n",
      "883                                   NaN                         NaN   \n",
      "\n",
      "     Population aged 0-14, female  Population aged 15-64, male  \\\n",
      "881                     4201156.0                   10410214.0   \n",
      "882                     4286838.0                   10566923.0   \n",
      "883                           NaN                          NaN   \n",
      "\n",
      "     Population aged 15-64, female  Population aged 64+, male  ...  \\\n",
      "881                     10451289.0                   539106.0  ...   \n",
      "882                     10599761.0                   561491.0  ...   \n",
      "883                            NaN                        NaN  ...   \n",
      "\n",
      "     Employment in industry and energy (ISIC Rev. 4 B-E), share of total employment  \\\n",
      "881                                                NaN                                \n",
      "882                                                NaN                                \n",
      "883                                                NaN                                \n",
      "\n",
      "     Employment in construction (ISIC Rev. 4 F), share of total employment  \\\n",
      "881                                                NaN                       \n",
      "882                                                NaN                       \n",
      "883                                                NaN                       \n",
      "\n",
      "     Employment in trade, hotels, restaurants, transport and communications (ISIC Rev. 4 G-J), share of total employment  \\\n",
      "881                                                NaN                                                                     \n",
      "882                                                NaN                                                                     \n",
      "883                                                NaN                                                                     \n",
      "\n",
      "     Employment in finance, real estate and business services (ISIC Rev. 4 K-N), share of total employment  \\\n",
      "881                                                NaN                                                       \n",
      "882                                                NaN                                                       \n",
      "883                                                NaN                                                       \n",
      "\n",
      "     Employment in public administration, education and health (ISIC Rev. 4 O-Q), share of total employment  \\\n",
      "881                                                NaN                                                        \n",
      "882                                                NaN                                                        \n",
      "883                                                NaN                                                        \n",
      "\n",
      "     Employment in other service activities (ISIC Rev. 4 R-U), share of total employment  \\\n",
      "881                                                NaN                                     \n",
      "882                                                NaN                                     \n",
      "883                                                NaN                                     \n",
      "\n",
      "     Persons killed in road accidents  Persons injured in road accidents  \\\n",
      "881                               NaN                                NaN   \n",
      "882                               NaN                                NaN   \n",
      "883                               NaN                                NaN   \n",
      "\n",
      "     Total length of motorways (km)  Total length of railway lines (km)  \n",
      "881                             NaN                                 NaN  \n",
      "882                             NaN                                 NaN  \n",
      "883                             NaN                                 NaN  \n",
      "\n",
      "[3 rows x 79 columns]\n"
     ]
    }
   ],
   "source": [
    "#by json file\n",
    "data=pd.read_json(\"database.json\")\n",
    "# print(data)\n",
    "df = pd.DataFrame(data)\n",
    "print(df.tail(3))"
   ]
  },
  {
   "cell_type": "code",
   "execution_count": 14,
   "id": "3a34cd05",
   "metadata": {},
   "outputs": [
    {
     "name": "stdout",
     "output_type": "stream",
     "text": [
      "       Year Industry_aggregation_NZSIOC Industry_code_NZSIOC  \\\n",
      "41712  2013                     Level 3                 ZZ11   \n",
      "41713  2013                     Level 3                 ZZ11   \n",
      "41714  2013                     Level 3                 ZZ11   \n",
      "\n",
      "             Industry_name_NZSIOC       Units Variable_code  \\\n",
      "41712  Food product manufacturing  Percentage           H39   \n",
      "41713  Food product manufacturing  Percentage           H40   \n",
      "41714  Food product manufacturing  Percentage           H41   \n",
      "\n",
      "                Variable_name Variable_category Value  \\\n",
      "41712        Return on equity  Financial ratios    12   \n",
      "41713  Return on total assets  Financial ratios     5   \n",
      "41714   Liabilities structure  Financial ratios    46   \n",
      "\n",
      "                                  Industry_code_ANZSIC06  \n",
      "41712  ANZSIC06 groups C111, C112, C113, C114, C115, ...  \n",
      "41713  ANZSIC06 groups C111, C112, C113, C114, C115, ...  \n",
      "41714  ANZSIC06 groups C111, C112, C113, C114, C115, ...  \n"
     ]
    }
   ],
   "source": [
    "# by csv file\n",
    "data=pd.read_csv(\"data.csv\")\n",
    "df = pd.DataFrame(data)\n",
    "print(df.tail(3))"
   ]
  },
  {
   "cell_type": "markdown",
   "id": "e334943d",
   "metadata": {},
   "source": [
    "### Pandas Dataframe.to_numpy()\n",
    "to_numpy() method in pandas is used to convert a DataFrame to its underlying NumPy array representation. It returns a NumPy array containing the values from the DataFrame."
   ]
  },
  {
   "cell_type": "code",
   "execution_count": 15,
   "id": "099f44f1",
   "metadata": {},
   "outputs": [
    {
     "name": "stdout",
     "output_type": "stream",
     "text": [
      "[['John' 25 'USA']\n",
      " ['Alice' 30 'Canada']\n",
      " ['Bob' 35 'UK']]\n"
     ]
    }
   ],
   "source": [
    "data = {'Name': ['John', 'Alice', 'Bob'],\n",
    "        'Age': [25, 30, 35],\n",
    "        'Country': ['USA', 'Canada', 'UK']}\n",
    "\n",
    "df = pd.DataFrame(data)\n",
    "\n",
    "# Convert DataFrame to NumPy array\n",
    "numpy_array = df.to_numpy()\n",
    "\n",
    "print(numpy_array)"
   ]
  },
  {
   "cell_type": "code",
   "execution_count": 16,
   "id": "8ec6672c",
   "metadata": {},
   "outputs": [
    {
     "name": "stdout",
     "output_type": "stream",
     "text": [
      "[[2021 'Level 1' '99999' ... 'Financial performance' '757,504'\n",
      "  'ANZSIC06 divisions A-S (excluding classes K6330, L6711, O7552, O760, O771, O772, S9540, S9601, S9602, and S9603)']\n",
      " [2021 'Level 1' '99999' ... 'Financial performance' '674,890'\n",
      "  'ANZSIC06 divisions A-S (excluding classes K6330, L6711, O7552, O760, O771, O772, S9540, S9601, S9602, and S9603)']\n",
      " [2021 'Level 1' '99999' ... 'Financial performance' '49,593'\n",
      "  'ANZSIC06 divisions A-S (excluding classes K6330, L6711, O7552, O760, O771, O772, S9540, S9601, S9602, and S9603)']\n",
      " ...\n",
      " [2013 'Level 3' 'ZZ11' ... 'Financial ratios' '12'\n",
      "  'ANZSIC06 groups C111, C112, C113, C114, C115, C116, C117, C118, and C119']\n",
      " [2013 'Level 3' 'ZZ11' ... 'Financial ratios' '5'\n",
      "  'ANZSIC06 groups C111, C112, C113, C114, C115, C116, C117, C118, and C119']\n",
      " [2013 'Level 3' 'ZZ11' ... 'Financial ratios' '46'\n",
      "  'ANZSIC06 groups C111, C112, C113, C114, C115, C116, C117, C118, and C119']]\n"
     ]
    }
   ],
   "source": [
    "#by csv file\n",
    "data=pd.read_csv(\"data.csv\")\n",
    "df = pd.DataFrame(data)\n",
    "numpy_array = df.to_numpy()\n",
    "print(numpy_array)"
   ]
  },
  {
   "cell_type": "code",
   "execution_count": 17,
   "id": "921d15d0",
   "metadata": {},
   "outputs": [
    {
     "name": "stdout",
     "output_type": "stream",
     "text": [
      "[['Albania' 2000 28748.0 ... 336.0 nan 400.0]\n",
      " ['Albania' 2001 28748.0 ... 250.0 nan 409.0]\n",
      " ['Albania' 2002 28748.0 ... 228.0 nan 428.0]\n",
      " ...\n",
      " ['Uzbekistan' 2014 447400.0 ... nan nan nan]\n",
      " ['Uzbekistan' 2015 447400.0 ... nan nan nan]\n",
      " ['Uzbekistan' 2016 447400.0 ... nan nan nan]]\n"
     ]
    }
   ],
   "source": [
    "# by json file\n",
    "data=pd.read_json(\"database.json\")\n",
    "df = pd.DataFrame(data)\n",
    "numpy_array = df.to_numpy()\n",
    "\n",
    "print(numpy_array)"
   ]
  },
  {
   "cell_type": "markdown",
   "id": "d674bbbd",
   "metadata": {},
   "source": [
    "#### Pandas Dataframe.describe() method\n",
    "The describe() method in pandas is used to generate descriptive statistics of a DataFrame. It provides a summary of the central tendency, dispersion, and shape of the distribution of numerical columns in the DataFrame.\n"
   ]
  },
  {
   "cell_type": "code",
   "execution_count": 41,
   "id": "9bfe568d",
   "metadata": {},
   "outputs": [
    {
     "name": "stdout",
     "output_type": "stream",
     "text": [
      "             Age       Salary\n",
      "count   5.000000      5.00000\n",
      "mean   30.000000  60000.00000\n",
      "std     3.807887   7905.69415\n",
      "min    25.000000  50000.00000\n",
      "25%    28.000000  55000.00000\n",
      "50%    30.000000  60000.00000\n",
      "75%    32.000000  65000.00000\n",
      "max    35.000000  70000.00000\n"
     ]
    }
   ],
   "source": [
    "data = {'Name': ['John', 'Alice', 'Bob', 'Jane', 'Mike'],\n",
    "        'Age': [25, 30, 35, 28, 32],\n",
    "        'Salary': [50000, 60000, 70000, 55000, 65000]}\n",
    "\n",
    "df = pd.DataFrame(data)\n",
    "\n",
    "# Generate descriptive statistics of the DataFrame\n",
    "description = df.describe()\n",
    "\n",
    "print(description)"
   ]
  },
  {
   "cell_type": "code",
   "execution_count": 18,
   "id": "75211084",
   "metadata": {},
   "outputs": [
    {
     "name": "stdout",
     "output_type": "stream",
     "text": [
      "              Year  Area (square kilometres)  Total population  \\\n",
      "count   884.000000              8.810000e+02      7.860000e+02   \n",
      "mean   2008.000000              8.597709e+05      2.368150e+07   \n",
      "std       4.901753              2.795082e+06      4.801203e+07   \n",
      "min    2000.000000              3.160000e+02      2.812050e+05   \n",
      "25%    2004.000000              4.152600e+04      3.615421e+06   \n",
      "50%    2008.000000              8.836100e+04      7.501732e+06   \n",
      "75%    2012.000000              3.237590e+05      1.996501e+07   \n",
      "max    2016.000000              1.707540e+07      3.214188e+08   \n",
      "\n",
      "       Population density, pers. per sq. km  Population aged 0-14, male  \\\n",
      "count                            786.000000                7.850000e+02   \n",
      "mean                             122.029854                2.259789e+06   \n",
      "std                              183.847053                4.782705e+06   \n",
      "min                                2.730150                3.144650e+04   \n",
      "25%                               45.088125                3.503615e+05   \n",
      "50%                               83.777600                7.526380e+05   \n",
      "75%                              114.374845                1.941220e+06   \n",
      "max                             1352.417720                3.127212e+07   \n",
      "\n",
      "       Population aged 0-14, female  Population aged 15-64, male  \\\n",
      "count                  7.850000e+02                 7.850000e+02   \n",
      "mean                   2.150923e+06                 7.920301e+06   \n",
      "std                    4.568797e+06                 1.604057e+07   \n",
      "min                    2.977900e+04                 9.264900e+04   \n",
      "25%                    3.321560e+05                 1.275204e+06   \n",
      "50%                    7.167385e+05                 2.501736e+06   \n",
      "75%                    1.850981e+06                 6.834675e+06   \n",
      "max                    2.993030e+07                 1.059820e+08   \n",
      "\n",
      "       Population aged 15-64, female  Population aged 64+, male  \\\n",
      "count                   7.850000e+02               7.850000e+02   \n",
      "mean                    8.047888e+06               1.347857e+06   \n",
      "std                     1.631840e+07               2.738921e+06   \n",
      "min                     9.053500e+04               1.466150e+04   \n",
      "25%                     1.320342e+06               1.336080e+05   \n",
      "50%                     2.520100e+06               4.123800e+05   \n",
      "75%                     6.754485e+06               9.533885e+05   \n",
      "max                     1.066592e+08               2.109022e+07   \n",
      "\n",
      "       Population aged 64+, female  ...  \\\n",
      "count                 7.850000e+02  ...   \n",
      "mean                  1.979306e+06  ...   \n",
      "std                   3.887715e+06  ...   \n",
      "min                   1.788800e+04  ...   \n",
      "25%                   2.211995e+05  ...   \n",
      "50%                   6.406115e+05  ...   \n",
      "75%                   1.277036e+06  ...   \n",
      "max                   2.667064e+07  ...   \n",
      "\n",
      "       Employment in industry and energy (ISIC Rev. 4 B-E), share of total employment  \\\n",
      "count                                         564.000000                                \n",
      "mean                                           17.051100                                \n",
      "std                                             5.527363                                \n",
      "min                                             6.879870                                \n",
      "25%                                            12.320105                                \n",
      "50%                                            16.465175                                \n",
      "75%                                            21.106318                                \n",
      "max                                            30.594320                                \n",
      "\n",
      "       Employment in construction (ISIC Rev. 4 F), share of total employment  \\\n",
      "count                                         565.000000                       \n",
      "mean                                            7.225116                       \n",
      "std                                             1.679966                       \n",
      "min                                             3.904960                       \n",
      "25%                                             6.129290                       \n",
      "50%                                             6.943420                       \n",
      "75%                                             7.717050                       \n",
      "max                                            12.831630                       \n",
      "\n",
      "       Employment in trade, hotels, restaurants, transport and communications (ISIC Rev. 4 G-J), share of total employment  \\\n",
      "count                                         553.000000                                                                     \n",
      "mean                                           27.118779                                                                     \n",
      "std                                             3.719030                                                                     \n",
      "min                                            15.559430                                                                     \n",
      "25%                                            24.851050                                                                     \n",
      "50%                                            27.067670                                                                     \n",
      "75%                                            29.181760                                                                     \n",
      "max                                            41.264310                                                                     \n",
      "\n",
      "       Employment in finance, real estate and business services (ISIC Rev. 4 K-N), share of total employment  \\\n",
      "count                                         553.000000                                                       \n",
      "mean                                           12.404212                                                       \n",
      "std                                             5.066667                                                       \n",
      "min                                             2.486020                                                       \n",
      "25%                                             9.095500                                                       \n",
      "50%                                            12.058360                                                       \n",
      "75%                                            15.223780                                                       \n",
      "max                                            27.209650                                                       \n",
      "\n",
      "       Employment in public administration, education and health (ISIC Rev. 4 O-Q), share of total employment  \\\n",
      "count                                         553.000000                                                        \n",
      "mean                                           22.565510                                                        \n",
      "std                                             5.207111                                                        \n",
      "min                                             7.249620                                                        \n",
      "25%                                            18.973480                                                        \n",
      "50%                                            21.286200                                                        \n",
      "75%                                            26.071350                                                        \n",
      "max                                            35.197970                                                        \n",
      "\n",
      "       Employment in other service activities (ISIC Rev. 4 R-U), share of total employment  \\\n",
      "count                                         553.000000                                     \n",
      "mean                                            4.786559                                     \n",
      "std                                             1.815361                                     \n",
      "min                                             1.801990                                     \n",
      "25%                                             3.477260                                     \n",
      "50%                                             4.427190                                     \n",
      "75%                                             5.459150                                     \n",
      "max                                            10.973970                                     \n",
      "\n",
      "       Persons killed in road accidents  Persons injured in road accidents  \\\n",
      "count                        695.000000                       6.700000e+02   \n",
      "mean                        2797.952518                       1.062847e+05   \n",
      "std                         6944.001906                       3.779562e+05   \n",
      "min                            8.000000                       2.280000e+02   \n",
      "25%                          312.000000                       5.061000e+03   \n",
      "50%                          664.000000                       1.438050e+04   \n",
      "75%                         2160.000000                       4.872575e+04   \n",
      "max                        43510.000000                       3.189000e+06   \n",
      "\n",
      "       Total length of motorways (km)  Total length of railway lines (km)  \n",
      "count                      456.000000                          473.000000  \n",
      "mean                      4648.413114                        14136.353218  \n",
      "std                      15903.979548                        28217.273740  \n",
      "min                          0.000000                          274.000000  \n",
      "25%                        309.000000                         1912.000000  \n",
      "50%                        750.500000                         4077.000000  \n",
      "75%                       1776.675000                        12310.000000  \n",
      "max                     150000.000000                       161201.000000  \n",
      "\n",
      "[8 rows x 78 columns]\n"
     ]
    }
   ],
   "source": [
    "# by json file\n",
    "data=pd.read_json(\"database.json\")\n",
    "df = pd.DataFrame(data)\n",
    "description = df.describe()\n",
    "print(description)"
   ]
  },
  {
   "cell_type": "code",
   "execution_count": 19,
   "id": "13720183",
   "metadata": {},
   "outputs": [
    {
     "name": "stdout",
     "output_type": "stream",
     "text": [
      "              Year\n",
      "count  41715.00000\n",
      "mean    2017.00000\n",
      "std        2.58202\n",
      "min     2013.00000\n",
      "25%     2015.00000\n",
      "50%     2017.00000\n",
      "75%     2019.00000\n",
      "max     2021.00000\n"
     ]
    }
   ],
   "source": [
    "#by csv file\n",
    "data=pd.read_csv(\"data.csv\")\n",
    "df = pd.DataFrame(data)\n",
    "description = df.describe()\n",
    "\n",
    "print(description)"
   ]
  },
  {
   "cell_type": "markdown",
   "id": "7ede1a18",
   "metadata": {},
   "source": [
    "### Pandas Series.as_matrix()\n",
    "The Series.as_matrix() method in Pandas is used to convert a Pandas series object into a NumPy array.\n",
    "\n",
    "The method returns a one-dimensional NumPy array that contains the same data as the Pandas series. This can be useful for performing numerical computations using the powerful tools available in NumPy."
   ]
  },
  {
   "cell_type": "code",
   "execution_count": 44,
   "id": "7bd602d4",
   "metadata": {
    "scrolled": true
   },
   "outputs": [
    {
     "name": "stdout",
     "output_type": "stream",
     "text": [
      "John     1\n",
      "Alice    2\n",
      "Bob      3\n",
      "Jane     4\n",
      "Mike     5\n",
      "dtype: int64\n"
     ]
    }
   ],
   "source": [
    "#create series\n",
    "sr = pd.Series([1, 2, 3, 4, 5])\n",
    "#create index\n",
    "index_=['John', 'Alice', 'Bob', 'Jane', 'Mike']\n",
    "sr.index=index_\n",
    "print(sr)"
   ]
  },
  {
   "cell_type": "markdown",
   "id": "9d4fbdb3",
   "metadata": {},
   "source": [
    "### pandas series to a NumPy"
   ]
  },
  {
   "cell_type": "code",
   "execution_count": 45,
   "id": "d054644c",
   "metadata": {},
   "outputs": [
    {
     "name": "stdout",
     "output_type": "stream",
     "text": [
      "[1 2 3 4 5]\n",
      "************\n",
      "[1, 2, 3, 4, 5]\n",
      "************\n",
      "<class 'numpy.ndarray'>\n",
      "************\n",
      "[1. 2. 3. 4. 5.]\n",
      "************\n"
     ]
    }
   ],
   "source": [
    "s = pd.Series([1, 2, 3, 4, 5])\n",
    "\n",
    "# Convert the series to a NumPy array using to_numpy()\n",
    "arr = s.to_numpy()\n",
    "\n",
    "# Print the NumPy array\n",
    "print(arr)\n",
    "print(\"************\")\n",
    "print(list(arr))\n",
    "print(\"************\")\n",
    "print(type(s.to_numpy()))\n",
    "print(\"************\")\n",
    "print(s.to_numpy(dtype='float32'))\n",
    "print(\"************\")"
   ]
  },
  {
   "cell_type": "code",
   "execution_count": 20,
   "id": "2a53ea0f",
   "metadata": {},
   "outputs": [
    {
     "name": "stdout",
     "output_type": "stream",
     "text": [
      "0    2021\n",
      "1    2021\n",
      "2    2021\n",
      "3    2021\n",
      "4    2021\n",
      "Name: Year, dtype: int64\n"
     ]
    }
   ],
   "source": [
    "# by csv file\n",
    "data=pd.read_csv(\"data.csv\")\n",
    "data.dropna(inplace=True)\n",
    "#creating series from the Year\n",
    "arr=pd.Series(data['Year'].head())\n",
    "print(arr)"
   ]
  },
  {
   "cell_type": "code",
   "execution_count": 21,
   "id": "1555c143",
   "metadata": {},
   "outputs": [
    {
     "name": "stdout",
     "output_type": "stream",
     "text": [
      "125    Bulgaria\n",
      "126    Bulgaria\n",
      "127    Bulgaria\n",
      "163     Croatia\n",
      "164     Croatia\n",
      "Name: Country, dtype: object\n"
     ]
    }
   ],
   "source": [
    "# by json file\n",
    "data=pd.read_json(\"database.json\")\n",
    "data.dropna(inplace=True)\n",
    "#creating series from the Country\n",
    "arr=pd.Series(data['Country'].head())\n",
    "print(arr)"
   ]
  },
  {
   "cell_type": "markdown",
   "id": "eec622ac",
   "metadata": {},
   "source": [
    " ### Dealing with Rows and Columns in Pandas DataFrame\n"
   ]
  },
  {
   "cell_type": "markdown",
   "id": "b363e932",
   "metadata": {},
   "source": [
    "Pandas is a powerful library in Python for data manipulation and analysis. It provides a DataFrame object, which is a two-dimensional labeled data structure similar to a table or spreadsheet. In Pandas, you can deal with rows and columns in a DataFrame using various operations."
   ]
  },
  {
   "cell_type": "markdown",
   "id": "1302c57b",
   "metadata": {},
   "source": [
    "#### Dealing with columns\n",
    "Dealing with columns in a Pandas DataFrame involves various operations such as accessing columns, renaming columns, adding new columns, deleting columns, and performing calculations on columns. "
   ]
  },
  {
   "cell_type": "markdown",
   "id": "50dae3cc",
   "metadata": {},
   "source": [
    "###### Accessing Columns:\n",
    "To access a specific column in a DataFrame, you can use the indexing operator [] with the column name as a string. For example, if you have a DataFrame called df and you want to access the column \"column_name\", you can use df[\"column_name\"]. This will return a Series object containing the values of that column."
   ]
  },
  {
   "cell_type": "code",
   "execution_count": 28,
   "id": "3f611ad1",
   "metadata": {},
   "outputs": [
    {
     "name": "stdout",
     "output_type": "stream",
     "text": [
      "0    25\n",
      "1    28\n",
      "2    32\n",
      "Name: Age, dtype: int64\n"
     ]
    }
   ],
   "source": [
    "#in simple way \n",
    "import pandas as pd\n",
    "\n",
    "# Create a DataFrame\n",
    "data = {\n",
    "    \"Name\": [\"John\", \"Emma\", \"Ryan\"],\n",
    "    \"Age\": [25, 28, 32],\n",
    "    \"City\": [\"New York\", \"Paris\", \"London\"]\n",
    "}\n",
    "df = pd.DataFrame(data)\n",
    "\n",
    "# Access the \"age\" column\n",
    "name_column = df[\"Age\"]\n",
    "print(name_column)\n"
   ]
  },
  {
   "cell_type": "code",
   "execution_count": 49,
   "id": "f55912ad",
   "metadata": {},
   "outputs": [
    {
     "name": "stdout",
     "output_type": "stream",
     "text": [
      "0        2021\n",
      "1        2021\n",
      "2        2021\n",
      "3        2021\n",
      "4        2021\n",
      "         ... \n",
      "41710    2013\n",
      "41711    2013\n",
      "41712    2013\n",
      "41713    2013\n",
      "41714    2013\n",
      "Name: Year, Length: 41715, dtype: int64\n"
     ]
    }
   ],
   "source": [
    "# Read the CSV file into a DataFrame\n",
    "df = pd.read_csv(\"data.csv\")\n",
    "\n",
    "# Access a specific column\n",
    "column_name = df[\"Year\"]\n",
    "print(column_name)"
   ]
  },
  {
   "cell_type": "code",
   "execution_count": 22,
   "id": "26996a83",
   "metadata": {},
   "outputs": [
    {
     "name": "stdout",
     "output_type": "stream",
     "text": [
      "0         Albania\n",
      "1         Albania\n",
      "2         Albania\n",
      "3         Albania\n",
      "4         Albania\n",
      "          ...    \n",
      "879    Uzbekistan\n",
      "880    Uzbekistan\n",
      "881    Uzbekistan\n",
      "882    Uzbekistan\n",
      "883    Uzbekistan\n",
      "Name: Country, Length: 884, dtype: object\n"
     ]
    }
   ],
   "source": [
    "# Read the JSON file into a DataFrame\n",
    "df = pd.read_json(\"database.json\")\n",
    "\n",
    "# Access a specific column\n",
    "column_name = df[\"Country\"]\n",
    "print(column_name)"
   ]
  },
  {
   "cell_type": "markdown",
   "id": "00bccf4c",
   "metadata": {},
   "source": [
    "#### Renaming Columns\n",
    "To rename a column in a DataFrame, you can use the rename() method. It allows you to provide a dictionary where the keys represent the current column names, and the values represent the new column names. For example, df = df.rename(columns={\"old_name\": \"new_name\"}) will rename the column \"old_name\" to \"new_name\" in the DataFrame."
   ]
  },
  {
   "cell_type": "code",
   "execution_count": 51,
   "id": "c0b1545a",
   "metadata": {},
   "outputs": [
    {
     "name": "stdout",
     "output_type": "stream",
     "text": [
      "  Full Name  Age      City\n",
      "0      John   25  New York\n",
      "1      Emma   28     Paris\n",
      "2      Ryan   32    London\n"
     ]
    }
   ],
   "source": [
    "#in simple way \n",
    "# Create a DataFrame\n",
    "data = {\n",
    "    \"Name\": [\"John\", \"Emma\", \"Ryan\"],\n",
    "    \"Age\": [25, 28, 32],\n",
    "    \"City\": [\"New York\", \"Paris\", \"London\"]\n",
    "}\n",
    "df = pd.DataFrame(data)\n",
    "# Rename the \"Name\" column to \"Full Name\"\n",
    "df = df.rename(columns={\"Name\": \"Full Name\"})\n",
    "print(df)"
   ]
  },
  {
   "cell_type": "code",
   "execution_count": 23,
   "id": "2a17da3d",
   "metadata": {},
   "outputs": [
    {
     "name": "stdout",
     "output_type": "stream",
     "text": [
      "       saal Industry_aggregation_NZSIOC Industry_code_NZSIOC  \\\n",
      "0      2021                     Level 1                99999   \n",
      "1      2021                     Level 1                99999   \n",
      "2      2021                     Level 1                99999   \n",
      "3      2021                     Level 1                99999   \n",
      "4      2021                     Level 1                99999   \n",
      "...     ...                         ...                  ...   \n",
      "41710  2013                     Level 3                 ZZ11   \n",
      "41711  2013                     Level 3                 ZZ11   \n",
      "41712  2013                     Level 3                 ZZ11   \n",
      "41713  2013                     Level 3                 ZZ11   \n",
      "41714  2013                     Level 3                 ZZ11   \n",
      "\n",
      "             Industry_name_NZSIOC               Units Variable_code  \\\n",
      "0                  All industries  Dollars (millions)           H01   \n",
      "1                  All industries  Dollars (millions)           H04   \n",
      "2                  All industries  Dollars (millions)           H05   \n",
      "3                  All industries  Dollars (millions)           H07   \n",
      "4                  All industries  Dollars (millions)           H08   \n",
      "...                           ...                 ...           ...   \n",
      "41710  Food product manufacturing          Percentage           H37   \n",
      "41711  Food product manufacturing          Percentage           H38   \n",
      "41712  Food product manufacturing          Percentage           H39   \n",
      "41713  Food product manufacturing          Percentage           H40   \n",
      "41714  Food product manufacturing          Percentage           H41   \n",
      "\n",
      "                                         Variable_name      Variable_category  \\\n",
      "0                                         Total income  Financial performance   \n",
      "1      Sales, government funding, grants and subsidies  Financial performance   \n",
      "2                    Interest, dividends and donations  Financial performance   \n",
      "3                                 Non-operating income  Financial performance   \n",
      "4                                    Total expenditure  Financial performance   \n",
      "...                                                ...                    ...   \n",
      "41710                                      Quick ratio       Financial ratios   \n",
      "41711              Margin on sales of goods for resale       Financial ratios   \n",
      "41712                                 Return on equity       Financial ratios   \n",
      "41713                           Return on total assets       Financial ratios   \n",
      "41714                            Liabilities structure       Financial ratios   \n",
      "\n",
      "         Value                             Industry_code_ANZSIC06  \n",
      "0      757,504  ANZSIC06 divisions A-S (excluding classes K633...  \n",
      "1      674,890  ANZSIC06 divisions A-S (excluding classes K633...  \n",
      "2       49,593  ANZSIC06 divisions A-S (excluding classes K633...  \n",
      "3       33,020  ANZSIC06 divisions A-S (excluding classes K633...  \n",
      "4      654,404  ANZSIC06 divisions A-S (excluding classes K633...  \n",
      "...        ...                                                ...  \n",
      "41710       52  ANZSIC06 groups C111, C112, C113, C114, C115, ...  \n",
      "41711       40  ANZSIC06 groups C111, C112, C113, C114, C115, ...  \n",
      "41712       12  ANZSIC06 groups C111, C112, C113, C114, C115, ...  \n",
      "41713        5  ANZSIC06 groups C111, C112, C113, C114, C115, ...  \n",
      "41714       46  ANZSIC06 groups C111, C112, C113, C114, C115, ...  \n",
      "\n",
      "[41715 rows x 10 columns]\n"
     ]
    }
   ],
   "source": [
    "# Read the CSV file into a DataFrame\n",
    "df = pd.read_csv(\"data.csv\")\n",
    "# Rename the \"Name\" column to \"Full Name\"\n",
    "df = df.rename(columns={\"Year\": \"saal\"})\n",
    "print(df)"
   ]
  },
  {
   "cell_type": "code",
   "execution_count": 53,
   "id": "ec8483e8",
   "metadata": {},
   "outputs": [
    {
     "name": "stdout",
     "output_type": "stream",
     "text": [
      "           desh  Year  Area (square kilometres)  Total population   \n",
      "0       Albania  2000                   28748.0         3401198.0  \\\n",
      "1       Albania  2001                   28748.0         3073734.0   \n",
      "2       Albania  2002                   28748.0         3093465.0   \n",
      "3       Albania  2003                   28748.0         3111162.0   \n",
      "4       Albania  2004                   28748.0         3127264.0   \n",
      "..          ...   ...                       ...               ...   \n",
      "879  Uzbekistan  2012                  447400.0        29774448.0   \n",
      "880  Uzbekistan  2013                  447400.0        30243172.0   \n",
      "881  Uzbekistan  2014                  447400.0        30757669.0   \n",
      "882  Uzbekistan  2015                  447400.0        31298929.0   \n",
      "883  Uzbekistan  2016                  447400.0               NaN   \n",
      "\n",
      "     Population density, pers. per sq. km  Population aged 0-14, male   \n",
      "0                               118.31077                    564851.0  \\\n",
      "1                               106.91992                    460732.0   \n",
      "2                               107.60627                    452373.0   \n",
      "3                               108.22186                    442939.0   \n",
      "4                               108.78197                    433178.0   \n",
      "..                                    ...                         ...   \n",
      "879                              66.54995                   4342195.0   \n",
      "880                              67.59761                   4384094.0   \n",
      "881                              68.74758                   4465526.0   \n",
      "882                              69.95737                   4567154.0   \n",
      "883                                   NaN                         NaN   \n",
      "\n",
      "     Population aged 0-14, female  Population aged 15-64, male   \n",
      "0                        529820.0                    1029446.0  \\\n",
      "1                        436652.0                     963612.0   \n",
      "2                        427711.0                     977294.0   \n",
      "3                        417968.0                     991075.0   \n",
      "4                        407988.0                    1004398.0   \n",
      "..                            ...                          ...   \n",
      "879                     4101477.0                   10046617.0   \n",
      "880                     4133279.0                   10238024.0   \n",
      "881                     4201156.0                   10410214.0   \n",
      "882                     4286838.0                   10566923.0   \n",
      "883                           NaN                          NaN   \n",
      "\n",
      "     Population aged 15-64, female  Population aged 64+, male  ...   \n",
      "0                        1086946.0                    82588.0  ...  \\\n",
      "1                         980800.0                   108254.0  ...   \n",
      "2                         995773.0                   112546.0  ...   \n",
      "3                        1010693.0                   116714.0  ...   \n",
      "4                        1024845.0                   120801.0  ...   \n",
      "..                             ...                        ...  ...   \n",
      "879                     10103648.0                   516791.0  ...   \n",
      "880                     10286713.0                   525998.0  ...   \n",
      "881                     10451289.0                   539106.0  ...   \n",
      "882                     10599761.0                   561491.0  ...   \n",
      "883                            NaN                        NaN  ...   \n",
      "\n",
      "     Employment in industry and energy (ISIC Rev. 4 B-E), share of total employment   \n",
      "0                                                  NaN                               \\\n",
      "1                                                  NaN                                \n",
      "2                                                  NaN                                \n",
      "3                                                  NaN                                \n",
      "4                                                  NaN                                \n",
      "..                                                 ...                                \n",
      "879                                                NaN                                \n",
      "880                                                NaN                                \n",
      "881                                                NaN                                \n",
      "882                                                NaN                                \n",
      "883                                                NaN                                \n",
      "\n",
      "     Employment in construction (ISIC Rev. 4 F), share of total employment   \n",
      "0                                                  NaN                      \\\n",
      "1                                                  NaN                       \n",
      "2                                                  NaN                       \n",
      "3                                                  NaN                       \n",
      "4                                                  NaN                       \n",
      "..                                                 ...                       \n",
      "879                                                NaN                       \n",
      "880                                                NaN                       \n",
      "881                                                NaN                       \n",
      "882                                                NaN                       \n",
      "883                                                NaN                       \n",
      "\n",
      "     Employment in trade, hotels, restaurants, transport and communications (ISIC Rev. 4 G-J), share of total employment   \n",
      "0                                                  NaN                                                                    \\\n",
      "1                                                  NaN                                                                     \n",
      "2                                                  NaN                                                                     \n",
      "3                                                  NaN                                                                     \n",
      "4                                                  NaN                                                                     \n",
      "..                                                 ...                                                                     \n",
      "879                                                NaN                                                                     \n",
      "880                                                NaN                                                                     \n",
      "881                                                NaN                                                                     \n",
      "882                                                NaN                                                                     \n",
      "883                                                NaN                                                                     \n",
      "\n",
      "     Employment in finance, real estate and business services (ISIC Rev. 4 K-N), share of total employment   \n",
      "0                                                  NaN                                                      \\\n",
      "1                                                  NaN                                                       \n",
      "2                                                  NaN                                                       \n",
      "3                                                  NaN                                                       \n",
      "4                                                  NaN                                                       \n",
      "..                                                 ...                                                       \n",
      "879                                                NaN                                                       \n",
      "880                                                NaN                                                       \n",
      "881                                                NaN                                                       \n",
      "882                                                NaN                                                       \n",
      "883                                                NaN                                                       \n",
      "\n",
      "     Employment in public administration, education and health (ISIC Rev. 4 O-Q), share of total employment   \n",
      "0                                                  NaN                                                       \\\n",
      "1                                                  NaN                                                        \n",
      "2                                                  NaN                                                        \n",
      "3                                                  NaN                                                        \n",
      "4                                                  NaN                                                        \n",
      "..                                                 ...                                                        \n",
      "879                                                NaN                                                        \n",
      "880                                                NaN                                                        \n",
      "881                                                NaN                                                        \n",
      "882                                                NaN                                                        \n",
      "883                                                NaN                                                        \n",
      "\n",
      "     Employment in other service activities (ISIC Rev. 4 R-U), share of total employment   \n",
      "0                                                  NaN                                    \\\n",
      "1                                                  NaN                                     \n",
      "2                                                  NaN                                     \n",
      "3                                                  NaN                                     \n",
      "4                                                  NaN                                     \n",
      "..                                                 ...                                     \n",
      "879                                                NaN                                     \n",
      "880                                                NaN                                     \n",
      "881                                                NaN                                     \n",
      "882                                                NaN                                     \n",
      "883                                                NaN                                     \n",
      "\n",
      "     Persons killed in road accidents  Persons injured in road accidents   \n",
      "0                               280.0                              336.0  \\\n",
      "1                               297.0                              250.0   \n",
      "2                               250.0                              228.0   \n",
      "3                               264.0                              248.0   \n",
      "4                               315.0                              820.0   \n",
      "..                                ...                                ...   \n",
      "879                            2161.0                           112228.0   \n",
      "880                               NaN                                NaN   \n",
      "881                               NaN                                NaN   \n",
      "882                               NaN                                NaN   \n",
      "883                               NaN                                NaN   \n",
      "\n",
      "     Total length of motorways (km)  Total length of railway lines (km)  \n",
      "0                               NaN                               400.0  \n",
      "1                               NaN                               409.0  \n",
      "2                               NaN                               428.0  \n",
      "3                               NaN                               428.0  \n",
      "4                               NaN                               428.0  \n",
      "..                              ...                                 ...  \n",
      "879                             NaN                                 NaN  \n",
      "880                             NaN                                 NaN  \n",
      "881                             NaN                                 NaN  \n",
      "882                             NaN                                 NaN  \n",
      "883                             NaN                                 NaN  \n",
      "\n",
      "[884 rows x 79 columns]\n"
     ]
    }
   ],
   "source": [
    "# Read the JSON file into a DataFrame\n",
    "df = pd.read_json(\"database.json\")\n",
    "# Rename the \"country\" column to \"desh\"\n",
    "df = df.rename(columns={\"Country\": \"desh\"})\n",
    "print(df)"
   ]
  },
  {
   "cell_type": "markdown",
   "id": "9e61fe0b",
   "metadata": {},
   "source": [
    "#### Adding New Columns:\n",
    "To add a new column to a DataFrame, you can assign a new Series or an array to a new column name. For example, df[\"new_column\"] = [1, 2, 3, 4] will add a new column called \"new_column\" to the DataFrame and populate it with the provided values."
   ]
  },
  {
   "cell_type": "code",
   "execution_count": 54,
   "id": "b528667a",
   "metadata": {},
   "outputs": [
    {
     "name": "stdout",
     "output_type": "stream",
     "text": [
      "   Name  Age      City  Salary\n",
      "0  John   25  New York    5000\n",
      "1  Emma   28     Paris    6000\n",
      "2  Ryan   32    London    7000\n"
     ]
    }
   ],
   "source": [
    "#in simple way \n",
    "# Create a DataFrame\n",
    "data = {\n",
    "    \"Name\": [\"John\", \"Emma\", \"Ryan\"],\n",
    "    \"Age\": [25, 28, 32],\n",
    "    \"City\": [\"New York\", \"Paris\", \"London\"]\n",
    "}\n",
    "df = pd.DataFrame(data)\n",
    "# Add a new column \"Salary\"\n",
    "df[\"Salary\"] = [5000, 6000, 7000]\n",
    "print(df)"
   ]
  },
  {
   "cell_type": "markdown",
   "id": "101efd79",
   "metadata": {},
   "source": [
    "### Deleting Columns\n",
    "To delete a column from a DataFrame, you can use the drop() function. For example, df = df.drop(\"column_name\", axis=1) will remove the column named \"column_name\" from the DataFrame. The axis=1 parameter specifies that you are dropping a column."
   ]
  },
  {
   "cell_type": "code",
   "execution_count": 55,
   "id": "ab0350c6",
   "metadata": {},
   "outputs": [
    {
     "name": "stdout",
     "output_type": "stream",
     "text": [
      "   Name  Age  Salary\n",
      "0  John   25    5000\n",
      "1  Emma   28    6000\n",
      "2  Ryan   32    7000\n"
     ]
    }
   ],
   "source": [
    "# Delete the \"City\" column\n",
    "df = df.drop(\"City\", axis=1)\n",
    "print(df)"
   ]
  },
  {
   "cell_type": "markdown",
   "id": "e8e6e566",
   "metadata": {},
   "source": [
    "### Calculations on Columns:\n",
    "You can perform calculations on columns using arithmetic operators. For example, if you have two columns \"column1\" and \"column2\" in a DataFrame, you can create a new column \"sum_column\" that contains the sum of the two columns using the following syntax: df[\"sum_column\"] = df[\"column1\"] + df[\"column2\"]. Similarly, you can use other arithmetic operators like subtraction (-), multiplication (*), and division (/) to perform calculations on columns."
   ]
  },
  {
   "cell_type": "code",
   "execution_count": 24,
   "id": "2be177a0",
   "metadata": {},
   "outputs": [
    {
     "ename": "KeyError",
     "evalue": "'Salary'",
     "output_type": "error",
     "traceback": [
      "\u001b[1;31m---------------------------------------------------------------------------\u001b[0m",
      "\u001b[1;31mKeyError\u001b[0m                                  Traceback (most recent call last)",
      "\u001b[1;32mc:\\users\\admin\\appdata\\local\\programs\\python\\python37\\lib\\site-packages\\pandas\\core\\indexes\\base.py\u001b[0m in \u001b[0;36mget_loc\u001b[1;34m(self, key, method, tolerance)\u001b[0m\n\u001b[0;32m   3360\u001b[0m             \u001b[1;32mtry\u001b[0m\u001b[1;33m:\u001b[0m\u001b[1;33m\u001b[0m\u001b[1;33m\u001b[0m\u001b[0m\n\u001b[1;32m-> 3361\u001b[1;33m                 \u001b[1;32mreturn\u001b[0m \u001b[0mself\u001b[0m\u001b[1;33m.\u001b[0m\u001b[0m_engine\u001b[0m\u001b[1;33m.\u001b[0m\u001b[0mget_loc\u001b[0m\u001b[1;33m(\u001b[0m\u001b[0mcasted_key\u001b[0m\u001b[1;33m)\u001b[0m\u001b[1;33m\u001b[0m\u001b[1;33m\u001b[0m\u001b[0m\n\u001b[0m\u001b[0;32m   3362\u001b[0m             \u001b[1;32mexcept\u001b[0m \u001b[0mKeyError\u001b[0m \u001b[1;32mas\u001b[0m \u001b[0merr\u001b[0m\u001b[1;33m:\u001b[0m\u001b[1;33m\u001b[0m\u001b[1;33m\u001b[0m\u001b[0m\n",
      "\u001b[1;32mc:\\users\\admin\\appdata\\local\\programs\\python\\python37\\lib\\site-packages\\pandas\\_libs\\index.pyx\u001b[0m in \u001b[0;36mpandas._libs.index.IndexEngine.get_loc\u001b[1;34m()\u001b[0m\n",
      "\u001b[1;32mc:\\users\\admin\\appdata\\local\\programs\\python\\python37\\lib\\site-packages\\pandas\\_libs\\index.pyx\u001b[0m in \u001b[0;36mpandas._libs.index.IndexEngine.get_loc\u001b[1;34m()\u001b[0m\n",
      "\u001b[1;32mpandas\\_libs\\hashtable_class_helper.pxi\u001b[0m in \u001b[0;36mpandas._libs.hashtable.PyObjectHashTable.get_item\u001b[1;34m()\u001b[0m\n",
      "\u001b[1;32mpandas\\_libs\\hashtable_class_helper.pxi\u001b[0m in \u001b[0;36mpandas._libs.hashtable.PyObjectHashTable.get_item\u001b[1;34m()\u001b[0m\n",
      "\u001b[1;31mKeyError\u001b[0m: 'Salary'",
      "\nThe above exception was the direct cause of the following exception:\n",
      "\u001b[1;31mKeyError\u001b[0m                                  Traceback (most recent call last)",
      "\u001b[1;32m~\\AppData\\Local\\Temp\\ipykernel_7372\\338875118.py\u001b[0m in \u001b[0;36m<module>\u001b[1;34m\u001b[0m\n\u001b[0;32m      1\u001b[0m \u001b[1;31m# Create a new column \"Total Salary\" as the sum of \"Salary\" and 1000\u001b[0m\u001b[1;33m\u001b[0m\u001b[1;33m\u001b[0m\u001b[1;33m\u001b[0m\u001b[0m\n\u001b[1;32m----> 2\u001b[1;33m \u001b[0mdf\u001b[0m\u001b[1;33m[\u001b[0m\u001b[1;34m\"Total Salary\"\u001b[0m\u001b[1;33m]\u001b[0m \u001b[1;33m=\u001b[0m \u001b[0mdf\u001b[0m\u001b[1;33m[\u001b[0m\u001b[1;34m\"Salary\"\u001b[0m\u001b[1;33m]\u001b[0m \u001b[1;33m+\u001b[0m \u001b[1;36m1000\u001b[0m\u001b[1;33m\u001b[0m\u001b[1;33m\u001b[0m\u001b[0m\n\u001b[0m\u001b[0;32m      3\u001b[0m \u001b[0mprint\u001b[0m\u001b[1;33m(\u001b[0m\u001b[0mdf\u001b[0m\u001b[1;33m)\u001b[0m\u001b[1;33m\u001b[0m\u001b[1;33m\u001b[0m\u001b[0m\n",
      "\u001b[1;32mc:\\users\\admin\\appdata\\local\\programs\\python\\python37\\lib\\site-packages\\pandas\\core\\frame.py\u001b[0m in \u001b[0;36m__getitem__\u001b[1;34m(self, key)\u001b[0m\n\u001b[0;32m   3456\u001b[0m             \u001b[1;32mif\u001b[0m \u001b[0mself\u001b[0m\u001b[1;33m.\u001b[0m\u001b[0mcolumns\u001b[0m\u001b[1;33m.\u001b[0m\u001b[0mnlevels\u001b[0m \u001b[1;33m>\u001b[0m \u001b[1;36m1\u001b[0m\u001b[1;33m:\u001b[0m\u001b[1;33m\u001b[0m\u001b[1;33m\u001b[0m\u001b[0m\n\u001b[0;32m   3457\u001b[0m                 \u001b[1;32mreturn\u001b[0m \u001b[0mself\u001b[0m\u001b[1;33m.\u001b[0m\u001b[0m_getitem_multilevel\u001b[0m\u001b[1;33m(\u001b[0m\u001b[0mkey\u001b[0m\u001b[1;33m)\u001b[0m\u001b[1;33m\u001b[0m\u001b[1;33m\u001b[0m\u001b[0m\n\u001b[1;32m-> 3458\u001b[1;33m             \u001b[0mindexer\u001b[0m \u001b[1;33m=\u001b[0m \u001b[0mself\u001b[0m\u001b[1;33m.\u001b[0m\u001b[0mcolumns\u001b[0m\u001b[1;33m.\u001b[0m\u001b[0mget_loc\u001b[0m\u001b[1;33m(\u001b[0m\u001b[0mkey\u001b[0m\u001b[1;33m)\u001b[0m\u001b[1;33m\u001b[0m\u001b[1;33m\u001b[0m\u001b[0m\n\u001b[0m\u001b[0;32m   3459\u001b[0m             \u001b[1;32mif\u001b[0m \u001b[0mis_integer\u001b[0m\u001b[1;33m(\u001b[0m\u001b[0mindexer\u001b[0m\u001b[1;33m)\u001b[0m\u001b[1;33m:\u001b[0m\u001b[1;33m\u001b[0m\u001b[1;33m\u001b[0m\u001b[0m\n\u001b[0;32m   3460\u001b[0m                 \u001b[0mindexer\u001b[0m \u001b[1;33m=\u001b[0m \u001b[1;33m[\u001b[0m\u001b[0mindexer\u001b[0m\u001b[1;33m]\u001b[0m\u001b[1;33m\u001b[0m\u001b[1;33m\u001b[0m\u001b[0m\n",
      "\u001b[1;32mc:\\users\\admin\\appdata\\local\\programs\\python\\python37\\lib\\site-packages\\pandas\\core\\indexes\\base.py\u001b[0m in \u001b[0;36mget_loc\u001b[1;34m(self, key, method, tolerance)\u001b[0m\n\u001b[0;32m   3361\u001b[0m                 \u001b[1;32mreturn\u001b[0m \u001b[0mself\u001b[0m\u001b[1;33m.\u001b[0m\u001b[0m_engine\u001b[0m\u001b[1;33m.\u001b[0m\u001b[0mget_loc\u001b[0m\u001b[1;33m(\u001b[0m\u001b[0mcasted_key\u001b[0m\u001b[1;33m)\u001b[0m\u001b[1;33m\u001b[0m\u001b[1;33m\u001b[0m\u001b[0m\n\u001b[0;32m   3362\u001b[0m             \u001b[1;32mexcept\u001b[0m \u001b[0mKeyError\u001b[0m \u001b[1;32mas\u001b[0m \u001b[0merr\u001b[0m\u001b[1;33m:\u001b[0m\u001b[1;33m\u001b[0m\u001b[1;33m\u001b[0m\u001b[0m\n\u001b[1;32m-> 3363\u001b[1;33m                 \u001b[1;32mraise\u001b[0m \u001b[0mKeyError\u001b[0m\u001b[1;33m(\u001b[0m\u001b[0mkey\u001b[0m\u001b[1;33m)\u001b[0m \u001b[1;32mfrom\u001b[0m \u001b[0merr\u001b[0m\u001b[1;33m\u001b[0m\u001b[1;33m\u001b[0m\u001b[0m\n\u001b[0m\u001b[0;32m   3364\u001b[0m \u001b[1;33m\u001b[0m\u001b[0m\n\u001b[0;32m   3365\u001b[0m         \u001b[1;32mif\u001b[0m \u001b[0mis_scalar\u001b[0m\u001b[1;33m(\u001b[0m\u001b[0mkey\u001b[0m\u001b[1;33m)\u001b[0m \u001b[1;32mand\u001b[0m \u001b[0misna\u001b[0m\u001b[1;33m(\u001b[0m\u001b[0mkey\u001b[0m\u001b[1;33m)\u001b[0m \u001b[1;32mand\u001b[0m \u001b[1;32mnot\u001b[0m \u001b[0mself\u001b[0m\u001b[1;33m.\u001b[0m\u001b[0mhasnans\u001b[0m\u001b[1;33m:\u001b[0m\u001b[1;33m\u001b[0m\u001b[1;33m\u001b[0m\u001b[0m\n",
      "\u001b[1;31mKeyError\u001b[0m: 'Salary'"
     ]
    }
   ],
   "source": [
    "# Create a new column \"Total Salary\" as the sum of \"Salary\" and 1000\n",
    "df[\"Total Salary\"] = df[\"Salary\"] + 1000\n",
    "print(df)"
   ]
  },
  {
   "cell_type": "markdown",
   "id": "72850555",
   "metadata": {},
   "source": [
    "#### Applying Functions to Columns\n",
    "Pandas provides the apply() method to apply a function to each element of a column. You can define a custom function and use apply() to apply it to a column. For example, if you have a column \"column_name\" and you want to apply a function called my_function to each element of that column, you can use the following syntax: df[\"column_name\"] = df[\"column_name\"].apply(my_function)."
   ]
  },
  {
   "cell_type": "code",
   "execution_count": 57,
   "id": "2d65a595",
   "metadata": {},
   "outputs": [
    {
     "name": "stdout",
     "output_type": "stream",
     "text": [
      "   Name  Age  Salary  Total Salary  Age in Days\n",
      "0  John   25    5000          6000         9125\n",
      "1  Emma   28    6000          7000        10220\n",
      "2  Ryan   32    7000          8000        11680\n"
     ]
    }
   ],
   "source": [
    "# Define a function to convert age to days\n",
    "def age_to_days(age):\n",
    "    return age * 365\n",
    "\n",
    "# Apply the function to the \"Age\" column\n",
    "df[\"Age in Days\"] = df[\"Age\"].apply(age_to_days)\n",
    "print(df)\n"
   ]
  },
  {
   "cell_type": "markdown",
   "id": "95ce02af",
   "metadata": {},
   "source": [
    "##  Dealing with rows\n",
    "Dealing with rows in a Pandas DataFrame involves operations such as accessing rows, filtering rows based on conditions, adding new rows, and deleting rows."
   ]
  },
  {
   "cell_type": "markdown",
   "id": "9300c691",
   "metadata": {},
   "source": [
    "#### Accessing Rows:\n",
    "Pandas provides different methods to access rows in a DataFrame:"
   ]
  },
  {
   "cell_type": "markdown",
   "id": "72b842f5",
   "metadata": {},
   "source": [
    "##### iloc: \n",
    "to use the iloc indexer to access rows by their integer location. For example, to access the first row of a DataFrame, you can use df.iloc[0].\n",
    "iloc: You can use the iloc indexer to access rows by their integer location. For example, to access the first row of a DataFrame, you can use df.iloc[0].\n",
    "\n",
    "##### loc:\n",
    "The loc indexer is used to access rows by their label. If your DataFrame has row labels, you can use the loc indexer to access rows by their labels. For example, if you have a DataFrame with row labels and you want to access the row with label \"row_label\", you can use df.loc[\"row_label\"].\n",
    "\n",
    "##### Boolean indexing:\n",
    "to use Boolean indexing to filter rows based on a condition. For example, if you want to select rows where a certain condition is met, you can use a Boolean expression with the DataFrame. For example, df[df[\"column_name\"] > 10] will select rows where the value in \"column_name\" is greater than 10."
   ]
  },
  {
   "cell_type": "code",
   "execution_count": 25,
   "id": "36c98bd6",
   "metadata": {},
   "outputs": [
    {
     "data": {
      "text/plain": [
       "Name        John\n",
       "Age           25\n",
       "City    New York\n",
       "Name: A, dtype: object"
      ]
     },
     "execution_count": 25,
     "metadata": {},
     "output_type": "execute_result"
    }
   ],
   "source": [
    "import pandas as pd\n",
    "# Create a DataFrame\n",
    "data = {\n",
    "    \"Name\": [\"John\", \"Emma\", \"Ryan\"],    \n",
    "    \"Age\": [25, 28, 32],\n",
    "    \"City\": [\"New York\", \"Paris\", \"London\"]}\n",
    "df = pd.DataFrame(data, index = ['A', 'B','C'])\n",
    "# print(df)\n",
    "# Accessing rows using iloc\n",
    "# first_row = df.iloc[0]  # Access the first row# print(\"First row (iloc):\\n\", first_row)\n",
    "# second_row = df.iloc[1]  # Access the second row\n",
    "# print(\"Second row (iloc):\\n\", second_row)# print(\"***********************\")\n",
    "# Accessing rows using loc\n",
    "# first_row = df.iloc[0]  # Access the first row# print(\"First row (loc):\\n\", first_row)\n",
    "# second_row = df.loc[\"Name\"]  # Access the second row\n",
    "# print(\"Second row (loc):\\n\", second_row)\n",
    "df.loc['A']\n",
    "\n"
   ]
  },
  {
   "cell_type": "markdown",
   "id": "8aab26af",
   "metadata": {},
   "source": [
    "### Adding Rows:\n",
    "To add a new row to a DataFrame, you can use the append() function or the loc indexer.\n",
    "\n"
   ]
  },
  {
   "cell_type": "code",
   "execution_count": 26,
   "id": "70422fc4",
   "metadata": {},
   "outputs": [
    {
     "name": "stdout",
     "output_type": "stream",
     "text": [
      "   Name  Age\n",
      "0  John   25\n",
      "1  Emma   28\n",
      "2  Ryan   32\n"
     ]
    }
   ],
   "source": [
    "import pandas as pd\n",
    "\n",
    "# Create a DataFrame\n",
    "df = pd.DataFrame({'Name': ['John', 'Emma'],\n",
    "                   'Age': [25, 28]})\n",
    "\n",
    "# Create a new row as a DataFrame\n",
    "new_row = pd.DataFrame({'Name': ['Ryan'], 'Age': [32]})\n",
    "\n",
    "# Concatenate the existing DataFrame with the new row\n",
    "df = pd.concat([df, new_row], ignore_index=True)\n",
    "\n",
    "print(df)\n",
    "# ignore_index=True argument is provided to reset the index of the concatenated DataFrame.\n"
   ]
  },
  {
   "cell_type": "markdown",
   "id": "fd207199",
   "metadata": {},
   "source": [
    "#### row deletion\n",
    "To delete rows from a Pandas DataFrame, you can use the drop() method or boolean indexing"
   ]
  },
  {
   "cell_type": "code",
   "execution_count": 60,
   "id": "0d5f2840",
   "metadata": {},
   "outputs": [
    {
     "name": "stdout",
     "output_type": "stream",
     "text": [
      "DataFrame after drop():\n",
      "   Name  Age\n",
      "0  John   25\n",
      "2  Ryan   32\n",
      "\n",
      "DataFrame after boolean indexing:\n",
      "   Name  Age\n",
      "0  John   25\n",
      "2  Ryan   32\n"
     ]
    }
   ],
   "source": [
    "import pandas as pd\n",
    "\n",
    "# Create a DataFrame\n",
    "df = pd.DataFrame({'Name': ['John', 'Emma', 'Ryan'],\n",
    "                   'Age': [25, 28, 32]})\n",
    "\n",
    "# Method 1: Deleting rows using drop()\n",
    "df_drop = df.drop(1)  # Delete the row with index 1\n",
    "print(\"DataFrame after drop():\")\n",
    "print(df_drop)\n",
    "\n",
    "# Method 2: Deleting rows using boolean indexing\n",
    "df_bool = df[df['Name'] != 'Emma']  # Delete rows where Name is 'Emma'\n",
    "print(\"\\nDataFrame after boolean indexing:\")\n",
    "print(df_bool)\n"
   ]
  },
  {
   "cell_type": "markdown",
   "id": "5d4004c5",
   "metadata": {},
   "source": [
    "#### Pandas DataFrame.truncate\n",
    "\n",
    "The truncate method in Pandas DataFrame is used to truncate a DataFrame or Series before and/or after a specified index or column label. It allows you to filter and keep only the data within a specific range.\n",
    "\n",
    "DataFrame.truncate(before=None, after=None, axis=None, copy=True)\n",
    "\n",
    "Parameters:\n",
    "\n",
    "1. before: The label or index before which to truncate the DataFrame.          \n",
    "2. after: The label or index after which to truncate the DataFrame.              \n",
    "3. axis: Specifies the axis along which to truncate. By default, it is set to None, which means the method will truncate the rows.         \n",
    "4. copy: Specifies whether to make a copy of the truncated DataFrame or modify the original DataFrame in place. By default, it is set to True.       "
   ]
  },
  {
   "cell_type": "code",
   "execution_count": 61,
   "id": "dcd04c6c",
   "metadata": {},
   "outputs": [
    {
     "name": "stdout",
     "output_type": "stream",
     "text": [
      "   A   B\n",
      "2  3   8\n",
      "3  4   9\n",
      "4  5  10\n"
     ]
    }
   ],
   "source": [
    "import pandas as pd\n",
    "\n",
    "# Create a sample DataFrame\n",
    "data = {'A': [1, 2, 3, 4, 5],\n",
    "        'B': [6, 7, 8, 9, 10]}\n",
    "df = pd.DataFrame(data)\n",
    "\n",
    "# Truncate the DataFrame to keep only rows with index 1 and 2\n",
    "truncated_df = df.truncate(before=2, after=5)\n",
    "\n",
    "print(truncated_df)\n"
   ]
  },
  {
   "cell_type": "markdown",
   "id": "b112f217",
   "metadata": {},
   "source": [
    "### Pandas Series.combine() \n",
    "The combine method in Pandas Series is used to combine two Series into a new Series by applying a given function element-wise. It allows you to perform custom operations on two Series and generate a new Series based on those operations.\n",
    "\n",
    "Series.combine(other, func, fill_value=None)\n",
    "\n",
    "Parameters:\n",
    "\n",
    "1. other: The other Series to combine with.\n",
    "2. func: A function that specifies how to combine the values from the two Series. This function takes two arguments, corresponding to the values from the two Series, and returns a single value.\n",
    "3. fill_value: An optional parameter that specifies a value to fill missing values with. If one of the Series has missing values where the other Series has data, the fill_value will be used in those cases.\n"
   ]
  },
  {
   "cell_type": "code",
   "execution_count": 39,
   "id": "9afe6df4",
   "metadata": {},
   "outputs": [
    {
     "name": "stdout",
     "output_type": "stream",
     "text": [
      "0    11\n",
      "1    22\n",
      "2    33\n",
      "3    44\n",
      "4    55\n",
      "dtype: int64\n"
     ]
    }
   ],
   "source": [
    "import pandas as pd\n",
    "\n",
    "# Create two sample Series\n",
    "s1 = pd.Series([1, 2, 3, 4, 5])\n",
    "s2 = pd.Series([10, 20, 30, 40, 50])\n",
    "\n",
    "# Define a function to combine the values from the two Series\n",
    "def custom_function(x, y):\n",
    "    return x + y\n",
    "\n",
    "# Combine the two Series using the custom function\n",
    "combined_series = s1.combine(s2, custom_function)\n",
    "\n",
    "print(combined_series)\n"
   ]
  },
  {
   "cell_type": "code",
   "execution_count": 40,
   "id": "8a577254",
   "metadata": {},
   "outputs": [
    {
     "name": "stdout",
     "output_type": "stream",
     "text": [
      "0    11.0\n",
      "1    22.0\n",
      "2     NaN\n",
      "3     NaN\n",
      "4    55.0\n",
      "dtype: float64\n"
     ]
    }
   ],
   "source": [
    "import pandas as pd\n",
    "import numpy as np\n",
    "\n",
    "# Create two sample Series with null values\n",
    "s1 = pd.Series([1, 2, np.nan, 4, 5])\n",
    "s2 = pd.Series([10, 20, 30, np.nan, 50])\n",
    "\n",
    "# Define a function to combine the values from the two Series\n",
    "def custom_function(x, y):\n",
    "    return x + y\n",
    "\n",
    "# Combine the two Series using the custom function and fill null values with 5\n",
    "combined_series = s2.combine(s1,custom_function, fill_value=5)\n",
    "# print(s1)\n",
    "\n",
    "print(combined_series)\n"
   ]
  },
  {
   "cell_type": "code",
   "execution_count": 48,
   "id": "4821ca1d",
   "metadata": {},
   "outputs": [
    {
     "name": "stdout",
     "output_type": "stream",
     "text": [
      "0    11.0\n",
      "1    22.0\n",
      "2     NaN\n",
      "3     NaN\n",
      "4    55.0\n",
      "dtype: float64\n"
     ]
    }
   ],
   "source": [
    "import pandas as pd\n",
    "import numpy as np\n",
    "\n",
    "# Create two sample Series with null values\n",
    "s1 = pd.Series([1, 2, np.nan, 4, 5])\n",
    "s2 = pd.Series([10, 20, 30, np.nan, 50])\n",
    "\n",
    "# Define a function to combine the values from the two Series\n",
    "def custom_function(x, y):\n",
    "    return x + y\n",
    "\n",
    "# Combine the two Series using the custom function and fill null values with 5\n",
    "combined_series = s2.combine(s1, custom_function, fill_value=5)\n",
    "\n",
    "print(combined_series)\n"
   ]
  },
  {
   "cell_type": "code",
   "execution_count": 46,
   "id": "d50257d2",
   "metadata": {},
   "outputs": [
    {
     "name": "stdout",
     "output_type": "stream",
     "text": [
      "0    5.0\n",
      "1    3.0\n",
      "2    3.0\n",
      "3    NaN\n",
      "dtype: float64\n"
     ]
    }
   ],
   "source": [
    "import numpy as np \n",
    "import pandas as pd             \n",
    "first =[1, 2, np.nan,9] \n",
    "#         0  1   2      3  4  5   6\n",
    "# creating second series \n",
    "second =[5, 3, 3,np.nan] \n",
    "#         0   1   2   3     4   5  6\n",
    "# making series \n",
    "first = pd.Series(first) \n",
    " \n",
    "# making seriesa \n",
    "second = pd.Series(second) \n",
    " \n",
    "# calling .combine() method \n",
    "result = first.combine(second, func =(lambda x1, x2: x1 if x1 > x2 else x2), fill_value = 1) \n",
    " \n",
    "# display \n",
    "print(second)"
   ]
  },
  {
   "cell_type": "markdown",
   "id": "ed857990",
   "metadata": {},
   "source": [
    "#### Pandas Index.append()\n",
    "The Index.append() method in pandas is used to concatenate or append one index with another. It returns a new index object that includes all the elements from both indexes.\n",
    "\n",
    "The syntax for Index.append() is as follows:\n",
    "\n",
    "\n",
    "Index.append(other)\n",
    "\n",
    "\n",
    "\n",
    "Index refers to the initial index object, and other represents the index object that you want to append to the initial index"
   ]
  },
  {
   "cell_type": "code",
   "execution_count": 65,
   "id": "c77325cb",
   "metadata": {},
   "outputs": [
    {
     "name": "stdout",
     "output_type": "stream",
     "text": [
      "Index(['A', 'B', 'C', 'D', 'E', 'F'], dtype='object')\n"
     ]
    }
   ],
   "source": [
    "import pandas as pd\n",
    "\n",
    "index1 = pd.Index(['A', 'B', 'C'])\n",
    "index2 = pd.Index(['D', 'E', 'F'])\n",
    "\n",
    "appended_index = index1.append(index2)\n",
    "print(appended_index)\n"
   ]
  },
  {
   "cell_type": "markdown",
   "id": "aa6eecd5",
   "metadata": {},
   "source": [
    "### The DataFrame.append()\n",
    "The DataFrame.append() method in pandas is used to append rows of one DataFrame to another DataFrame. It concatenates the rows from one DataFrame to the end of another DataFrame and returns a new DataFrame. The column labels of the two DataFrames should be the same for proper alignment of the data.\n",
    "\n",
    "The syntax for DataFrame.append() is as follows:"
   ]
  },
  {
   "cell_type": "markdown",
   "id": "8ab1153f",
   "metadata": {},
   "source": [
    "###### DataFrame.append(other, ignore_index=False, verify_integrity=False, sort=False)\n",
    "\n",
    "###### pd.concat(objs, axis=0, join='outer', ignore_index=False)\n"
   ]
  },
  {
   "cell_type": "markdown",
   "id": "19540f4e",
   "metadata": {},
   "source": [
    "DataFrame refers to the initial DataFrame, and other represents the DataFrame that you want to append to the initial DataFrame. The ignore_index, verify_integrity, and sort parameters are optional and can be used to control the behavior of the append operation"
   ]
  },
  {
   "cell_type": "code",
   "execution_count": 70,
   "id": "066df117",
   "metadata": {
    "scrolled": true
   },
   "outputs": [
    {
     "name": "stdout",
     "output_type": "stream",
     "text": [
      "    Name  Age      City\n",
      "0   John   25  New York\n",
      "1  Alice   30    London\n",
      "0    Bob   35     Paris\n"
     ]
    }
   ],
   "source": [
    "import pandas as pd\n",
    "\n",
    "df1 = pd.DataFrame({'Name': ['John', 'Alice'],\n",
    "         'Age': [25, 30],\n",
    "         'City': ['New York', 'London']})\n",
    "\n",
    "df2 = pd.DataFrame({'Name': ['Bob'],\n",
    "         'Age': [35],\n",
    "         'City': ['Paris']})\n",
    "\n",
    "\n",
    "print( pd.concat([df1, df2]))\n"
   ]
  },
  {
   "cell_type": "markdown",
   "id": "7fe1194d",
   "metadata": {},
   "source": [
    "### concat by using axis\n",
    "\n",
    "To concatenate DataFrames using the pd.concat() function along a specific axis, you can specify the axis parameter. The axis parameter determines the axis along which the concatenation should occur. By default, axis is set to 0, which means concatenation along the rows. If you want to concatenate along the columns, you can set axis to 1."
   ]
  },
  {
   "cell_type": "code",
   "execution_count": 27,
   "id": "74145a57",
   "metadata": {},
   "outputs": [
    {
     "name": "stdout",
     "output_type": "stream",
     "text": [
      "   A  B  C   D\n",
      "0  1  4  7  10\n",
      "1  2  5  8  11\n",
      "2  3  6  9  12\n"
     ]
    }
   ],
   "source": [
    "# on axis =1\n",
    "import pandas as pd\n",
    "\n",
    "df1 = pd.DataFrame({'A': [1, 2, 3],\n",
    "         'B': [4, 5, 6]})\n",
    "\n",
    "df2 = pd.DataFrame ({'C': [7, 8, 9],\n",
    "         'D': [10, 11, 12]})\n",
    "\n",
    "\n",
    "print(pd.concat([df1, df2], axis=1))\n"
   ]
  },
  {
   "cell_type": "code",
   "execution_count": 72,
   "id": "1f02b382",
   "metadata": {},
   "outputs": [
    {
     "name": "stdout",
     "output_type": "stream",
     "text": [
      "     A    B    C     D\n",
      "0  1.0  4.0  NaN   NaN\n",
      "1  2.0  5.0  NaN   NaN\n",
      "2  3.0  6.0  NaN   NaN\n",
      "0  NaN  NaN  7.0  10.0\n",
      "1  NaN  NaN  8.0  11.0\n",
      "2  NaN  NaN  9.0  12.0\n"
     ]
    }
   ],
   "source": [
    "# on axis =0\n",
    "import pandas as pd\n",
    "\n",
    "df1 = pd.DataFrame({'A': [1, 2, 3],\n",
    "         'B': [4, 5, 6]})\n",
    "\n",
    "df2 = pd.DataFrame ({'C': [7, 8, 9],\n",
    "         'D': [10, 11, 12]})\n",
    "\n",
    "\n",
    "print(pd.concat([df1, df2], axis=0))"
   ]
  },
  {
   "cell_type": "markdown",
   "id": "e5a3ab4e",
   "metadata": {},
   "source": [
    "### To concatenate DataFrames using the pd.concat()\n",
    "function with a specific join method, you can use the join parameter. The join parameter determines how the other axes (if any) should be handled during the concatenation process.\n",
    "\n",
    "The join parameter in pd.concat() can take the following values:\n",
    "\n",
    "'outer': Performs a union of the indexes/columns. This is the default behavior.\n",
    "'inner': Performs an intersection of the indexes/columns."
   ]
  },
  {
   "cell_type": "code",
   "execution_count": 2,
   "id": "82fef498",
   "metadata": {},
   "outputs": [
    {
     "name": "stdout",
     "output_type": "stream",
     "text": [
      "Concatenation with 'outer' join:\n",
      "     A    B    C     D\n",
      "0  1.0  4.0  NaN   NaN\n",
      "1  2.0  5.0  NaN   NaN\n",
      "2  3.0  6.0  NaN   NaN\n",
      "0  NaN  NaN  7.0  10.0\n",
      "1  NaN  NaN  8.0  11.0\n",
      "2  NaN  NaN  9.0  12.0\n",
      "\n",
      "Concatenation with 'inner' join:\n",
      "Empty DataFrame\n",
      "Columns: []\n",
      "Index: [0, 1, 2, 0, 1, 2]\n"
     ]
    }
   ],
   "source": [
    "import pandas as pd\n",
    "\n",
    "\n",
    "df1 = pd.DataFrame({'A': [1, 2, 3],\n",
    "         'B': [4, 5, 6]})\n",
    "\n",
    "df2 = pd.DataFrame ({'C': [7, 8, 9],\n",
    "         'D': [10, 11, 12]})\n",
    "\n",
    "print(\"Concatenation with 'outer' join:\")\n",
    "print(pd.concat([df1, df2], join='outer'))\n",
    "print(\"\\nConcatenation with 'inner' join:\")\n",
    "print(pd.concat([df1, df2], join='inner'))\n"
   ]
  },
  {
   "cell_type": "markdown",
   "id": "774ce96e",
   "metadata": {},
   "source": [
    "### Grouping Rows in pandas\n",
    "\n",
    "rows together based on a specific column or a set of columns using the groupby() function. Grouping allows you to aggregate data, apply calculations within each group, or perform other operations on grouped data.\n",
    "\n",
    "The basic syntax for grouping rows in pandas is as follows:\n",
    "\n",
    "grouped = dataframe.groupby(by)\n"
   ]
  },
  {
   "cell_type": "code",
   "execution_count": 74,
   "id": "c718bc14",
   "metadata": {},
   "outputs": [
    {
     "name": "stdout",
     "output_type": "stream",
     "text": [
      "City\n",
      "London      29.0\n",
      "New York    25.0\n",
      "Paris       35.0\n",
      "Name: Age, dtype: float64\n"
     ]
    }
   ],
   "source": [
    "import pandas as pd\n",
    "\n",
    "data = {'Name': ['John', 'Alice', 'Bob', 'Alice'],\n",
    "        'Age': [25, 30, 35, 28],\n",
    "        'City': ['New York', 'London', 'Paris', 'London']}\n",
    "\n",
    "df = pd.DataFrame(data)\n",
    "\n",
    "# Grouping by 'City'\n",
    "grouped = df.groupby('City')\n",
    "\n",
    "# Calculating the mean age for each city\n",
    "mean_age = grouped['Age'].mean()\n",
    "\n",
    "print(mean_age)\n"
   ]
  },
  {
   "cell_type": "markdown",
   "id": "2fd56081",
   "metadata": {},
   "source": [
    "we can perform various operations on grouped data, such as aggregating using functions like sum(), count(), min(), max(), or applying custom functions using apply(). Additionally, you can also group by multiple columns by passing a list of column names to groupby()."
   ]
  },
  {
   "cell_type": "markdown",
   "id": "3c55f733",
   "metadata": {},
   "source": [
    "### the str.join() \n",
    "In pandas, the str.join() method is used to concatenate string or list elements with a passed delimiter. This method is available for string-type columns or columns containing lists of strings.\n",
    "\n",
    "The basic syntax for str.join() is as follows:\n",
    "\n",
    "series.str.join(sep)\n"
   ]
  },
  {
   "cell_type": "code",
   "execution_count": 75,
   "id": "2204b5dc",
   "metadata": {},
   "outputs": [
    {
     "name": "stdout",
     "output_type": "stream",
     "text": [
      "    Name            Fruit  Joined_Fruit\n",
      "0   John  [Apple, Banana]  Apple_Banana\n",
      "1  Alice         [Orange]        Orange\n",
      "2    Bob  [Grapes, Mango]  Grapes_Mango\n"
     ]
    }
   ],
   "source": [
    "import pandas as pd\n",
    "\n",
    "data = {'Name': ['John', 'Alice', 'Bob'],\n",
    "        'Fruit': [['Apple', 'Banana'], ['Orange'], ['Grapes', 'Mango']]}\n",
    "\n",
    "df = pd.DataFrame(data)\n",
    "\n",
    "# Joining elements in the 'Fruit' column with a comma as delimiter\n",
    "df['Joined_Fruit'] = df['Fruit'].str.join('_')\n",
    "\n",
    "print(df)\n"
   ]
  },
  {
   "cell_type": "code",
   "execution_count": 76,
   "id": "ef734d25",
   "metadata": {},
   "outputs": [
    {
     "name": "stdout",
     "output_type": "stream",
     "text": [
      "    Name            Fruit    Joined_Fruit\n",
      "0   John  [Apple, Banana]  Apple+++Banana\n",
      "1  Alice         [Orange]          Orange\n",
      "2    Bob  [Grapes, Mango]  Grapes+++Mango\n"
     ]
    }
   ],
   "source": [
    "import pandas as pd\n",
    "\n",
    "data = {'Name': ['John', 'Alice', 'Bob'],\n",
    "        'Fruit': [['Apple', 'Banana'], ['Orange'], ['Grapes', 'Mango']]}\n",
    "\n",
    "df = pd.DataFrame(data)\n",
    "\n",
    "# Joining elements in the 'Fruit' column with a comma as delimiter\n",
    "df['Joined_Fruit'] = df['Fruit'].str.join('+++')\n",
    "\n",
    "print(df)\n"
   ]
  },
  {
   "cell_type": "markdown",
   "id": "01797828",
   "metadata": {},
   "source": [
    "### str.cat()\n",
    "\n",
    "To join two text columns into a single column in pandas, you can use the + operator or the str.cat() method. Both methods allow you to concatenate the values from two columns into a new column."
   ]
  },
  {
   "cell_type": "code",
   "execution_count": 80,
   "id": "3c8c0f16",
   "metadata": {},
   "outputs": [
    {
     "name": "stdout",
     "output_type": "stream",
     "text": [
      "  First Name Last Name  Full Name  \n",
      "0       John       Doe     John Doe\n",
      "1      Alice     Smith  Alice Smith\n",
      "2        Bob   Johnson  Bob Johnson\n"
     ]
    }
   ],
   "source": [
    "#Using the + operator:\n",
    "\n",
    "import pandas as pd\n",
    "\n",
    "data = {'First Name': ['John', 'Alice', 'Bob'],\n",
    "        'Last Name': ['Doe', 'Smith', 'Johnson']}\n",
    "\n",
    "df = pd.DataFrame(data)\n",
    "\n",
    "# Joining 'First Name' and 'Last Name' columns using the + operator\n",
    "df['Full Name  '] = df['First Name'] + ' ' + df['Last Name']\n",
    "\n",
    "print(df)\n"
   ]
  },
  {
   "cell_type": "code",
   "execution_count": 81,
   "id": "de2e63c6",
   "metadata": {},
   "outputs": [
    {
     "name": "stdout",
     "output_type": "stream",
     "text": [
      "  First Name Last Name    Full Name\n",
      "0       John       Doe     John Doe\n",
      "1      Alice     Smith  Alice Smith\n",
      "2        Bob   Johnson  Bob Johnson\n"
     ]
    }
   ],
   "source": [
    "# Using the str.cat() method:\n",
    "\n",
    "import pandas as pd\n",
    "\n",
    "data = {'First Name': ['John', 'Alice', 'Bob'],\n",
    "        'Last Name': ['Doe', 'Smith', 'Johnson']}\n",
    "\n",
    "df = pd.DataFrame(data)\n",
    "\n",
    "# Joining 'First Name' and 'Last Name' columns using str.cat()\n",
    "df['Full Name'] = df['First Name'].str.cat(df['Last Name'], sep=' ')\n",
    "\n",
    "print(df)\n"
   ]
  },
  {
   "cell_type": "markdown",
   "id": "1f602539",
   "metadata": {},
   "source": [
    "### The lambda function\n",
    "to use a lambda function with the apply() method to join two text columns into a single column in pandas. The lambda function allows you to define a custom transformation on each row of the DataFrame."
   ]
  },
  {
   "cell_type": "code",
   "execution_count": 82,
   "id": "b3062415",
   "metadata": {},
   "outputs": [
    {
     "name": "stdout",
     "output_type": "stream",
     "text": [
      "  First Name Last Name    Full Name\n",
      "0       John       Doe     John Doe\n",
      "1      Alice     Smith  Alice Smith\n",
      "2        Bob   Johnson  Bob Johnson\n"
     ]
    }
   ],
   "source": [
    "import pandas as pd\n",
    "\n",
    "data = {'First Name': ['John', 'Alice', 'Bob'],\n",
    "        'Last Name': ['Doe', 'Smith', 'Johnson']}\n",
    "\n",
    "df = pd.DataFrame(data)\n",
    "\n",
    "# Joining 'First Name' and 'Last Name' columns using a lambda function\n",
    "df['Full Name'] = df.apply(lambda row: row['First Name'] + ' ' + row['Last Name'], axis=1)\n",
    "\n",
    "print(df)\n"
   ]
  },
  {
   "cell_type": "markdown",
   "id": "f39bc745",
   "metadata": {},
   "source": [
    "###  date and time \n",
    "\n",
    "Pandas provides robust functionality for working with date and time data through its Timestamp and DatetimeIndex objects. This allows you to handle various operations on dates and times, including parsing, formatting, indexing, arithmetic, and more.\n"
   ]
  },
  {
   "cell_type": "markdown",
   "id": "c07e9ed2",
   "metadata": {},
   "source": [
    "##### Parsing and Creating Dates: \n",
    "to parse strings representing dates or times using the pd.to_datetime() function. It converts a wide range of date and time formats into Timestamp objects.\n",
    "\n"
   ]
  },
  {
   "cell_type": "code",
   "execution_count": 84,
   "id": "43467fb4",
   "metadata": {},
   "outputs": [
    {
     "name": "stdout",
     "output_type": "stream",
     "text": [
      "2023-05-24 00:00:00\n"
     ]
    }
   ],
   "source": [
    "import pandas as pd\n",
    "\n",
    "date_string = '2023-05-24'\n",
    "date = pd.to_datetime(date_string)\n",
    "print(date)\n"
   ]
  },
  {
   "cell_type": "markdown",
   "id": "83470bda",
   "metadata": {},
   "source": [
    "###### DatetimeIndex:\n",
    "Pandas has a specialized index object called DatetimeIndex, which allows you to index and manipulate data based on dates and times. You can create a DatetimeIndex from a list of dates or use it directly as the index of a DataFrame."
   ]
  },
  {
   "cell_type": "code",
   "execution_count": 85,
   "id": "8a4314e4",
   "metadata": {},
   "outputs": [
    {
     "name": "stdout",
     "output_type": "stream",
     "text": [
      "            Value\n",
      "2023-05-23     10\n",
      "2023-05-24     20\n",
      "2023-05-25     30\n"
     ]
    }
   ],
   "source": [
    "import pandas as pd\n",
    "\n",
    "dates = ['2023-05-23', '2023-05-24', '2023-05-25']\n",
    "values = [10, 20, 30]\n",
    "df = pd.DataFrame({'Value': values}, index=pd.to_datetime(dates))\n",
    "print(df)\n"
   ]
  },
  {
   "cell_type": "markdown",
   "id": "ca4c8933",
   "metadata": {},
   "source": [
    "###### Date Range Generation:\n",
    "Pandas provides the pd.date_range() function to generate a range of dates based on specified frequency."
   ]
  },
  {
   "cell_type": "code",
   "execution_count": 3,
   "id": "c629dabf",
   "metadata": {},
   "outputs": [
    {
     "name": "stdout",
     "output_type": "stream",
     "text": [
      "DatetimeIndex(['2023-01-01', '2023-01-02', '2023-01-03', '2023-01-04',\n",
      "               '2023-01-05', '2023-01-06', '2023-01-07', '2023-01-08',\n",
      "               '2023-01-09', '2023-01-10',\n",
      "               ...\n",
      "               '2023-12-22', '2023-12-23', '2023-12-24', '2023-12-25',\n",
      "               '2023-12-26', '2023-12-27', '2023-12-28', '2023-12-29',\n",
      "               '2023-12-30', '2023-12-31'],\n",
      "              dtype='datetime64[ns]', length=365, freq='D')\n"
     ]
    }
   ],
   "source": [
    "import pandas as pd\n",
    "\n",
    "dates = pd.date_range(start='2023-01-01', end='2023-12-31', freq='D')\n",
    "print(dates)\n",
    "# freq='D': This parameter determines the frequency or interval between the dates. In this case,\n",
    "#     it is set to 'D', which stands for 'day'. This means that the list will include all dates from the start date\n",
    "#     to the end date, with each date separated by one day"
   ]
  },
  {
   "cell_type": "markdown",
   "id": "3a49a3aa",
   "metadata": {},
   "source": [
    "###### Resampling and Shifting:\n",
    "Pandas provides functions for resampling time series data, such as upsampling (increasing frequency) and downsampling (decreasing frequency), and shifting dates and times."
   ]
  },
  {
   "cell_type": "code",
   "execution_count": 8,
   "id": "03833c4f",
   "metadata": {},
   "outputs": [
    {
     "name": "stdout",
     "output_type": "stream",
     "text": [
      "2023-01-31     15.0\n",
      "2023-02-28     44.5\n",
      "2023-03-31     74.0\n",
      "2023-04-30    104.5\n",
      "2023-05-31    135.0\n",
      "2023-06-30    165.5\n",
      "2023-07-31    196.0\n",
      "2023-08-31    227.0\n",
      "2023-09-30    257.5\n",
      "2023-10-31    288.0\n",
      "2023-11-30    318.5\n",
      "2023-12-31    349.0\n",
      "Freq: M, Name: Value, dtype: float64\n"
     ]
    }
   ],
   "source": [
    "# resampling\n",
    "import pandas as pd\n",
    "\n",
    "# Create a DataFrame with a DatetimeIndex\n",
    "dates = pd.date_range(start='2023-01-01', end='2023-12-31', freq='D')\n",
    "values = range(len(dates))\n",
    "df = pd.DataFrame({'Value': values}, index=dates)\n",
    "df\n",
    "\n",
    "# Resample the data to a monthly frequency and calculate the mean\n",
    "monthly_mean = df['Value'].resample('M').mean()\n",
    "print(monthly_mean)\n",
    "# m means resample data on monthly basis\n"
   ]
  },
  {
   "cell_type": "code",
   "execution_count": 6,
   "id": "4e93299e",
   "metadata": {},
   "outputs": [
    {
     "name": "stdout",
     "output_type": "stream",
     "text": [
      "2023-01-01     NaN\n",
      "2023-01-02    10.0\n",
      "2023-01-03    20.0\n",
      "2023-01-04    30.0\n",
      "2023-01-05    40.0\n",
      "Freq: D, Name: Value, dtype: float64\n"
     ]
    }
   ],
   "source": [
    "# shifting\n",
    "import pandas as pd\n",
    "\n",
    "# Create a DataFrame with a DatetimeIndex\n",
    "dates = pd.date_range(start='2023-01-01', periods=5, freq='D')\n",
    "values = [10, 20, 30, 40, 50]\n",
    "df = pd.DataFrame({'Value': values}, index=dates)\n",
    "\n",
    "# Shift the values one period forward\n",
    "shifted = df['Value'].shift(1)\n",
    "print(shifted)\n"
   ]
  },
  {
   "cell_type": "markdown",
   "id": "9dc63704",
   "metadata": {},
   "source": [
    "###### Time-based Indexing and Slicing\n",
    "Time-based Indexing and Slicing in Pandas allow you to select and manipulate data based on specific dates or time ranges"
   ]
  },
  {
   "cell_type": "code",
   "execution_count": 9,
   "id": "2d081b88",
   "metadata": {},
   "outputs": [
    {
     "name": "stdout",
     "output_type": "stream",
     "text": [
      "Value    40\n",
      "Name: 2023-01-04 00:00:00, dtype: int64\n"
     ]
    }
   ],
   "source": [
    "#Indexing with Dates\n",
    "import pandas as pd\n",
    "\n",
    "# Create a DataFrame with a DatetimeIndex\n",
    "dates = pd.date_range(start='2023-01-01', periods=5, freq='D')\n",
    "values = [10, 20, 30, 40, 50]\n",
    "df = pd.DataFrame({'Value': values}, index=dates)\n",
    "\n",
    "# Index the DataFrame using a specific date\n",
    "specific_date = pd.to_datetime('2023-01-04')\n",
    "specific_row = df.loc[specific_date]\n",
    "print(specific_row)\n"
   ]
  },
  {
   "cell_type": "code",
   "execution_count": 91,
   "id": "8a2bcf78",
   "metadata": {},
   "outputs": [
    {
     "name": "stdout",
     "output_type": "stream",
     "text": [
      "            Value\n",
      "2023-01-03      2\n",
      "2023-01-04      3\n",
      "2023-01-05      4\n",
      "2023-01-06      5\n"
     ]
    }
   ],
   "source": [
    "# Slicing Date Ranges:\n",
    "import pandas as pd\n",
    "\n",
    "# Create a DataFrame with a DatetimeIndex\n",
    "dates = pd.date_range(start='2023-01-01', periods=10, freq='D')\n",
    "values = range(10)\n",
    "df = pd.DataFrame({'Value': values}, index=dates)\n",
    "\n",
    "# Slice the DataFrame for a specific date range\n",
    "date_range = pd.date_range(start='2023-01-03', end='2023-01-06')\n",
    "sliced_data = df.loc[date_range]\n",
    "print(sliced_data)\n"
   ]
  },
  {
   "cell_type": "markdown",
   "id": "83dba031",
   "metadata": {},
   "source": [
    "##### pandas timestamp now\n",
    "To get the current timestamp in Pandas, you can use the pd.Timestamp.now() function. It returns the current date and time as a Pandas Timestamp object."
   ]
  },
  {
   "cell_type": "code",
   "execution_count": 10,
   "id": "5bf2c870",
   "metadata": {},
   "outputs": [
    {
     "name": "stdout",
     "output_type": "stream",
     "text": [
      "2023-06-13 14:41:45.424220\n"
     ]
    }
   ],
   "source": [
    "import pandas as pd\n",
    "\n",
    "current_time = pd.Timestamp.now()\n",
    "print(current_time)"
   ]
  },
  {
   "cell_type": "markdown",
   "id": "8ea15fc6",
   "metadata": {},
   "source": [
    "##### pandas timestamp isoformat\n",
    "The Timestamp.isoformat() method is used to return the string representation of a timestamp in ISO 8601 format. It converts a Pandas Timestamp object into a string that represents the timestamp in a standardized format."
   ]
  },
  {
   "cell_type": "code",
   "execution_count": 94,
   "id": "42d4072a",
   "metadata": {},
   "outputs": [
    {
     "name": "stdout",
     "output_type": "stream",
     "text": [
      "2001-03-13T04:00:30-05:00\n"
     ]
    }
   ],
   "source": [
    "tz='us/eastern'ts=pd.Timestamp(year=2001,month=3,day=13,hour=4,second=30,)\n",
    "print(ts.isoformat())"
   ]
  },
  {
   "cell_type": "markdown",
   "id": "fd9a160d",
   "metadata": {},
   "source": [
    "###### Pandas Timestamp.date\n",
    "Timestamp.date attribute is used to extract the date component from a Pandas Timestamp object. It returns a Python datetime.date object representing the date portion of the timestamp."
   ]
  },
  {
   "cell_type": "code",
   "execution_count": 98,
   "id": "ca66fb1c",
   "metadata": {},
   "outputs": [
    {
     "name": "stdout",
     "output_type": "stream",
     "text": [
      "2001-03-13\n"
     ]
    }
   ],
   "source": [
    "ts=pd.Timestamp(year=2001,month=3,day=13,hour=4,second=30,tz='us/eastern')\n",
    "print(ts.date())"
   ]
  },
  {
   "cell_type": "markdown",
   "id": "85419cc8",
   "metadata": {},
   "source": [
    "###### Timestamp.replace() \n",
    "Timestamp.replace()method is used to create a new Timestamp object with specific components replaced. It allows you to modify individual components of a timestamp, such as the year, month, day, hour, minute, second, microsecond, or time zone."
   ]
  },
  {
   "cell_type": "code",
   "execution_count": 99,
   "id": "d546c9b7",
   "metadata": {},
   "outputs": [
    {
     "name": "stdout",
     "output_type": "stream",
     "text": [
      "2023-03-13 04:00:30-04:00\n"
     ]
    }
   ],
   "source": [
    "ts=pd.Timestamp(year=2001,month=3,day=13,hour=4,second=30,tz='us/eastern')\n",
    "print(ts.replace(year=2023))"
   ]
  },
  {
   "cell_type": "markdown",
   "id": "a4b815f6",
   "metadata": {},
   "source": [
    "###### pd.to_datetime()\n",
    "function in Pandas is a powerful tool for converting various types of input into Pandas Timestamp objects. It can handle a wide range of input formats and returns a DateTime-like output."
   ]
  },
  {
   "cell_type": "code",
   "execution_count": 100,
   "id": "932d0c46",
   "metadata": {},
   "outputs": [
    {
     "name": "stdout",
     "output_type": "stream",
     "text": [
      "DatetimeIndex(['2023-05-24', '2023-05-25', '2023-05-26'], dtype='datetime64[ns]', freq=None)\n"
     ]
    }
   ],
   "source": [
    "import pandas as pd\n",
    "\n",
    "date_list = ['2023-05-24', '2023-05-25', '2023-05-26']\n",
    "timestamps = pd.to_datetime(date_list)\n",
    "print(timestamps)\n"
   ]
  },
  {
   "cell_type": "markdown",
   "id": "2483be73",
   "metadata": {},
   "source": [
    "###  the Series.str.lower(), Series.str.upper(), and Series.str.title() \n",
    "the methods are used to transform the elements of a Series to lowercase, uppercase, and title case, respectively. These methods are particularly useful when working with string data in a Series."
   ]
  },
  {
   "cell_type": "code",
   "execution_count": 101,
   "id": "f16a7da5",
   "metadata": {},
   "outputs": [
    {
     "name": "stdout",
     "output_type": "stream",
     "text": [
      "0     hello\n",
      "1     world\n",
      "2    pandas\n",
      "dtype: object\n"
     ]
    }
   ],
   "source": [
    "# Series.str.lower()\n",
    "import pandas as pd\n",
    "\n",
    "data = ['Hello', 'WORLD', 'pandas']\n",
    "series = pd.Series(data)\n",
    "lower_series = series.str.lower()\n",
    "print(lower_series)\n"
   ]
  },
  {
   "cell_type": "code",
   "execution_count": 102,
   "id": "24af0c8c",
   "metadata": {},
   "outputs": [
    {
     "name": "stdout",
     "output_type": "stream",
     "text": [
      "0     HELLO\n",
      "1     WORLD\n",
      "2    PANDAS\n",
      "dtype: object\n"
     ]
    }
   ],
   "source": [
    "# Series.str.upper()\n",
    "import pandas as pd\n",
    "\n",
    "data = ['Hello', 'WORLD', 'pandas']\n",
    "series = pd.Series(data)\n",
    "upper_series = series.str.upper()\n",
    "print(upper_series)\n"
   ]
  },
  {
   "cell_type": "code",
   "execution_count": 103,
   "id": "a6ab5451",
   "metadata": {},
   "outputs": [
    {
     "name": "stdout",
     "output_type": "stream",
     "text": [
      "0          Hello World\n",
      "1    Pandas Is Awesome\n",
      "dtype: object\n"
     ]
    }
   ],
   "source": [
    "#Series.str.title()\n",
    "import pandas as pd\n",
    "\n",
    "data = ['hello world', 'pandas is awesome']\n",
    "series = pd.Series(data)\n",
    "title_series = series.str.title()\n",
    "print(title_series)\n"
   ]
  },
  {
   "cell_type": "markdown",
   "id": "50a71cf7",
   "metadata": {},
   "source": [
    "###  Series.str.replace()\n",
    "Series.str.replace() method is used to replace substrings or patterns in the elements of a Series with a specified replacement string. It allows you to perform string replacements in a flexible and efficient manner."
   ]
  },
  {
   "cell_type": "code",
   "execution_count": 104,
   "id": "92c92971",
   "metadata": {},
   "outputs": [
    {
     "name": "stdout",
     "output_type": "stream",
     "text": [
      "0     Xpple\n",
      "1    bXnXnX\n",
      "2    cherry\n",
      "dtype: object\n"
     ]
    }
   ],
   "source": [
    "import pandas as pd\n",
    "\n",
    "data = ['apple', 'banana', 'cherry']\n",
    "series = pd.Series(data)\n",
    "modified_series = series.str.replace('a', 'X')\n",
    "print(modified_series)"
   ]
  },
  {
   "cell_type": "markdown",
   "id": "66b1c72a",
   "metadata": {},
   "source": [
    "### Series.str.strip(), lstrip() and rstrip()"
   ]
  },
  {
   "cell_type": "markdown",
   "id": "8ea073e4",
   "metadata": {},
   "source": [
    "the Series.str.strip(), Series.str.lstrip(), and Series.str.rstrip() methods are used to remove leading and trailing whitespace characters from the elements of a Series. These methods are useful for cleaning and preprocessing string data by eliminating unwanted whitespace."
   ]
  },
  {
   "cell_type": "markdown",
   "id": "bf78d38c",
   "metadata": {},
   "source": [
    "##### Series.str.strip():\n",
    "This method removes leading and trailing whitespace characters from the elements of a Series."
   ]
  },
  {
   "cell_type": "code",
   "execution_count": 105,
   "id": "83fb05aa",
   "metadata": {},
   "outputs": [
    {
     "name": "stdout",
     "output_type": "stream",
     "text": [
      "0     apple\n",
      "1    banana\n",
      "2    cherry\n",
      "dtype: object\n"
     ]
    }
   ],
   "source": [
    "import pandas as pd\n",
    "\n",
    "data = ['  apple  ', '  banana', 'cherry  ']\n",
    "series = pd.Series(data)\n",
    "stripped_series = series.str.strip()\n",
    "print(stripped_series)\n"
   ]
  },
  {
   "cell_type": "markdown",
   "id": "b1de5c8c",
   "metadata": {},
   "source": [
    "##### Series.str.lstrip(): \n",
    "This method removes leading (left) whitespace characters from the elements of a Series."
   ]
  },
  {
   "cell_type": "code",
   "execution_count": 106,
   "id": "c65bad72",
   "metadata": {},
   "outputs": [
    {
     "name": "stdout",
     "output_type": "stream",
     "text": [
      "0     apple  \n",
      "1      banana\n",
      "2    cherry  \n",
      "dtype: object\n"
     ]
    }
   ],
   "source": [
    "import pandas as pd\n",
    "\n",
    "data = ['  apple  ', '  banana', 'cherry  ']\n",
    "series = pd.Series(data)\n",
    "lstripped_series = series.str.lstrip()\n",
    "print(lstripped_series)\n"
   ]
  },
  {
   "cell_type": "markdown",
   "id": "29a8761e",
   "metadata": {},
   "source": [
    "#### Series.str.rstrip(): \n",
    "This method removes trailing (right) whitespace characters from the elements of a Series."
   ]
  },
  {
   "cell_type": "code",
   "execution_count": 107,
   "id": "69c1f5f0",
   "metadata": {},
   "outputs": [
    {
     "name": "stdout",
     "output_type": "stream",
     "text": [
      "0       apple\n",
      "1      banana\n",
      "2      cherry\n",
      "dtype: object\n"
     ]
    }
   ],
   "source": [
    "import pandas as pd\n",
    "\n",
    "data = ['  apple  ', '  banana', 'cherry  ']\n",
    "series = pd.Series(data)\n",
    "rstripped_series = series.str.rstrip()\n",
    "print(rstripped_series)\n"
   ]
  },
  {
   "cell_type": "code",
   "execution_count": null,
   "id": "11f3f167",
   "metadata": {},
   "outputs": [],
   "source": []
  }
 ],
 "metadata": {
  "kernelspec": {
   "display_name": "Python 3 (ipykernel)",
   "language": "python",
   "name": "python3"
  },
  "language_info": {
   "codemirror_mode": {
    "name": "ipython",
    "version": 3
   },
   "file_extension": ".py",
   "mimetype": "text/x-python",
   "name": "python",
   "nbconvert_exporter": "python",
   "pygments_lexer": "ipython3",
   "version": "3.11.7"
  }
 },
 "nbformat": 4,
 "nbformat_minor": 5
}
