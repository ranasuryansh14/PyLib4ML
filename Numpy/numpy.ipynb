{
 "cells": [
  {
   "cell_type": "markdown",
   "id": "90ae6a4a",
   "metadata": {},
   "source": [
    "# WHAT IS NumPy?\n",
    "In python NumPy is a package which contain classes, functions, variables, large library mathematical functions etc. to work with scientific calculations. \n",
    "NumPy can be used to Crete n dimensional array where n is any integer. We can create 1 dimensional array, 2 dimensional arrays and 3 dimensional arrays and so on.\n",
    "Numpy’s array class is called ndarray. It also known as alias name array. There is another class array in python which is different from Numpy’s array class.                                 \n",
    "•\tNumPy is a scientific computing library in python.                 \n",
    "•\tNumPy support large number of data in the form of multidimensional array and Metrix.       \n",
    "•\tUse of mathematical calculations like linear algebra, Fourier transforms (frequency count) and random number capabilities, etc.            \n",
    "<!-- Fourier transform provides the frequency domain representation of the original signal. -->"
   ]
  },
  {
   "cell_type": "code",
   "execution_count": 3,
   "id": "a23fa49a",
   "metadata": {},
   "outputs": [
    {
     "name": "stdout",
     "output_type": "stream",
     "text": [
      "<class 'int'>\n",
      "140735743233072\n"
     ]
    }
   ],
   "source": [
    "a=90\n",
    "print(type(a))\n",
    "print(id(a))"
   ]
  },
  {
   "cell_type": "code",
   "execution_count": null,
   "id": "3a171c49",
   "metadata": {},
   "outputs": [],
   "source": [
    "1.numpy provides efficent storage\n",
    "2.it also provides better ways of handling data for processing\n",
    "3.its fast\n",
    "4.it is easy to learn\n",
    "5.numpy uses relatively less memory to store data."
   ]
  },
  {
   "cell_type": "code",
   "execution_count": null,
   "id": "0d5c6952",
   "metadata": {},
   "outputs": [],
   "source": [
    "difference between list and numpy\n",
    "1.data type storage\n",
    "2.importing module\n",
    "3.numerical opeartions\n",
    "4.modification capabilties\n",
    "5.consumes less memory\n",
    "6.fast as compared to python list\n",
    "7.convenient to use"
   ]
  },
  {
   "cell_type": "markdown",
   "id": "0d78f72d",
   "metadata": {},
   "source": [
    "# NumPy Array Creation"
   ]
  },
  {
   "cell_type": "code",
   "execution_count": 11,
   "id": "36f9885f",
   "metadata": {},
   "outputs": [
    {
     "name": "stdout",
     "output_type": "stream",
     "text": [
      "<class 'list'>\n"
     ]
    }
   ],
   "source": [
    "l=[1,2,4,[7,8]]\n",
    "l\n",
    "print(type(l))"
   ]
  },
  {
   "cell_type": "code",
   "execution_count": 2,
   "id": "af1afac0",
   "metadata": {},
   "outputs": [
    {
     "name": "stdout",
     "output_type": "stream",
     "text": [
      "<class 'list'>\n"
     ]
    }
   ],
   "source": [
    "l=[1,2,3,4]\n",
    "print(type(l))"
   ]
  },
  {
   "cell_type": "code",
   "execution_count": 3,
   "id": "e051ca9f",
   "metadata": {},
   "outputs": [
    {
     "name": "stdout",
     "output_type": "stream",
     "text": [
      "[1 2 3 4]\n",
      "<class 'numpy.ndarray'>\n"
     ]
    }
   ],
   "source": [
    "import numpy as np\n",
    "y=np.array([1,2,3,4])\n",
    "print(y)\n",
    "print(type(y))"
   ]
  },
  {
   "cell_type": "code",
   "execution_count": 10,
   "id": "6f112117",
   "metadata": {},
   "outputs": [
    {
     "name": "stdout",
     "output_type": "stream",
     "text": [
      "[1 2 3 5]\n",
      "<class 'numpy.ndarray'>\n"
     ]
    }
   ],
   "source": [
    "import numpy as np\n",
    "y=np.array([1,2,3,5])\n",
    "print(y)\n",
    "print(type(y))"
   ]
  },
  {
   "cell_type": "code",
   "execution_count": 4,
   "id": "05c26b25",
   "metadata": {},
   "outputs": [
    {
     "name": "stdout",
     "output_type": "stream",
     "text": [
      "8\n"
     ]
    }
   ],
   "source": [
    "a=2\n",
    "print(a**3)"
   ]
  },
  {
   "cell_type": "code",
   "execution_count": 12,
   "id": "446de876",
   "metadata": {},
   "outputs": [
    {
     "name": "stdout",
     "output_type": "stream",
     "text": [
      "1\n",
      "16\n",
      "81\n",
      "256\n",
      "625\n",
      "1296\n",
      "2401\n",
      "4096\n"
     ]
    }
   ],
   "source": [
    "for j in range(1,9):\n",
    "    print(j**4)"
   ]
  },
  {
   "cell_type": "code",
   "execution_count": 5,
   "id": "a6d39600",
   "metadata": {},
   "outputs": [
    {
     "data": {
      "text/plain": [
       "[1, 16, 81, 256, 625, 1296, 2401, 4096]"
      ]
     },
     "execution_count": 5,
     "metadata": {},
     "output_type": "execute_result"
    }
   ],
   "source": [
    " [j**4 for j in range(1,9)] list comperhension"
   ]
  },
  {
   "cell_type": "code",
   "execution_count": 6,
   "id": "3a7aea49",
   "metadata": {},
   "outputs": [
    {
     "name": "stdout",
     "output_type": "stream",
     "text": [
      "9.8 µs ± 1.96 µs per loop (mean ± std. dev. of 7 runs, 100000 loops each)\n"
     ]
    }
   ],
   "source": [
    "%timeit [j**4 for j in range(1,9)]"
   ]
  },
  {
   "cell_type": "code",
   "execution_count": 7,
   "id": "439e6c27",
   "metadata": {},
   "outputs": [
    {
     "name": "stdout",
     "output_type": "stream",
     "text": [
      "6.06 µs ± 832 ns per loop (mean ± std. dev. of 7 runs, 100000 loops each)\n"
     ]
    }
   ],
   "source": [
    "import numpy as np\n",
    "%timeit np.arange(1,9)**4"
   ]
  },
  {
   "cell_type": "code",
   "execution_count": 14,
   "id": "c0f25c33",
   "metadata": {},
   "outputs": [
    {
     "name": "stdout",
     "output_type": "stream",
     "text": [
      "[   1   16   81  256  625 1296 2401 4096]\n"
     ]
    }
   ],
   "source": [
    "import numpy as np\n",
    "t=np.arange(1,9)**4\n",
    "print(t)"
   ]
  },
  {
   "cell_type": "code",
   "execution_count": 15,
   "id": "2ce84dd0",
   "metadata": {},
   "outputs": [
    {
     "name": "stdout",
     "output_type": "stream",
     "text": [
      "5\n",
      "\n",
      "5\n",
      "5\n",
      "['5' '' '5' '5']\n"
     ]
    }
   ],
   "source": [
    "l=[]\n",
    "for i in range(1,5):\n",
    "    int_l=input(\"\")\n",
    "    l.append(int_l)\n",
    "print(np.array(l))"
   ]
  },
  {
   "cell_type": "code",
   "execution_count": 8,
   "id": "685d0995",
   "metadata": {},
   "outputs": [
    {
     "name": "stdout",
     "output_type": "stream",
     "text": [
      "[[1 2 3 4]\n",
      " [8 9 7 6]]\n",
      "2\n"
     ]
    }
   ],
   "source": [
    "arr2=np.array([[1,2,3,4],[8,9,7,6]])\n",
    "print(arr2)\n",
    "print(arr2.ndim)"
   ]
  },
  {
   "cell_type": "code",
   "execution_count": 18,
   "id": "1268cb94",
   "metadata": {},
   "outputs": [
    {
     "name": "stdout",
     "output_type": "stream",
     "text": [
      "[[[1 2 3 4]\n",
      "  [8 9 7 6]\n",
      "  [1 2 3 4]]]\n",
      "3\n"
     ]
    }
   ],
   "source": [
    "arr3=np.array([[[1,2,3,4],[8,9,7,6],[1,2,3,4]]])\n",
    "print(arr3)\n",
    "print(arr3.ndim)"
   ]
  },
  {
   "cell_type": "code",
   "execution_count": 9,
   "id": "dd0642bc",
   "metadata": {},
   "outputs": [
    {
     "name": "stdout",
     "output_type": "stream",
     "text": [
      "[[[[[[[[[[1 2 3 4]]]]]]]]]]\n",
      "10\n"
     ]
    }
   ],
   "source": [
    "arr=np.array([1,2,3,4],ndmin=10)\n",
    "print(arr)\n",
    "print(arr.ndim)"
   ]
  },
  {
   "cell_type": "markdown",
   "id": "b47d1984",
   "metadata": {},
   "source": [
    "##### Installation \n",
    "•\tPip list   \n",
    "•\tPip install NumPy"
   ]
  },
  {
   "cell_type": "code",
   "execution_count": null,
   "id": "24db4c0b",
   "metadata": {},
   "outputs": [],
   "source": []
  },
  {
   "cell_type": "code",
   "execution_count": 1,
   "id": "68413e26",
   "metadata": {},
   "outputs": [
    {
     "name": "stdout",
     "output_type": "stream",
     "text": [
      "Package                       Version\n",
      "----------------------------- --------\n",
      "absl-py                       1.4.0\n",
      "anyio                         3.6.2\n",
      "argon2-cffi                   21.3.0\n",
      "argon2-cffi-bindings          21.2.0\n",
      "asgiref                       3.6.0\n",
      "astunparse                    1.6.3\n",
      "attrs                         23.1.0\n",
      "autopep8                      1.4.4\n",
      "backcall                      0.2.0\n",
      "beautifulsoup4                4.12.2\n",
      "bleach                        6.0.0\n",
      "cachetools                    5.3.0\n",
      "certifi                       2019.3.9\n",
      "cffi                          1.15.1\n",
      "chardet                       3.0.4\n",
      "charset-normalizer            3.1.0\n",
      "click                         8.1.3\n",
      "colorama                      0.4.6\n",
      "coreapi                       2.3.3\n",
      "coreschema                    0.0.4\n",
      "cryptography                  40.0.2\n",
      "cycler                        0.11.0\n",
      "debugpy                       1.6.7\n",
      "decorator                     5.1.1\n",
      "defusedxml                    0.6.0\n",
      "Django                        3.2.19\n",
      "django-allauth                0.39.1\n",
      "django-countries              5.3.3\n",
      "django-crispy-forms           1.7.2\n",
      "django-debug-toolbar          1.10.1\n",
      "django-templated-mail         1.1.1\n",
      "djangorestframework           3.14.0\n",
      "djangorestframework-simplejwt 4.8.0\n",
      "djoser                        2.1.0\n",
      "entrypoints                   0.4\n",
      "fastjsonschema                2.16.3\n",
      "Flask                         2.2.5\n",
      "flatbuffers                   23.3.3\n",
      "fonttools                     4.38.0\n",
      "gast                          0.4.0\n",
      "google-auth                   2.17.3\n",
      "google-auth-oauthlib          0.4.6\n",
      "google-pasta                  0.2.0\n",
      "grpcio                        1.54.0\n",
      "h5py                          3.8.0\n",
      "idna                          2.8\n",
      "importlib-metadata            6.6.0\n",
      "importlib-resources           5.12.0\n",
      "ipykernel                     6.16.2\n",
      "ipython                       7.34.0\n",
      "ipython-genutils              0.2.0\n",
      "ipywidgets                    8.0.6\n",
      "itsdangerous                  2.1.2\n",
      "itypes                        1.2.0\n",
      "jedi                          0.18.2\n",
      "Jinja2                        3.1.2\n",
      "joblib                        1.2.0\n",
      "jsonschema                    4.17.3\n",
      "jupyter                       1.0.0\n",
      "jupyter_client                7.4.9\n",
      "jupyter-console               6.6.3\n",
      "jupyter_core                  4.12.0\n",
      "jupyter-server                1.24.0\n",
      "jupyterlab-pygments           0.2.2\n",
      "jupyterlab-widgets            3.0.7\n",
      "keras                         2.11.0\n",
      "kiwisolver                    1.4.4\n",
      "libclang                      16.0.0\n",
      "lxml                          4.9.2\n",
      "Markdown                      3.4.3\n",
      "MarkupSafe                    2.1.2\n",
      "matplotlib                    3.5.3\n",
      "matplotlib-inline             0.1.6\n",
      "mistune                       2.0.5\n",
      "mysql-connector               2.2.9\n",
      "mysql-connector-python        8.0.33\n",
      "nbclassic                     0.5.6\n",
      "nbclient                      0.7.4\n",
      "nbconvert                     7.3.1\n",
      "nbformat                      5.8.0\n",
      "nest-asyncio                  1.5.6\n",
      "nltk                          3.8.1\n",
      "notebook                      6.5.4\n",
      "notebook_shim                 0.2.3\n",
      "numpy                         1.21.6\n",
      "oauthlib                      3.0.1\n",
      "opencv-python                 4.7.0.72\n",
      "opt-einsum                    3.3.0\n",
      "packaging                     23.1\n",
      "pandas                        1.3.5\n",
      "pandocfilters                 1.5.0\n",
      "parso                         0.8.3\n",
      "pep8                          1.7.1\n",
      "pickleshare                   0.7.5\n",
      "Pillow                        6.2.2\n",
      "pip                           23.1.2\n",
      "pkgutil_resolve_name          1.3.10\n",
      "prometheus-client             0.16.0\n",
      "prompt-toolkit                3.0.38\n",
      "protobuf                      3.19.6\n",
      "psutil                        5.9.5\n",
      "pyasn1                        0.5.0\n",
      "pyasn1-modules                0.3.0\n",
      "pycodestyle                   2.5.0\n",
      "pycparser                     2.21\n",
      "Pygments                      2.15.1\n",
      "PyJWT                         2.7.0\n",
      "pyparsing                     3.0.9\n",
      "pyrsistent                    0.19.3\n",
      "python-dateutil               2.8.2\n",
      "python-decouple               3.1\n",
      "python3-openid                3.1.0\n",
      "pytz                          2018.5\n",
      "pywin32                       306\n",
      "pywinpty                      2.0.10\n",
      "pyzmq                         25.0.2\n",
      "qtconsole                     5.4.2\n",
      "QtPy                          2.3.1\n",
      "regex                         2023.6.3\n",
      "requests                      2.21.0\n",
      "requests-oauthlib             1.2.0\n",
      "rsa                           4.9\n",
      "scikit-learn                  1.0.2\n",
      "scipy                         1.7.3\n",
      "seaborn                       0.12.2\n",
      "Send2Trash                    1.8.2\n",
      "setuptools                    47.1.0\n",
      "six                           1.16.0\n",
      "sniffio                       1.3.0\n",
      "social-auth-app-django        4.0.0\n",
      "social-auth-core              4.4.2\n",
      "soupsieve                     2.4.1\n",
      "sqlparse                      0.2.4\n",
      "stripe                        2.27.0\n",
      "tensorboard                   2.11.2\n",
      "tensorboard-data-server       0.6.1\n",
      "tensorboard-plugin-wit        1.8.1\n",
      "tensorflow                    2.11.0\n",
      "tensorflow-estimator          2.11.0\n",
      "tensorflow-intel              2.11.0\n",
      "tensorflow-io-gcs-filesystem  0.31.0\n",
      "termcolor                     2.3.0\n",
      "terminado                     0.17.1\n",
      "threadpoolctl                 3.1.0\n",
      "tinycss2                      1.2.1\n",
      "tornado                       6.2\n",
      "tqdm                          4.65.0\n",
      "traitlets                     5.9.0\n",
      "typing_extensions             4.5.0\n",
      "uritemplate                   4.1.1\n",
      "urllib3                       1.24.2\n",
      "wcwidth                       0.2.6\n",
      "webencodings                  0.5.1\n",
      "websocket-client              1.5.1\n",
      "Werkzeug                      2.2.3\n",
      "wheel                         0.40.0\n",
      "widgetsnbextension            4.0.7\n",
      "wrapt                         1.15.0\n",
      "zipp                          3.15.0\n",
      "Note: you may need to restart the kernel to use updated packages.\n"
     ]
    },
    {
     "name": "stderr",
     "output_type": "stream",
     "text": [
      "WARNING: Ignoring invalid distribution -jango (c:\\users\\admin\\appdata\\local\\programs\\python\\python37\\lib\\site-packages)\n"
     ]
    }
   ],
   "source": [
    "pip list"
   ]
  },
  {
   "cell_type": "markdown",
   "id": "6920902c",
   "metadata": {},
   "source": [
    "# Import NumPy\n",
    "Import numpy:  import entire numpy module.                    \n",
    "from numpy import *: to import all from numpy package. (This will import all class, objects, variable etc. from numpy package. Here *means All)\n"
   ]
  },
  {
   "cell_type": "markdown",
   "id": "b025f5cb",
   "metadata": {},
   "source": [
    "# Checking NumPy Version\n",
    "##The version string is stored under __version__ attribute.\n"
   ]
  },
  {
   "cell_type": "code",
   "execution_count": 6,
   "id": "16ce5b4b",
   "metadata": {},
   "outputs": [
    {
     "name": "stdout",
     "output_type": "stream",
     "text": [
      "<class 'tuple'>\n"
     ]
    }
   ],
   "source": [
    "l=(5,6)\n",
    "print(type(l))"
   ]
  },
  {
   "cell_type": "code",
   "execution_count": 10,
   "id": "85e13350",
   "metadata": {},
   "outputs": [
    {
     "name": "stdout",
     "output_type": "stream",
     "text": [
      "[1 2 3 4]\n",
      "int32\n",
      "1.21.6\n"
     ]
    }
   ],
   "source": [
    "import numpy as np\n",
    "arr = np.array([1, 2, 3, 4])\n",
    "print(arr)\n",
    "print(arr.dtype)\n",
    "print(np.__version__)"
   ]
  },
  {
   "cell_type": "code",
   "execution_count": 8,
   "id": "84cc1a3e",
   "metadata": {},
   "outputs": [
    {
     "name": "stdout",
     "output_type": "stream",
     "text": [
      "[array([4]), array([11,  2]), array([3, 9])]\n"
     ]
    }
   ],
   "source": [
    "import numpy as np\n",
    "d1=np.array([4,11,2,3,9])\n",
    "print(np.split(d1,[1,3]))"
   ]
  },
  {
   "cell_type": "code",
   "execution_count": 7,
   "id": "53392054",
   "metadata": {},
   "outputs": [
    {
     "name": "stdout",
     "output_type": "stream",
     "text": [
      "[0.         1.57079633 3.14159265]\n",
      "[0.0000000e+00 1.0000000e+00 1.2246468e-16]\n",
      "[ 1.000000e+00  6.123234e-17 -1.000000e+00]\n",
      "[ 0.00000000e+00  1.63312394e+16 -1.22464680e-16]\n"
     ]
    }
   ],
   "source": [
    "arr_angles = np.array([0, np.pi/2, np.pi])\n",
    "print(arr_angles)\n",
    "arr_sin = np.sin(arr_angles)\n",
    "arr_cos = np.cos(arr_angles) \n",
    "arr_tan = np.tan(arr_angles) \n",
    "print(arr_sin)\n",
    "print(arr_cos)  \n",
    "print(arr_tan)"
   ]
  },
  {
   "cell_type": "markdown",
   "id": "ff2a1883",
   "metadata": {},
   "source": [
    "# Numpy array: \n",
    "NumPy arrays are the main way we will use Numpy throughout the course. Numpy arrays essentially come in two flavors: vectors and matrices. Vectors are strictly 1-d arrays and matrices are 2-d (but you should note a matrix can still have only one row or one column)."
   ]
  },
  {
   "cell_type": "markdown",
   "id": "fe0e2d87",
   "metadata": {},
   "source": [
    "# Creating NumPy Arrays\n",
    "From a Python List: We can create an array by directly converting a list or list of lists"
   ]
  },
  {
   "cell_type": "code",
   "execution_count": 3,
   "id": "49d11394",
   "metadata": {},
   "outputs": [],
   "source": [
    "import numpy as np"
   ]
  },
  {
   "cell_type": "markdown",
   "id": "3b1be94c",
   "metadata": {},
   "source": [
    "1d array"
   ]
  },
  {
   "cell_type": "code",
   "execution_count": 4,
   "id": "c5653be1",
   "metadata": {},
   "outputs": [
    {
     "name": "stdout",
     "output_type": "stream",
     "text": [
      "[1 2 3 4 5]\n"
     ]
    }
   ],
   "source": [
    "a = np.array([1, 2, 3, 4, 5])\n",
    "print(a)"
   ]
  },
  {
   "cell_type": "code",
   "execution_count": null,
   "id": "602cb1c5",
   "metadata": {},
   "outputs": [],
   "source": [
    "[]\n",
    "[[]]\n",
    "[[[]]]"
   ]
  },
  {
   "cell_type": "markdown",
   "id": "3a095c60",
   "metadata": {},
   "source": [
    "2d array"
   ]
  },
  {
   "cell_type": "code",
   "execution_count": 5,
   "id": "cff33447",
   "metadata": {},
   "outputs": [
    {
     "name": "stdout",
     "output_type": "stream",
     "text": [
      "[[ 1  2  3  4]\n",
      " [ 5  6  7  8]\n",
      " [ 9 10 11 12]]\n"
     ]
    }
   ],
   "source": [
    "a = np.array([[1, 2, 3, 4],\n",
    "              [5, 6, 7, 8],\n",
    "              [9, 10, 11, 12]])\n",
    "print(a)"
   ]
  },
  {
   "cell_type": "markdown",
   "id": "495da639",
   "metadata": {},
   "source": [
    "3d array"
   ]
  },
  {
   "cell_type": "code",
   "execution_count": 6,
   "id": "fda3775c",
   "metadata": {
    "scrolled": true
   },
   "outputs": [
    {
     "name": "stdout",
     "output_type": "stream",
     "text": [
      "[[[ 1  2  3  4]\n",
      "  [ 5  6  7  8]\n",
      "  [ 9 10 11 12]]\n",
      "\n",
      " [[13 14 15 16]\n",
      "  [17 18 19 20]\n",
      "  [21 22 23 24]]]\n"
     ]
    }
   ],
   "source": [
    "a = np.array([[[1,2,3,4], [5,6,7,8], [9,10,11,12]],\n",
    "              [[13,14,15,16], [17,18,19,20], [21,22,23,24]]])\n",
    "print(a)"
   ]
  },
  {
   "cell_type": "markdown",
   "id": "04c14c3b",
   "metadata": {},
   "source": [
    "# Check Number of Dimensions:\n",
    "NumPy Arrays provides the ndim attribute that returns an integer that tells us how many dimensions the array have"
   ]
  },
  {
   "cell_type": "code",
   "execution_count": 7,
   "id": "1332711b",
   "metadata": {},
   "outputs": [
    {
     "name": "stdout",
     "output_type": "stream",
     "text": [
      "0\n",
      "1\n",
      "2\n",
      "3\n"
     ]
    }
   ],
   "source": [
    "a = np.array(42)\n",
    "b = np.array([1, 2, 3, 4, 5])\n",
    "c = np.array([[1, 2, 3], [4, 5, 6]])\n",
    "d = np.array([[[1, 2, 3], [4, 5, 6]], [[1, 2, 3], [4, 5, 6]]])\n",
    "print(a.ndim)\n",
    "print(b.ndim)\n",
    "print(c.ndim)\n",
    "print(d.ndim)"
   ]
  },
  {
   "cell_type": "markdown",
   "id": "8be5970a",
   "metadata": {},
   "source": [
    "# Higher Dimensional Arrays:\n",
    "An array can have any number of dimensions.\n",
    "When the array is created, you can define the number of dimensions by using the ndmin argument\n"
   ]
  },
  {
   "cell_type": "code",
   "execution_count": 13,
   "id": "fc8173b4",
   "metadata": {},
   "outputs": [
    {
     "name": "stdout",
     "output_type": "stream",
     "text": [
      "[[[[[[1 2 3 4]]]]]]\n",
      "number of dimensions : 6\n"
     ]
    }
   ],
   "source": [
    "arr = np.array([1, 2, 3, 4], ndmin=6)\n",
    "print(arr)\n",
    "print('number of dimensions :', arr.ndim)"
   ]
  },
  {
   "cell_type": "markdown",
   "id": "94512bec",
   "metadata": {},
   "source": [
    "# for loop"
   ]
  },
  {
   "cell_type": "code",
   "execution_count": 11,
   "id": "92f33574",
   "metadata": {},
   "outputs": [
    {
     "data": {
      "text/plain": [
       "5"
      ]
     },
     "execution_count": 11,
     "metadata": {},
     "output_type": "execute_result"
    }
   ],
   "source": [
    "from numpy import *\n",
    "a=array([101,102,103,104,105])\n",
    "     \n",
    "len(a)"
   ]
  },
  {
   "cell_type": "code",
   "execution_count": null,
   "id": "93c47a64",
   "metadata": {},
   "outputs": [],
   "source": [
    "# l=[1,2,3,4,5]\n",
    "# len(l)"
   ]
  },
  {
   "cell_type": "markdown",
   "id": "7057f7cc",
   "metadata": {},
   "source": [
    "without indexing"
   ]
  },
  {
   "cell_type": "code",
   "execution_count": 12,
   "id": "b5324822",
   "metadata": {
    "scrolled": true
   },
   "outputs": [
    {
     "name": "stdout",
     "output_type": "stream",
     "text": [
      "101\n",
      "102\n",
      "103\n",
      "104\n",
      "105\n"
     ]
    }
   ],
   "source": [
    "for i in a:\n",
    "    print(i)"
   ]
  },
  {
   "cell_type": "markdown",
   "id": "ebc1c66e",
   "metadata": {},
   "source": [
    "with index\n"
   ]
  },
  {
   "cell_type": "code",
   "execution_count": 18,
   "id": "6e035c93",
   "metadata": {},
   "outputs": [
    {
     "name": "stdout",
     "output_type": "stream",
     "text": [
      "101\n",
      "102\n",
      "103\n",
      "104\n",
      "105\n"
     ]
    }
   ],
   "source": [
    " n=len(a)\n",
    "# 5\n",
    "for i in range(n): \n",
    "    print(a[i])         \n",
    "#            a[0] \n",
    "#         a[1]\n",
    "        "
   ]
  },
  {
   "cell_type": "code",
   "execution_count": null,
   "id": "e0df17c2",
   "metadata": {},
   "outputs": [],
   "source": [
    "0,1,2,3,4"
   ]
  },
  {
   "cell_type": "markdown",
   "id": "69fd7c49",
   "metadata": {},
   "source": [
    "# while loop \n"
   ]
  },
  {
   "cell_type": "code",
   "execution_count": 19,
   "id": "537d656a",
   "metadata": {},
   "outputs": [
    {
     "name": "stdout",
     "output_type": "stream",
     "text": [
      "0 101\n",
      "1 102\n",
      "2 103\n",
      "3 104\n",
      "4 105\n"
     ]
    }
   ],
   "source": [
    "n=len(a)\n",
    "i=0\n",
    "while i<n:\n",
    "    print(i,a[i])\n",
    "    i+=1"
   ]
  },
  {
   "cell_type": "markdown",
   "id": "bb24b2f7",
   "metadata": {},
   "source": [
    "# asscessing array element\n",
    "Array indexing is the same as accessing an array element.\n",
    "to access an array element by referring to its index number.\n",
    "The indexes in NumPy arrays start with 0, meaning that the first element has index 0, and the second has index 1 etc."
   ]
  },
  {
   "cell_type": "code",
   "execution_count": 20,
   "id": "3506fd40",
   "metadata": {},
   "outputs": [
    {
     "name": "stdout",
     "output_type": "stream",
     "text": [
      "3\n"
     ]
    }
   ],
   "source": [
    "import numpy as np\n",
    "arr = np.array([1, 2, 3, 4])\n",
    "print(arr[2])"
   ]
  },
  {
   "cell_type": "code",
   "execution_count": 21,
   "id": "aca0f7b0",
   "metadata": {},
   "outputs": [
    {
     "name": "stdout",
     "output_type": "stream",
     "text": [
      "2\n"
     ]
    }
   ],
   "source": [
    "#Get the second element from the following array.\n",
    "import numpy as np\n",
    "arr = np.array([1, 2, 3, 4])\n",
    "print(arr[1])"
   ]
  },
  {
   "cell_type": "code",
   "execution_count": 13,
   "id": "20a9e15a",
   "metadata": {},
   "outputs": [
    {
     "name": "stdout",
     "output_type": "stream",
     "text": [
      "7\n"
     ]
    }
   ],
   "source": [
    "#Get third and fourth elements from the following array and add them.\n",
    "import numpy as np\n",
    "arr = np.array([1, 2, 3, 4])\n",
    "print(arr[2] + arr[3])"
   ]
  },
  {
   "cell_type": "markdown",
   "id": "08e57a75",
   "metadata": {},
   "source": [
    "# Access 2-D Arrays"
   ]
  },
  {
   "cell_type": "markdown",
   "id": "a6f2b979",
   "metadata": {},
   "source": [
    "#To access elements from 2-D arrays we can use comma separated integers representing the dimension and the index of the element.\n"
   ]
  },
  {
   "cell_type": "code",
   "execution_count": 13,
   "id": "6af4bfc9",
   "metadata": {},
   "outputs": [
    {
     "name": "stdout",
     "output_type": "stream",
     "text": [
      "[[ 1  2  3  4  5]\n",
      " [ 6  7  8  9 10]]\n",
      "2nd element on 1st row:  4\n"
     ]
    }
   ],
   "source": [
    "#Access the element on the first row, second column:\n",
    "\n",
    "import numpy as np\n",
    "arr = np.array([[1,2,3,4,5], [6,7,8,9,10]])\n",
    "print(arr)\n",
    "print('2nd element on 1st row: ', arr[0, 3])"
   ]
  },
  {
   "cell_type": "code",
   "execution_count": 15,
   "id": "a27740ac",
   "metadata": {},
   "outputs": [
    {
     "name": "stdout",
     "output_type": "stream",
     "text": [
      "[[ 1  2  3  4  5]\n",
      " [ 6  7  8  9 10]]\n",
      "5th element on 2nd row:  10\n"
     ]
    }
   ],
   "source": [
    "#Access the element on the 2nd row, 5th column:\n",
    "import numpy as np\n",
    "arr = np.array([[1,2,3,4,5], [6,7,8,9,10]])\n",
    "print(arr)\n",
    "print('5th element on 2nd row: ', arr[1, 4])\n"
   ]
  },
  {
   "cell_type": "markdown",
   "id": "cf85db5c",
   "metadata": {},
   "source": [
    "# Access 3-D Arrays\n",
    "To access elements from 3-D arrays we can use comma separated integers representing the dimensions and the index of the element."
   ]
  },
  {
   "cell_type": "code",
   "execution_count": 10,
   "id": "3bcf3b94",
   "metadata": {},
   "outputs": [
    {
     "name": "stdout",
     "output_type": "stream",
     "text": [
      "[[[ 1  2  3]\n",
      "  [ 4  5  6]]\n",
      "\n",
      " [[ 7  8  9]\n",
      "  [10 11 12]]]\n",
      "12\n"
     ]
    }
   ],
   "source": [
    "#Access the third element of the second array of the first array:\n",
    "import numpy as np\n",
    "arr = np.array([[[1, 2, 3], [4, 5, 6]], [[7, 8, 9], [10, 11, 12]]])\n",
    "print(arr)\n",
    "print(arr[1, 1, 2])"
   ]
  },
  {
   "cell_type": "markdown",
   "id": "b7f9422f",
   "metadata": {},
   "source": [
    "# Negative Indexing\n",
    "Use negative indexing to access an array from the end."
   ]
  },
  {
   "cell_type": "code",
   "execution_count": 19,
   "id": "c8f4659d",
   "metadata": {},
   "outputs": [
    {
     "name": "stdout",
     "output_type": "stream",
     "text": [
      "[[ 1  2  3  4  5]\n",
      " [ 6  7  8  9 10]]\n",
      "Last element from 2nd dim:  2\n"
     ]
    }
   ],
   "source": [
    "#Print the last element from the 2nd dim:\n",
    "\n",
    "import numpy as np\n",
    "arr = np.array([[1,2,3,4,5], [6,7,8,9,10]])\n",
    "print(arr)\n",
    "print('Last element from 2nd dim: ', arr[-2, -4])"
   ]
  },
  {
   "cell_type": "markdown",
   "id": "09f83b61",
   "metadata": {},
   "source": [
    "# create an array with values that are spaced linearly in a specified interval"
   ]
  },
  {
   "cell_type": "markdown",
   "id": "84cc3ca9",
   "metadata": {},
   "source": [
    "# linspace:\n",
    "Return evenly spaced numbers over a specified interval.if we not gave value then it print default 50 values"
   ]
  },
  {
   "cell_type": "code",
   "execution_count": 9,
   "id": "154a3c98",
   "metadata": {},
   "outputs": [
    {
     "data": {
      "text/plain": [
       "array([ 1.  ,  3.25,  5.5 ,  7.75, 10.  ])"
      ]
     },
     "execution_count": 9,
     "metadata": {},
     "output_type": "execute_result"
    }
   ],
   "source": [
    "import numpy as np\n",
    "np.linspace(1,10,5)"
   ]
  },
  {
   "cell_type": "code",
   "execution_count": 13,
   "id": "909ebfd7",
   "metadata": {},
   "outputs": [
    {
     "data": {
      "text/plain": [
       "(array([1, 2, 4, 6, 8]), 1.8)"
      ]
     },
     "execution_count": 13,
     "metadata": {},
     "output_type": "execute_result"
    }
   ],
   "source": [
    "import numpy as np\n",
    "np.linspace(1,10,5,dtype=int,endpoint=False,retstep=True)"
   ]
  },
  {
   "cell_type": "code",
   "execution_count": 20,
   "id": "067a0705",
   "metadata": {},
   "outputs": [
    {
     "data": {
      "text/plain": [
       "(array([ 0, 12, 25, 37, 50, 62, 75, 87]), 12.5)"
      ]
     },
     "execution_count": 20,
     "metadata": {},
     "output_type": "execute_result"
    }
   ],
   "source": [
    "np.linspace(0,100,8,dtype=int,endpoint=False,retstep=True)"
   ]
  },
  {
   "cell_type": "code",
   "execution_count": 7,
   "id": "469f9628",
   "metadata": {},
   "outputs": [
    {
     "name": "stdout",
     "output_type": "stream",
     "text": [
      "(array([1, 1, 1, 1, 1, 1, 1, 2, 2, 2, 2, 2, 2, 3, 3, 3, 3, 3, 3, 4, 4, 4,\n",
      "       4, 4, 4, 5, 5, 5, 5, 5, 5, 5, 6, 6, 6, 6, 6, 6, 7, 7, 7, 7, 7, 7,\n",
      "       8, 8, 8, 8, 8, 8]), 0.16)\n"
     ]
    }
   ],
   "source": [
    "import numpy as np\n",
    "a=np.linspace(1,9,dtype=int,retstep=True,endpoint=False)\n",
    "print(a)"
   ]
  },
  {
   "cell_type": "markdown",
   "id": "201856a9",
   "metadata": {},
   "source": [
    "# linspce using for loop"
   ]
  },
  {
   "cell_type": "code",
   "execution_count": 9,
   "id": "7096fe19",
   "metadata": {},
   "outputs": [
    {
     "name": "stdout",
     "output_type": "stream",
     "text": [
      "[1.   1.75 2.5  3.25 4.   4.75 5.5  6.25 7.  ]\n"
     ]
    }
   ],
   "source": [
    "a= np.linspace(1,7,9)\n",
    "print(a)"
   ]
  },
  {
   "cell_type": "markdown",
   "id": "1ec466be",
   "metadata": {},
   "source": [
    "without index"
   ]
  },
  {
   "cell_type": "code",
   "execution_count": 10,
   "id": "547f92db",
   "metadata": {},
   "outputs": [
    {
     "name": "stdout",
     "output_type": "stream",
     "text": [
      "1.0\n",
      "1.75\n",
      "2.5\n",
      "3.25\n",
      "4.0\n",
      "4.75\n",
      "5.5\n",
      "6.25\n",
      "7.0\n"
     ]
    }
   ],
   "source": [
    "for i in a:\n",
    "    print(i)"
   ]
  },
  {
   "cell_type": "markdown",
   "id": "5dfb2ac1",
   "metadata": {},
   "source": [
    "with index"
   ]
  },
  {
   "cell_type": "code",
   "execution_count": 21,
   "id": "7a2f759e",
   "metadata": {},
   "outputs": [
    {
     "name": "stdout",
     "output_type": "stream",
     "text": [
      "1.0\n",
      "1.75\n",
      "2.5\n",
      "3.25\n",
      "4.0\n",
      "4.75\n",
      "5.5\n",
      "6.25\n",
      "7.0\n"
     ]
    }
   ],
   "source": [
    "n=len(a)\n",
    "for i in range(n):\n",
    "    print(a[i])"
   ]
  },
  {
   "cell_type": "code",
   "execution_count": 22,
   "id": "0aac4df3",
   "metadata": {},
   "outputs": [
    {
     "name": "stdout",
     "output_type": "stream",
     "text": [
      "1\n",
      "float64\n",
      "<class 'numpy.ndarray'>\n"
     ]
    }
   ],
   "source": [
    "a=np.linspace(1,9,5)\n",
    "print(a.ndim)\n",
    "print(a.dtype)\n",
    "print(type(a))"
   ]
  },
  {
   "cell_type": "code",
   "execution_count": 17,
   "id": "8c16a0b8",
   "metadata": {},
   "outputs": [
    {
     "name": "stdout",
     "output_type": "stream",
     "text": [
      "(array([1.  , 1.16, 1.32, 1.48, 1.64, 1.8 , 1.96, 2.12, 2.28, 2.44, 2.6 ,\n",
      "       2.76, 2.92, 3.08, 3.24, 3.4 , 3.56, 3.72, 3.88, 4.04, 4.2 , 4.36,\n",
      "       4.52, 4.68, 4.84, 5.  , 5.16, 5.32, 5.48, 5.64, 5.8 , 5.96, 6.12,\n",
      "       6.28, 6.44, 6.6 , 6.76, 6.92, 7.08, 7.24, 7.4 , 7.56, 7.72, 7.88,\n",
      "       8.04, 8.2 , 8.36, 8.52, 8.68, 8.84]), 0.16)\n"
     ]
    }
   ],
   "source": [
    "a=np.linspace(1,9,retstep=True,endpoint=False)\n",
    "print(a)"
   ]
  },
  {
   "cell_type": "markdown",
   "id": "f1a0da2f",
   "metadata": {},
   "source": [
    "# while loop in linspace"
   ]
  },
  {
   "cell_type": "code",
   "execution_count": null,
   "id": "b1f580ac",
   "metadata": {},
   "outputs": [],
   "source": [
    "meshgrid"
   ]
  },
  {
   "cell_type": "code",
   "execution_count": 23,
   "id": "aa7f758f",
   "metadata": {},
   "outputs": [
    {
     "name": "stdout",
     "output_type": "stream",
     "text": [
      "1.0\n",
      "3.0\n",
      "5.0\n",
      "7.0\n",
      "9.0\n"
     ]
    }
   ],
   "source": [
    "a=np.linspace(1,9,5)\n",
    "\n",
    "n=len(a)\n",
    "i=0 intialization\n",
    "while i<n:  condition\n",
    "    print(a[i])\n",
    "    i+=1  increment"
   ]
  },
  {
   "cell_type": "markdown",
   "id": "fcdc68c2",
   "metadata": {},
   "source": [
    "# logspace"
   ]
  },
  {
   "cell_type": "code",
   "execution_count": 29,
   "id": "de350414",
   "metadata": {},
   "outputs": [
    {
     "data": {
      "text/plain": [
       "array([   10.        ,    31.6227766 ,   100.        ,   316.22776602,\n",
       "        1000.        ,  3162.27766017, 10000.        ])"
      ]
     },
     "execution_count": 29,
     "metadata": {},
     "output_type": "execute_result"
    }
   ],
   "source": [
    "np.logspace(1,4,7)"
   ]
  },
  {
   "cell_type": "code",
   "execution_count": null,
   "id": "04cd3011",
   "metadata": {},
   "outputs": [],
   "source": [
    "10"
   ]
  },
  {
   "cell_type": "code",
   "execution_count": 34,
   "id": "f2034e20",
   "metadata": {},
   "outputs": [
    {
     "data": {
      "text/plain": [
       "array([  4.        ,  11.3137085 ,  32.        ,  90.50966799,\n",
       "       256.        ])"
      ]
     },
     "execution_count": 34,
     "metadata": {},
     "output_type": "execute_result"
    }
   ],
   "source": [
    "np.logspace(1,4,num=5,base=4)  \n",
    "\n"
   ]
  },
  {
   "cell_type": "code",
   "execution_count": 26,
   "id": "04415c93",
   "metadata": {},
   "outputs": [
    {
     "data": {
      "text/plain": [
       "array([ 3.        ,  5.19615242,  9.        , 15.58845727, 27.        ,\n",
       "       46.7653718 , 81.        ])"
      ]
     },
     "execution_count": 26,
     "metadata": {},
     "output_type": "execute_result"
    }
   ],
   "source": [
    "np.logspace(1,4,num=7,base=3,endpoint=True)"
   ]
  },
  {
   "cell_type": "code",
   "execution_count": 27,
   "id": "7c82750c",
   "metadata": {},
   "outputs": [
    {
     "data": {
      "text/plain": [
       "array([ 3.        ,  4.80398666,  7.6927626 , 12.31864296, 19.7261988 ,\n",
       "       31.58813194, 50.58298812])"
      ]
     },
     "execution_count": 27,
     "metadata": {},
     "output_type": "execute_result"
    }
   ],
   "source": [
    "np.logspace(1,4,num=7,base=3,endpoint=False)"
   ]
  },
  {
   "cell_type": "markdown",
   "id": "3a7bc3e8",
   "metadata": {},
   "source": [
    "# using for loop"
   ]
  },
  {
   "cell_type": "code",
   "execution_count": 28,
   "id": "eada3c07",
   "metadata": {},
   "outputs": [
    {
     "name": "stdout",
     "output_type": "stream",
     "text": [
      "10.0\n",
      "56.23413251903491\n",
      "316.22776601683796\n",
      "1778.2794100389228\n",
      "10000.0\n",
      "56234.13251903491\n",
      "316227.7660168379\n",
      "1778279.410038923\n",
      "10000000.0\n"
     ]
    }
   ],
   "source": [
    "a= logspace(1,7,9)\n",
    "for i in a:\n",
    "    print(i)"
   ]
  },
  {
   "cell_type": "code",
   "execution_count": 29,
   "id": "d14a83dd",
   "metadata": {},
   "outputs": [
    {
     "name": "stdout",
     "output_type": "stream",
     "text": [
      "10.0\n",
      "56.23413251903491\n",
      "316.22776601683796\n",
      "1778.2794100389228\n",
      "10000.0\n",
      "56234.13251903491\n",
      "316227.7660168379\n",
      "1778279.410038923\n",
      "10000000.0\n"
     ]
    }
   ],
   "source": [
    "n=len(a)\n",
    "for i in range(n):\n",
    "    print(a[i])"
   ]
  },
  {
   "cell_type": "markdown",
   "id": "70e9be71",
   "metadata": {},
   "source": [
    "# using while loop"
   ]
  },
  {
   "cell_type": "code",
   "execution_count": 30,
   "id": "3733996a",
   "metadata": {},
   "outputs": [
    {
     "name": "stdout",
     "output_type": "stream",
     "text": [
      "10.0\n",
      "1000.0\n",
      "100000.0\n",
      "10000000.0\n",
      "1000000000.0\n"
     ]
    }
   ],
   "source": [
    "a=np.logspace(1,9,5)\n",
    "n=len(a)\n",
    "i=0\n",
    "while i<n:\n",
    "    print(a[i])\n",
    "    i+=1"
   ]
  },
  {
   "cell_type": "markdown",
   "id": "50e7809f",
   "metadata": {},
   "source": [
    "# an array with range of elements"
   ]
  },
  {
   "cell_type": "code",
   "execution_count": null,
   "id": "ce90fe9a",
   "metadata": {},
   "outputs": [],
   "source": [
    "# arange"
   ]
  },
  {
   "cell_type": "code",
   "execution_count": 35,
   "id": "3a32c830",
   "metadata": {},
   "outputs": [
    {
     "name": "stdout",
     "output_type": "stream",
     "text": [
      "[0 1 2 3 4]\n"
     ]
    }
   ],
   "source": [
    "import numpy as np\n",
    "a=np.arange(5)\n",
    "print(a)"
   ]
  },
  {
   "cell_type": "code",
   "execution_count": 34,
   "id": "4bf513c9",
   "metadata": {},
   "outputs": [
    {
     "name": "stdout",
     "output_type": "stream",
     "text": [
      "5\n",
      "6\n",
      "7\n",
      "8\n"
     ]
    }
   ],
   "source": [
    "for i in range(5,9):\n",
    "    print(i)"
   ]
  },
  {
   "cell_type": "code",
   "execution_count": 16,
   "id": "4162b0f1",
   "metadata": {},
   "outputs": [
    {
     "name": "stdout",
     "output_type": "stream",
     "text": [
      "[5 9]\n"
     ]
    }
   ],
   "source": [
    "import numpy as np\n",
    "a=np.arange(5,10,4)\n",
    "\n",
    "print(a)"
   ]
  },
  {
   "cell_type": "code",
   "execution_count": 11,
   "id": "5c8f38b2",
   "metadata": {},
   "outputs": [
    {
     "data": {
      "text/plain": [
       "array([0, 3, 6, 9])"
      ]
     },
     "execution_count": 11,
     "metadata": {},
     "output_type": "execute_result"
    }
   ],
   "source": [
    "np.arange(0, 11, 3) #with step  0 3 6 9 "
   ]
  },
  {
   "cell_type": "code",
   "execution_count": null,
   "id": "0df0b53c",
   "metadata": {},
   "outputs": [],
   "source": []
  },
  {
   "cell_type": "code",
   "execution_count": 32,
   "id": "2d990ecb",
   "metadata": {},
   "outputs": [
    {
     "data": {
      "text/plain": [
       "array([ 0,  2,  4,  6,  8, 10, 12, 14, 16, 18, 20, 22, 24, 26, 28])"
      ]
     },
     "execution_count": 32,
     "metadata": {},
     "output_type": "execute_result"
    }
   ],
   "source": [
    "np.arange(0,30, 2)"
   ]
  },
  {
   "cell_type": "markdown",
   "id": "c97c191b",
   "metadata": {},
   "source": [
    "# using for loop"
   ]
  },
  {
   "cell_type": "code",
   "execution_count": 36,
   "id": "0b9e44c2",
   "metadata": {},
   "outputs": [
    {
     "name": "stdout",
     "output_type": "stream",
     "text": [
      "1\n",
      "2\n",
      "3\n",
      "4\n",
      "5\n",
      "6\n"
     ]
    }
   ],
   "source": [
    "# without index\n",
    "a= arange(1,7)\n",
    "for i in a:\n",
    "    print(i)"
   ]
  },
  {
   "cell_type": "code",
   "execution_count": 37,
   "id": "4691671a",
   "metadata": {},
   "outputs": [
    {
     "name": "stdout",
     "output_type": "stream",
     "text": [
      "1\n",
      "2\n",
      "3\n",
      "4\n",
      "5\n",
      "6\n"
     ]
    }
   ],
   "source": [
    "#with index\n",
    "n=len(a)\n",
    "for i in range(n):\n",
    "    print(a[i])"
   ]
  },
  {
   "cell_type": "markdown",
   "id": "3a826bbb",
   "metadata": {},
   "source": [
    "# using while loop"
   ]
  },
  {
   "cell_type": "code",
   "execution_count": 35,
   "id": "0dd8fd40",
   "metadata": {},
   "outputs": [
    {
     "name": "stdout",
     "output_type": "stream",
     "text": [
      "1\n",
      "6\n"
     ]
    }
   ],
   "source": [
    "a=np.arange(1,9,5)\n",
    "n=len(a)\n",
    "i=0\n",
    "while i<n:\n",
    "    print(a[i])\n",
    "    i+=1"
   ]
  },
  {
   "cell_type": "markdown",
   "id": "b8aedf4e",
   "metadata": {},
   "source": [
    "# Special Types of Arrays ( filled with specific value)"
   ]
  },
  {
   "cell_type": "markdown",
   "id": "79ee6731",
   "metadata": {},
   "source": [
    "# zeros()"
   ]
  },
  {
   "cell_type": "code",
   "execution_count": 5,
   "id": "aa51ca3d",
   "metadata": {},
   "outputs": [
    {
     "data": {
      "text/plain": [
       "array([[0, 0, 0],\n",
       "       [0, 0, 0],\n",
       "       [0, 0, 0]])"
      ]
     },
     "execution_count": 5,
     "metadata": {},
     "output_type": "execute_result"
    }
   ],
   "source": [
    "import numpy as np\n",
    "np.zeros((3, 3),dtype='int')"
   ]
  },
  {
   "cell_type": "code",
   "execution_count": 40,
   "id": "c4168e5f",
   "metadata": {},
   "outputs": [
    {
     "data": {
      "text/plain": [
       "array([0., 0., 0.])"
      ]
     },
     "execution_count": 40,
     "metadata": {},
     "output_type": "execute_result"
    }
   ],
   "source": [
    "np.zeros(3)"
   ]
  },
  {
   "cell_type": "code",
   "execution_count": 38,
   "id": "c9f772cb",
   "metadata": {},
   "outputs": [
    {
     "data": {
      "text/plain": [
       "array([[0., 0.],\n",
       "       [0., 0.]])"
      ]
     },
     "execution_count": 38,
     "metadata": {},
     "output_type": "execute_result"
    }
   ],
   "source": [
    "np.zeros((2,2))"
   ]
  },
  {
   "cell_type": "markdown",
   "id": "4d48882b",
   "metadata": {},
   "source": [
    "# creating array using zeros()"
   ]
  },
  {
   "cell_type": "code",
   "execution_count": 39,
   "id": "964c029d",
   "metadata": {},
   "outputs": [
    {
     "name": "stdout",
     "output_type": "stream",
     "text": [
      "[0. 0. 0. 0. 0.]\n",
      "[0 0 0 0 0] int32\n",
      "[[0. 0.]\n",
      " [0. 0.]\n",
      " [0. 0.]]\n"
     ]
    }
   ],
   "source": [
    "a=zeros(5)\n",
    "b=zeros(5,dtype=int)\n",
    "c=zeros((3,2))\n",
    "print (a)\n",
    "print (b, b.dtype)\n",
    "print (c)"
   ]
  },
  {
   "cell_type": "markdown",
   "id": "215f87d8",
   "metadata": {},
   "source": [
    "# accessing one-d array element"
   ]
  },
  {
   "cell_type": "code",
   "execution_count": 40,
   "id": "ada63962",
   "metadata": {},
   "outputs": [
    {
     "name": "stdout",
     "output_type": "stream",
     "text": [
      "0.0\n",
      "0.0\n",
      "0.0\n",
      "0.0\n",
      "0.0\n"
     ]
    }
   ],
   "source": [
    "a=zeros(5)\n",
    "print(a[0])\n",
    "print(a[1])\n",
    "print(a[2])\n",
    "print(a[3])\n",
    "print(a[4])"
   ]
  },
  {
   "cell_type": "markdown",
   "id": "9c5ff5e9",
   "metadata": {},
   "source": [
    "# accessing using for loop"
   ]
  },
  {
   "cell_type": "code",
   "execution_count": 41,
   "id": "b9300c52",
   "metadata": {},
   "outputs": [
    {
     "name": "stdout",
     "output_type": "stream",
     "text": [
      "0.0\n",
      "0.0\n",
      "0.0\n",
      "0.0\n",
      "0.0\n",
      "0.0\n",
      "0.0\n",
      "0.0\n",
      "0.0\n",
      "0.0\n"
     ]
    }
   ],
   "source": [
    "a=zeros(5)\n",
    "#without index\n",
    "for i in a:\n",
    "    print(i)\n",
    "\n",
    "#with index\n",
    "n=len(a)\n",
    "for i in range(n):\n",
    "              print(a[i])"
   ]
  },
  {
   "cell_type": "markdown",
   "id": "9ad3dc13",
   "metadata": {},
   "source": [
    "#  ones()"
   ]
  },
  {
   "cell_type": "code",
   "execution_count": 42,
   "id": "2748684f",
   "metadata": {},
   "outputs": [
    {
     "data": {
      "text/plain": [
       "array([[1., 1., 1.],\n",
       "       [1., 1., 1.],\n",
       "       [1., 1., 1.]])"
      ]
     },
     "execution_count": 42,
     "metadata": {},
     "output_type": "execute_result"
    }
   ],
   "source": [
    "np.ones((3, 3))"
   ]
  },
  {
   "cell_type": "code",
   "execution_count": 43,
   "id": "e42d1486",
   "metadata": {},
   "outputs": [
    {
     "data": {
      "text/plain": [
       "array([1., 1., 1.])"
      ]
     },
     "execution_count": 43,
     "metadata": {},
     "output_type": "execute_result"
    }
   ],
   "source": [
    "np.ones(3)"
   ]
  },
  {
   "cell_type": "code",
   "execution_count": 28,
   "id": "0294c88d",
   "metadata": {},
   "outputs": [
    {
     "name": "stdout",
     "output_type": "stream",
     "text": [
      "[1. 1. 1. 1. 1.]\n",
      "[1 1 1 1 1] int32\n",
      "[[1. 1.]\n",
      " [1. 1.]\n",
      " [1. 1.]]\n",
      "[[[1. 1. 1. 1. 1. 1.]\n",
      "  [1. 1. 1. 1. 1. 1.]]\n",
      "\n",
      " [[1. 1. 1. 1. 1. 1.]\n",
      "  [1. 1. 1. 1. 1. 1.]]\n",
      "\n",
      " [[1. 1. 1. 1. 1. 1.]\n",
      "  [1. 1. 1. 1. 1. 1.]]]\n"
     ]
    }
   ],
   "source": [
    "a=np.ones(5)\n",
    "b=np.ones(5,dtype=int)\n",
    "c=np.ones((3,2))\n",
    "d=np.ones((3,2,6))\n",
    "print (a)\n",
    "print (b, b.dtype)\n",
    "print (c)\n",
    "print(d)"
   ]
  },
  {
   "cell_type": "markdown",
   "id": "d43bcd54",
   "metadata": {},
   "source": [
    "# accessing one-d array element"
   ]
  },
  {
   "cell_type": "code",
   "execution_count": 45,
   "id": "0422538a",
   "metadata": {},
   "outputs": [
    {
     "name": "stdout",
     "output_type": "stream",
     "text": [
      "1.0\n",
      "1.0\n",
      "1.0\n",
      "1.0\n",
      "1.0\n"
     ]
    }
   ],
   "source": [
    "a=ones(5)\n",
    "print(a[0])\n",
    "print(a[1])\n",
    "print(a[2])\n",
    "print(a[3])\n",
    "print(a[4])"
   ]
  },
  {
   "cell_type": "markdown",
   "id": "fb74a1b1",
   "metadata": {},
   "source": [
    "# accessing using for loop"
   ]
  },
  {
   "cell_type": "code",
   "execution_count": 46,
   "id": "eca802f1",
   "metadata": {},
   "outputs": [
    {
     "name": "stdout",
     "output_type": "stream",
     "text": [
      "1.0\n",
      "1.0\n",
      "1.0\n",
      "1.0\n",
      "1.0\n",
      "1.0\n",
      "1.0\n",
      "1.0\n",
      "1.0\n",
      "1.0\n"
     ]
    }
   ],
   "source": [
    "a=ones(5)\n",
    "#without index\n",
    "for i in a:\n",
    "    print(i)\n",
    "\n",
    "#with index\n",
    "n=len(a)\n",
    "for i in range(n):\n",
    "              print(a[i])"
   ]
  },
  {
   "cell_type": "markdown",
   "id": "e887f2b5",
   "metadata": {},
   "source": [
    "# accessing using while loop\n"
   ]
  },
  {
   "cell_type": "code",
   "execution_count": 1,
   "id": "9a03bf82",
   "metadata": {},
   "outputs": [
    {
     "ename": "NameError",
     "evalue": "name 'ones' is not defined",
     "output_type": "error",
     "traceback": [
      "\u001b[1;31m---------------------------------------------------------------------------\u001b[0m",
      "\u001b[1;31mNameError\u001b[0m                                 Traceback (most recent call last)",
      "\u001b[1;32m~\\AppData\\Local\\Temp\\ipykernel_9000\\461605334.py\u001b[0m in \u001b[0;36m<module>\u001b[1;34m\u001b[0m\n\u001b[1;32m----> 1\u001b[1;33m \u001b[0ma\u001b[0m\u001b[1;33m=\u001b[0m \u001b[0mones\u001b[0m\u001b[1;33m(\u001b[0m\u001b[1;36m5\u001b[0m\u001b[1;33m)\u001b[0m\u001b[1;33m\u001b[0m\u001b[1;33m\u001b[0m\u001b[0m\n\u001b[0m\u001b[0;32m      2\u001b[0m \u001b[0mn\u001b[0m\u001b[1;33m=\u001b[0m\u001b[0mlen\u001b[0m\u001b[1;33m(\u001b[0m\u001b[0ma\u001b[0m\u001b[1;33m)\u001b[0m\u001b[1;33m\u001b[0m\u001b[1;33m\u001b[0m\u001b[0m\n\u001b[0;32m      3\u001b[0m \u001b[0mi\u001b[0m\u001b[1;33m=\u001b[0m\u001b[1;36m0\u001b[0m\u001b[1;33m\u001b[0m\u001b[1;33m\u001b[0m\u001b[0m\n\u001b[0;32m      4\u001b[0m \u001b[1;32mwhile\u001b[0m \u001b[0mi\u001b[0m\u001b[1;33m<\u001b[0m\u001b[0mn\u001b[0m\u001b[1;33m:\u001b[0m\u001b[1;33m\u001b[0m\u001b[1;33m\u001b[0m\u001b[0m\n\u001b[0;32m      5\u001b[0m     \u001b[0mprint\u001b[0m\u001b[1;33m(\u001b[0m\u001b[0ma\u001b[0m\u001b[1;33m[\u001b[0m\u001b[0mi\u001b[0m\u001b[1;33m]\u001b[0m\u001b[1;33m)\u001b[0m\u001b[1;33m\u001b[0m\u001b[1;33m\u001b[0m\u001b[0m\n",
      "\u001b[1;31mNameError\u001b[0m: name 'ones' is not defined"
     ]
    }
   ],
   "source": [
    "a= ones(5)\n",
    "n=len(a)\n",
    "i=0\n",
    "while i<n:\n",
    "    print(a[i])\n",
    "    i+=1"
   ]
  },
  {
   "cell_type": "markdown",
   "id": "cc2ffb78",
   "metadata": {},
   "source": [
    "# create an empty array"
   ]
  },
  {
   "cell_type": "code",
   "execution_count": 41,
   "id": "00bd4289",
   "metadata": {},
   "outputs": [
    {
     "name": "stdout",
     "output_type": "stream",
     "text": [
      "[  4.          11.3137085   32.          90.50966799 256.        ]\n"
     ]
    }
   ],
   "source": [
    "y=np.empty(5)\n",
    "print(y)"
   ]
  },
  {
   "cell_type": "code",
   "execution_count": 22,
   "id": "47b9369e",
   "metadata": {},
   "outputs": [
    {
     "data": {
      "text/plain": [
       "array([1., 1., 1., 1.])"
      ]
     },
     "execution_count": 22,
     "metadata": {},
     "output_type": "execute_result"
    }
   ],
   "source": [
    "y=np.ones(4)\n",
    "y"
   ]
  },
  {
   "cell_type": "code",
   "execution_count": 23,
   "id": "f4556605",
   "metadata": {},
   "outputs": [
    {
     "data": {
      "text/plain": [
       "array([1., 1., 1., 1.])"
      ]
     },
     "execution_count": 23,
     "metadata": {},
     "output_type": "execute_result"
    }
   ],
   "source": [
    "x=np.empty(4)\n",
    "x"
   ]
  },
  {
   "cell_type": "markdown",
   "id": "952af170",
   "metadata": {},
   "source": [
    "# identity matrix"
   ]
  },
  {
   "cell_type": "code",
   "execution_count": 24,
   "id": "9327dfb0",
   "metadata": {},
   "outputs": [
    {
     "data": {
      "text/plain": [
       "array([[1., 0., 0., 0.],\n",
       "       [0., 1., 0., 0.],\n",
       "       [0., 0., 1., 0.],\n",
       "       [0., 0., 0., 1.]])"
      ]
     },
     "execution_count": 24,
     "metadata": {},
     "output_type": "execute_result"
    }
   ],
   "source": [
    "np.eye(4)"
   ]
  },
  {
   "cell_type": "code",
   "execution_count": 25,
   "id": "14e7dedf",
   "metadata": {},
   "outputs": [
    {
     "data": {
      "text/plain": [
       "array([[1., 0., 0.],\n",
       "       [0., 1., 0.],\n",
       "       [0., 0., 1.],\n",
       "       [0., 0., 0.]])"
      ]
     },
     "execution_count": 25,
     "metadata": {},
     "output_type": "execute_result"
    }
   ],
   "source": [
    "np.eye(4,3)"
   ]
  },
  {
   "cell_type": "markdown",
   "id": "4a6274ca",
   "metadata": {},
   "source": [
    "# Creating Random Valued Arrays"
   ]
  },
  {
   "cell_type": "markdown",
   "id": "dec00805",
   "metadata": {},
   "source": [
    "## Random \n",
    "Numpy also has lots of ways to create random number arrays:\n",
    "### randint\n",
    "randint is a function in Python's built-in random module that generates a random integer between a specified range, inclusive of both endpoints."
   ]
  },
  {
   "cell_type": "code",
   "execution_count": 5,
   "id": "3510cc10",
   "metadata": {},
   "outputs": [
    {
     "data": {
      "text/plain": [
       "['BPF',\n",
       " 'LOG4',\n",
       " 'NV_MAGICCONST',\n",
       " 'RECIP_BPF',\n",
       " 'Random',\n",
       " 'SG_MAGICCONST',\n",
       " 'SystemRandom',\n",
       " 'TWOPI',\n",
       " '_BuiltinMethodType',\n",
       " '_MethodType',\n",
       " '_Sequence',\n",
       " '_Set',\n",
       " '__all__',\n",
       " '__builtins__',\n",
       " '__cached__',\n",
       " '__doc__',\n",
       " '__file__',\n",
       " '__loader__',\n",
       " '__name__',\n",
       " '__package__',\n",
       " '__spec__',\n",
       " '_acos',\n",
       " '_bisect',\n",
       " '_ceil',\n",
       " '_cos',\n",
       " '_e',\n",
       " '_exp',\n",
       " '_inst',\n",
       " '_itertools',\n",
       " '_log',\n",
       " '_os',\n",
       " '_pi',\n",
       " '_random',\n",
       " '_sha512',\n",
       " '_sin',\n",
       " '_sqrt',\n",
       " '_test',\n",
       " '_test_generator',\n",
       " '_urandom',\n",
       " '_warn',\n",
       " 'betavariate',\n",
       " 'choice',\n",
       " 'choices',\n",
       " 'expovariate',\n",
       " 'gammavariate',\n",
       " 'gauss',\n",
       " 'getrandbits',\n",
       " 'getstate',\n",
       " 'lognormvariate',\n",
       " 'normalvariate',\n",
       " 'paretovariate',\n",
       " 'randint',\n",
       " 'random',\n",
       " 'randrange',\n",
       " 'sample',\n",
       " 'seed',\n",
       " 'setstate',\n",
       " 'shuffle',\n",
       " 'triangular',\n",
       " 'uniform',\n",
       " 'vonmisesvariate',\n",
       " 'weibullvariate']"
      ]
     },
     "execution_count": 5,
     "metadata": {},
     "output_type": "execute_result"
    }
   ],
   "source": [
    "import random\n",
    "dir(random)"
   ]
  },
  {
   "cell_type": "code",
   "execution_count": 44,
   "id": "8de13e5f",
   "metadata": {},
   "outputs": [
    {
     "name": "stdout",
     "output_type": "stream",
     "text": [
      "1.3862196999373313\n"
     ]
    }
   ],
   "source": [
    "print(random.uniform(1,5))"
   ]
  },
  {
   "cell_type": "code",
   "execution_count": 42,
   "id": "dc43693b",
   "metadata": {},
   "outputs": [
    {
     "name": "stdout",
     "output_type": "stream",
     "text": [
      "9\n"
     ]
    }
   ],
   "source": [
    "import random\n",
    "print(random.randint(1,10))"
   ]
  },
  {
   "cell_type": "code",
   "execution_count": 45,
   "id": "041179dc",
   "metadata": {},
   "outputs": [
    {
     "data": {
      "text/plain": [
       "array([29, 12, 87, 36, 24, 31,  4,  1, 20, 25, 56, 38, 38, 79, 73, 79, 40,\n",
       "       49, 51, 31, 60, 66, 83, 45, 25, 62, 94,  4, 56,  6, 46, 51, 37, 27,\n",
       "       93, 83, 41, 58, 47, 85,  6, 81, 38, 42, 47, 82, 84, 17, 32, 40])"
      ]
     },
     "execution_count": 45,
     "metadata": {},
     "output_type": "execute_result"
    }
   ],
   "source": [
    "import random\n",
    "import numpy as np\n",
    "\n",
    "np.random.randint(1, 100,50)"
   ]
  },
  {
   "cell_type": "markdown",
   "id": "a53c911b",
   "metadata": {},
   "source": [
    "## rand\n",
    "rand is a function in Python's built-in random module that generates a random float between 0 and 1."
   ]
  },
  {
   "cell_type": "code",
   "execution_count": 12,
   "id": "c0b7bb6c",
   "metadata": {},
   "outputs": [
    {
     "data": {
      "text/plain": [
       "0.8216393358470437"
      ]
     },
     "execution_count": 12,
     "metadata": {},
     "output_type": "execute_result"
    }
   ],
   "source": [
    "np.random.rand()"
   ]
  },
  {
   "cell_type": "code",
   "execution_count": 5,
   "id": "b85ab19c",
   "metadata": {},
   "outputs": [
    {
     "data": {
      "text/plain": [
       "array([0.55003049, 0.93922115, 0.83093925, 0.41662677])"
      ]
     },
     "execution_count": 5,
     "metadata": {},
     "output_type": "execute_result"
    }
   ],
   "source": [
    "import numpy as np\n",
    "np.random.rand(4)"
   ]
  },
  {
   "cell_type": "code",
   "execution_count": 14,
   "id": "fc130f7e",
   "metadata": {},
   "outputs": [
    {
     "data": {
      "text/plain": [
       "array([[0.02517677, 0.47639198, 0.74202077, 0.18081614, 0.98634063,\n",
       "        0.07538388, 0.25489572],\n",
       "       [0.76120374, 0.15787875, 0.95168922, 0.42666833, 0.4119791 ,\n",
       "        0.5065005 , 0.41341995],\n",
       "       [0.71766318, 0.24956871, 0.10725121, 0.49821265, 0.6689045 ,\n",
       "        0.76135349, 0.74096239]])"
      ]
     },
     "execution_count": 14,
     "metadata": {},
     "output_type": "execute_result"
    }
   ],
   "source": [
    "np.random.rand(3,7)"
   ]
  },
  {
   "cell_type": "markdown",
   "id": "683726c3",
   "metadata": {},
   "source": [
    "## randn\n",
    "randn is a function in Python's built-in random module that generates a random number from a normal distribution with mean 0 and standard deviation 1."
   ]
  },
  {
   "cell_type": "code",
   "execution_count": null,
   "id": "c75fd5e0",
   "metadata": {},
   "outputs": [],
   "source": [
    "numbers are too uch closer to zero(negative numbers also contain)"
   ]
  },
  {
   "cell_type": "code",
   "execution_count": 4,
   "id": "2af53b6d",
   "metadata": {},
   "outputs": [
    {
     "data": {
      "text/plain": [
       "array([-0.62745374,  0.28651575, -0.52393636, -0.65518064, -0.36304396])"
      ]
     },
     "execution_count": 4,
     "metadata": {},
     "output_type": "execute_result"
    }
   ],
   "source": [
    "np.random.randn(5)"
   ]
  },
  {
   "cell_type": "code",
   "execution_count": 52,
   "id": "17872c0d",
   "metadata": {},
   "outputs": [
    {
     "data": {
      "text/plain": [
       "array([[ 1.04502141, -0.72436855, -1.75404662],\n",
       "       [ 1.19793769,  0.4826475 ,  0.89842966],\n",
       "       [ 0.43598912, -0.15486671, -0.75630027]])"
      ]
     },
     "execution_count": 52,
     "metadata": {},
     "output_type": "execute_result"
    }
   ],
   "source": [
    "np.random.randn(3,3)\n"
   ]
  },
  {
   "cell_type": "markdown",
   "id": "601c5256",
   "metadata": {},
   "source": [
    "# ranf"
   ]
  },
  {
   "cell_type": "code",
   "execution_count": null,
   "id": "ae301f6a",
   "metadata": {},
   "outputs": [],
   "source": [
    "[0.0,1.0)        -1 is not included"
   ]
  },
  {
   "cell_type": "code",
   "execution_count": 46,
   "id": "7131dd4c",
   "metadata": {},
   "outputs": [
    {
     "name": "stdout",
     "output_type": "stream",
     "text": [
      "[0.29708083 0.52728046 0.55786992 0.41384423 0.11899403]\n"
     ]
    }
   ],
   "source": [
    "p=np.random.ranf(5)\n",
    "print(p)"
   ]
  },
  {
   "cell_type": "code",
   "execution_count": null,
   "id": "af90676f",
   "metadata": {},
   "outputs": [],
   "source": [
    "# reverse array with flip method"
   ]
  },
  {
   "cell_type": "code",
   "execution_count": 8,
   "id": "f389f2ed",
   "metadata": {},
   "outputs": [
    {
     "name": "stdout",
     "output_type": "stream",
     "text": [
      "[[1 2 3 4]\n",
      " [4 5 6 7]]\n",
      "[[7 6 5 4]\n",
      " [4 3 2 1]]\n"
     ]
    }
   ],
   "source": [
    "import numpy as np\n",
    "# y=np.array([1,2,3,4])\n",
    "# print(y)\n",
    "# z=np.flip(y)\n",
    "# print(z)\n",
    "r=np.array([[1,2,3,4],[4,5,6,7]])\n",
    "print(r)\n",
    "z=np.flip(r)\n",
    "print(z)"
   ]
  },
  {
   "cell_type": "markdown",
   "id": "05534118",
   "metadata": {},
   "source": [
    "\n",
    "## Reshape\n",
    "Returns an array containing the same data with a new shape."
   ]
  },
  {
   "cell_type": "code",
   "execution_count": 14,
   "id": "4c9fc6cb",
   "metadata": {},
   "outputs": [
    {
     "data": {
      "text/plain": [
       "array([[1],\n",
       "       [2],\n",
       "       [3],\n",
       "       [4],\n",
       "       [5],\n",
       "       [6],\n",
       "       [7],\n",
       "       [8]])"
      ]
     },
     "execution_count": 14,
     "metadata": {},
     "output_type": "execute_result"
    }
   ],
   "source": [
    "import numpy as np\n",
    "x = np.arange(1, 9).reshape(8,1)\n",
    "x"
   ]
  },
  {
   "cell_type": "markdown",
   "id": "6eaa2b6a",
   "metadata": {},
   "source": [
    "## Mathamatical operations on array using numpy\n",
    "NumPy is a popular Python library used for scientific computing and working with arrays"
   ]
  },
  {
   "cell_type": "markdown",
   "id": "d09eebbc",
   "metadata": {},
   "source": [
    "#### Addition"
   ]
  },
  {
   "cell_type": "code",
   "execution_count": 20,
   "id": "8ee6819d",
   "metadata": {},
   "outputs": [
    {
     "name": "stdout",
     "output_type": "stream",
     "text": [
      "[[ 5.+0.j  7.+0.j  9.+0.j 12.+0.j]\n",
      " [14.+0.j 16.+0.j 18.+0.j 12.+0.j]]\n"
     ]
    }
   ],
   "source": [
    "import numpy as np\n",
    "arr1 = np.array([[1, 2, 3,4],[7,8,9,6]],dtype=complex)\n",
    "arr2 = np.array([[4, 5, 6,8],[7,8,9,6]])\n",
    "z = arr1 + arr2\n",
    "\n",
    "print(z) \n",
    "# a+bj"
   ]
  },
  {
   "cell_type": "markdown",
   "id": "885afa4c",
   "metadata": {},
   "source": [
    "#### Subtraction"
   ]
  },
  {
   "cell_type": "code",
   "execution_count": 55,
   "id": "928c5f66",
   "metadata": {},
   "outputs": [
    {
     "name": "stdout",
     "output_type": "stream",
     "text": [
      "[-3 -3 -3]\n"
     ]
    }
   ],
   "source": [
    "arr_sub = arr1 - arr2\n",
    "\n",
    "print(arr_sub) \n"
   ]
  },
  {
   "cell_type": "markdown",
   "id": "c133c679",
   "metadata": {},
   "source": [
    "#### Multiply"
   ]
  },
  {
   "cell_type": "code",
   "execution_count": 56,
   "id": "2560acd2",
   "metadata": {},
   "outputs": [
    {
     "name": "stdout",
     "output_type": "stream",
     "text": [
      "[ 4 10 18]\n"
     ]
    }
   ],
   "source": [
    "arr_mul = arr1 * arr2\n",
    "\n",
    "print(arr_mul) "
   ]
  },
  {
   "cell_type": "markdown",
   "id": "66c362f6",
   "metadata": {},
   "source": [
    "#### Division"
   ]
  },
  {
   "cell_type": "code",
   "execution_count": 57,
   "id": "3c04bf54",
   "metadata": {},
   "outputs": [
    {
     "name": "stdout",
     "output_type": "stream",
     "text": [
      "[4.  2.5 2. ]\n"
     ]
    }
   ],
   "source": [
    "arr_div = arr2 / arr1\n",
    "\n",
    "print(arr_div)"
   ]
  },
  {
   "cell_type": "markdown",
   "id": "e5614d77",
   "metadata": {},
   "source": [
    "#### Exponential\n",
    "Exponential is a mathematical function that describes the growth or decay of a quantity at a constant rate over time. The exponential function is given by the formula:(f(x) = a^x)"
   ]
  },
  {
   "cell_type": "code",
   "execution_count": null,
   "id": "7d2cbde1",
   "metadata": {},
   "outputs": [],
   "source": [
    "e=2.718"
   ]
  },
  {
   "cell_type": "code",
   "execution_count": 8,
   "id": "dcfbb703",
   "metadata": {},
   "outputs": [],
   "source": [
    "arr1 = np.array([1, 2, 3])"
   ]
  },
  {
   "cell_type": "code",
   "execution_count": 58,
   "id": "21b40c72",
   "metadata": {},
   "outputs": [
    {
     "name": "stdout",
     "output_type": "stream",
     "text": [
      "[ 2.71828183  7.3890561  20.08553692]\n"
     ]
    }
   ],
   "source": [
    "arr_exp = np.exp(arr1)\n",
    "\n",
    "print(arr_exp)\n"
   ]
  },
  {
   "cell_type": "markdown",
   "id": "a5424290",
   "metadata": {},
   "source": [
    "#### Square root"
   ]
  },
  {
   "cell_type": "code",
   "execution_count": 21,
   "id": "e679264f",
   "metadata": {},
   "outputs": [
    {
     "name": "stdout",
     "output_type": "stream",
     "text": [
      "[2.         2.23606798 2.44948974]\n"
     ]
    }
   ],
   "source": [
    "\n",
    "arr2 = np.array([4, 5, 6])\n",
    "arr_sqrt = np.sqrt(arr2)\n",
    "\n",
    "print(arr_sqrt) \n"
   ]
  },
  {
   "cell_type": "markdown",
   "id": "865e32dc",
   "metadata": {},
   "source": [
    "#### Dot product\n",
    "The dot product of two arrays is a mathematical operation that takes two arrays of equal size and returns a scalar value. It is also called the inner product or scalar product.\n",
    "\n",
    "dot_product = (1 * 4) + (2 * 5) + (3 * 6)\n",
    "            = 4 + 10 + 18\n",
    "            = 32\n",
    "\n"
   ]
  },
  {
   "cell_type": "code",
   "execution_count": 4,
   "id": "e0b4d783",
   "metadata": {},
   "outputs": [
    {
     "name": "stdout",
     "output_type": "stream",
     "text": [
      "80\n"
     ]
    }
   ],
   "source": [
    "import numpy as np\n",
    "arr1 = np.array([1, 2, 3,6])\n",
    "arr2 = np.array([4, 5, 6,8])\n",
    "\n",
    "dot_product = np.dot(arr1, arr2)\n",
    "\n",
    "print(dot_product)\n"
   ]
  },
  {
   "cell_type": "code",
   "execution_count": null,
   "id": "f5ad5a98",
   "metadata": {},
   "outputs": [],
   "source": [
    " (1 * 4) + (2 * 5) + (3 * 6) = 4 + 10 + 18 = 32"
   ]
  },
  {
   "cell_type": "markdown",
   "id": "76111747",
   "metadata": {},
   "source": [
    "#### Sum"
   ]
  },
  {
   "cell_type": "code",
   "execution_count": 26,
   "id": "1945fa86",
   "metadata": {},
   "outputs": [
    {
     "name": "stdout",
     "output_type": "stream",
     "text": [
      "15\n"
     ]
    }
   ],
   "source": [
    "arr2 = np.array([4, 5, 6])\n",
    "arr_sum = np.sum(arr2)\n",
    "\n",
    "print(arr_sum)\n"
   ]
  },
  {
   "cell_type": "markdown",
   "id": "12b64be5",
   "metadata": {},
   "source": [
    "#### Mean"
   ]
  },
  {
   "cell_type": "code",
   "execution_count": 6,
   "id": "8fd7732c",
   "metadata": {},
   "outputs": [
    {
     "name": "stdout",
     "output_type": "stream",
     "text": [
      "2.0\n"
     ]
    }
   ],
   "source": [
    "\n",
    "arr1 = np.array([1, 2, 3])\n",
    "arr_mean = np.mean(arr1)\n",
    "\n",
    "print(arr_mean) \n"
   ]
  },
  {
   "cell_type": "markdown",
   "id": "ccc63946",
   "metadata": {},
   "source": [
    "#### Standard deviation\n",
    "The standard deviation is a measure of the amount of variation or dispersion of a set of values from their mean. It is a widely used statistical measure in fields such as finance, engineering, and science. The formula for calculating the standard deviation is\n",
    "σ = sqrt(Σ(x - μ)^2 / N)\n",
    "\n",
    "where:\n",
    "\n",
    "σ is the standard deviation                   \n",
    "x is the value of each observation in the dataset                    \n",
    "μ is the mean of the dataset                             \n",
    "Σ represents the sum of all values                            \n",
    "N is the total number of observations in the dataset                                 \n",
    "sqrt is the square root function                                      "
   ]
  },
  {
   "cell_type": "code",
   "execution_count": 32,
   "id": "c0be0e8e",
   "metadata": {},
   "outputs": [
    {
     "name": "stdout",
     "output_type": "stream",
     "text": [
      "1.4142135623730951\n"
     ]
    },
    {
     "data": {
      "text/plain": [
       "' \\nthe standard deviation of an array in NumPy is calculated using the following formula:\\n\\nstd_dev = sqrt(mean((x - x.mean())**2))\\n\\nwhere x is the input array, x.mean() is the mean value of the array, and sqrt() is the square root function.\\n\\nIn the example you provided, the input array arr has the values [1, 2, 3, 4, 5]. The mean of this array can be calculated by taking the sum of all values and dividing by the number of values:\\n\\nmean = (1 + 2 + 3 + 4 + 5) / 5 = 3\\n\\nUsing this mean value, we can calculate the standard deviation of the array using the above formula:\\n\\nstd_dev = sqrt(mean((x - x.mean())**2))\\n\\nstd_dev = sqrt(mean((arr - 3)**2))\\n\\nstd_dev = sqrt((1 + 1 + 0 + 1 + 4) / 5)\\n\\nstd_dev = sqrt(7/5)\\n\\nstd_dev = 1.4142135623730951\\n'"
      ]
     },
     "execution_count": 32,
     "metadata": {},
     "output_type": "execute_result"
    }
   ],
   "source": [
    "import numpy as np\n",
    "\n",
    "arr = np.array([1, 2, 3, 4, 5])\n",
    "\n",
    "std_dev = np.std(arr)\n",
    "\n",
    "print(std_dev) \n",
    "\n",
    "\n",
    "\n",
    "\"\"\" \n",
    "the standard deviation of an array in NumPy is calculated using the following formula:\n",
    "\n",
    "std_dev = sqrt(mean((x - x.mean())**2))\n",
    "\n",
    "where x is the input array, x.mean() is the mean value of the array, and sqrt() is the square root function.\n",
    "\n",
    "In the example you provided, the input array arr has the values [1, 2, 3, 4, 5]. The mean of this array can be calculated by taking the sum of all values and dividing by the number of values:\n",
    "\n",
    "mean = (1 + 2 + 3 + 4 + 5) / 5 = 3\n",
    "\n",
    "Using this mean value, we can calculate the standard deviation of the array using the above formula:\n",
    "\n",
    "std_dev = sqrt(mean((x - x.mean())**2))\n",
    "\n",
    "std_dev = sqrt(mean((arr - 3)**2))\n",
    "std_dev=sqrt(mean(-2,-1,0,1,2)**2)\n",
    "std_dev=sqrt(mean(4,1,0,1,4))\n",
    "std_dev=sqrt(2)\n",
    "std_dev\n",
    "\n",
    "std_dev = sqrt((1 + 1 + 0 + 1 + 4) / 5)\n",
    "\n",
    "std_dev = sqrt(7/5)\n",
    "\n",
    "std_dev = 1.4142135623730951\n",
    "\"\"\""
   ]
  },
  {
   "cell_type": "code",
   "execution_count": 27,
   "id": "ac30fe59",
   "metadata": {},
   "outputs": [
    {
     "name": "stdout",
     "output_type": "stream",
     "text": [
      "-4\n"
     ]
    }
   ],
   "source": [
    "print(-2**2)"
   ]
  },
  {
   "cell_type": "markdown",
   "id": "9d3c4a90",
   "metadata": {},
   "source": [
    "#### Trigonometric functions\n",
    "\n",
    "The trigonometric functions are calculated using the ratios of the sides of right triangles. A right triangle is a triangle with one angle measuring 90 degrees, and the side opposite the right angle is called the hypotenuse.\n",
    "The most common way to define the trigonometric functions is in terms of the angles of a right triangle. In the following explanation, let's assume that we have a right triangle with an angle θ, adjacent side a, opposite side b, and hypotenuse h.\n",
    "\n",
    "Sine function: sin(θ) = b / h\n",
    "The sine function is the ratio of the length of the opposite side to the length of the hypotenuse.\n",
    "\n",
    "Cosine function: cos(θ) = a / h\n",
    "The cosine function is the ratio of the length of the adjacent side to the length of the hypotenuse.\n",
    "\n",
    "Tangent function: tan(θ) = b / a\n",
    "The tangent function is the ratio of the length of the opposite side to the length of the adjacent side.\n",
    "\n",
    "Cosecant function: csc(θ) = h / b\n",
    "The cosecant function is the reciprocal of the sine function, i.e., csc(θ) = 1 / sin(θ).\n",
    "\n",
    "Secant function: sec(θ) = h / a\n",
    "The secant function is the reciprocal of the cosine function, i.e., sec(θ) = 1 / cos(θ).\n",
    "\n",
    "Cotangent function: cot(θ) = a / b\n",
    "The cotangent function is the reciprocal of the tangent function, i.e., cot(θ) = 1 / tan(θ)."
   ]
  },
  {
   "cell_type": "code",
   "execution_count": 23,
   "id": "ba300bc1",
   "metadata": {},
   "outputs": [
    {
     "name": "stdout",
     "output_type": "stream",
     "text": [
      "[0.         1.57079633 3.14159265]\n",
      "[0.0000000e+00 1.0000000e+00 1.2246468e-16]\n",
      "[ 1.000000e+00  6.123234e-17 -1.000000e+00]\n",
      "[ 0.00000000e+00  1.63312394e+16 -1.22464680e-16]\n"
     ]
    }
   ],
   "source": [
    "arr_angles = np.array([0, np.pi/2, np.pi])  \n",
    "print(arr_angles)\n",
    "arr2 = np.array([4, 5, 6])\n",
    "arr_sin = np.sinkles)\n",
    "arr_cos = np.cos(arr_angles)\n",
    "arr_tan = np.tan(arr_angles)\n",
    "# p b p\n",
    "# h h b\n",
    "# s c t\n",
    "\n",
    "print(arr_sin) \n",
    "print(arr_cos) \n",
    "print(arr_tan)\n"
   ]
  },
  {
   "cell_type": "markdown",
   "id": "0201f9bc",
   "metadata": {},
   "source": [
    "#### Reshaping arrays\n"
   ]
  },
  {
   "cell_type": "code",
   "execution_count": 28,
   "id": "6f7bb190",
   "metadata": {},
   "outputs": [
    {
     "name": "stdout",
     "output_type": "stream",
     "text": [
      "[[1 2 3 4 5 6]]\n"
     ]
    }
   ],
   "source": [
    "arr = np.array([1, 2, 3, 4, 5, 6])\n",
    "\n",
    "arr_2d = arr.reshape((1,6))\n",
    "\n",
    "print(arr_2d) \n"
   ]
  },
  {
   "cell_type": "markdown",
   "id": "b32450e1",
   "metadata": {},
   "source": [
    "#### Maximum and Minimum"
   ]
  },
  {
   "cell_type": "code",
   "execution_count": 14,
   "id": "94f2b76d",
   "metadata": {},
   "outputs": [
    {
     "name": "stdout",
     "output_type": "stream",
     "text": [
      "6\n",
      "1\n"
     ]
    }
   ],
   "source": [
    "arr = np.array([1, 2, 3, 4, 5, 6])\n",
    "\n",
    "arr_max = np.max(arr)\n",
    "arr_min = np.min(arr)\n",
    "\n",
    "print(arr_max) \n",
    "print(arr_min) \n"
   ]
  },
  {
   "cell_type": "markdown",
   "id": "05a2b043",
   "metadata": {},
   "source": [
    "#### Argmax and Argmin\n"
   ]
  },
  {
   "cell_type": "code",
   "execution_count": 29,
   "id": "b6106057",
   "metadata": {},
   "outputs": [
    {
     "name": "stdout",
     "output_type": "stream",
     "text": [
      "6\n",
      "1\n"
     ]
    }
   ],
   "source": [
    "arr = np.array([3, 1, 2, 4, 5, 7,8])\n",
    "            \n",
    "arr_argmax = np.argmax(arr)\n",
    "arr_argmin = np.argmin(arr)\n",
    "\n",
    "print(arr_argmax)\n",
    "print(arr_argmin) \n"
   ]
  },
  {
   "cell_type": "code",
   "execution_count": 25,
   "id": "06427161",
   "metadata": {},
   "outputs": [
    {
     "name": "stdout",
     "output_type": "stream",
     "text": [
      "[1, 4, 6, 7]\n"
     ]
    }
   ],
   "source": [
    "l=[6,7,4,1]\n",
    "l.sort()\n",
    "print(l)"
   ]
  },
  {
   "cell_type": "markdown",
   "id": "53170408",
   "metadata": {},
   "source": [
    "#### Sort\n"
   ]
  },
  {
   "cell_type": "code",
   "execution_count": 68,
   "id": "0fafcaf0",
   "metadata": {},
   "outputs": [
    {
     "name": "stdout",
     "output_type": "stream",
     "text": [
      "[1 2 3 4 5 6]\n"
     ]
    }
   ],
   "source": [
    "arr = np.array([3, 1, 4, 2, 5, 6])\n",
    "\n",
    "arr_sorted = np.sort(arr)\n",
    "\n",
    "print(arr_sorted) \n"
   ]
  },
  {
   "cell_type": "markdown",
   "id": "5208bfd9",
   "metadata": {},
   "source": [
    "#### Unique"
   ]
  },
  {
   "cell_type": "code",
   "execution_count": 16,
   "id": "d1c3cc00",
   "metadata": {},
   "outputs": [
    {
     "name": "stdout",
     "output_type": "stream",
     "text": [
      "[1 2 3 4 5]\n"
     ]
    }
   ],
   "source": [
    "arr = np.array([1, 2, 2, 3, 3, 3, 4, 5, 5])\n",
    "\n",
    "arr_unique = np.unique(arr)\n",
    "\n",
    "print(arr_unique) \n"
   ]
  },
  {
   "cell_type": "markdown",
   "id": "7082feb6",
   "metadata": {},
   "source": [
    "#### Absolute value"
   ]
  },
  {
   "cell_type": "code",
   "execution_count": 70,
   "id": "c112bcb9",
   "metadata": {},
   "outputs": [
    {
     "name": "stdout",
     "output_type": "stream",
     "text": [
      "[1 2 3 4 5 6]\n"
     ]
    }
   ],
   "source": [
    "arr = np.array([-1, 2, -3, 4, -5, 6])\n",
    "\n",
    "arr_abs = np.abs(arr)\n",
    "\n",
    "print(arr_abs) \n",
    "# absolute values we get degraded teh sign\n"
   ]
  },
  {
   "cell_type": "markdown",
   "id": "0bbb96b8",
   "metadata": {},
   "source": [
    "#### Round"
   ]
  },
  {
   "cell_type": "code",
   "execution_count": 18,
   "id": "19bca86d",
   "metadata": {},
   "outputs": [
    {
     "name": "stdout",
     "output_type": "stream",
     "text": [
      "[1 2 3 4 5 6]\n"
     ]
    }
   ],
   "source": [
    "arr = np.array([1.5, 2.7, 3.2, 4.8, 5.1, 6.9],dtype=\"int\")\n",
    "\n",
    "arr_round = np.round(arr)\n",
    "\n",
    "print(arr_round) \n"
   ]
  },
  {
   "cell_type": "markdown",
   "id": "bbe49adb",
   "metadata": {},
   "source": [
    "### 2 dimensional array: if an array contain  more than 1 row and 1 column that is know two dimenssional arrays."
   ]
  },
  {
   "cell_type": "code",
   "execution_count": 30,
   "id": "4f613721",
   "metadata": {},
   "outputs": [],
   "source": [
    "import numpy as np\n",
    "\n",
    "# create a 2D array\n",
    "arr = np.array([[1, 2, 3], [4, 5, 6], [7, 8, 9]])\n",
    "\n",
    "# print the array\n",
    "# print(arr)\n"
   ]
  },
  {
   "cell_type": "markdown",
   "id": "267ae52f",
   "metadata": {},
   "source": [
    "#### accessing element"
   ]
  },
  {
   "cell_type": "code",
   "execution_count": 31,
   "id": "a0db84e2",
   "metadata": {},
   "outputs": [
    {
     "name": "stdout",
     "output_type": "stream",
     "text": [
      "[1 2 3] [0]\n",
      "[1 2 3] [1]\n",
      "[1 2 3] [2]\n",
      "[1 2 3] [3]\n",
      "[4 5 6] [0]\n",
      "[4 5 6] [1]\n",
      "[4 5 6] [2]\n",
      "[4 5 6] [3]\n",
      "6\n",
      "9\n"
     ]
    }
   ],
   "source": [
    "print(arr[0], [0])\n",
    "print(arr[0], [1])\n",
    "print(arr[0], [2])\n",
    "print(arr[0], [3])\n",
    "print(arr[1], [0])\n",
    "print(arr[1], [1])\n",
    "print(arr[1], [2])\n",
    "print(arr[1], [3])\n",
    "\n",
    "\n",
    "\n",
    "print(arr[1, 2]) \n",
    "print(arr[2, 2])  "
   ]
  },
  {
   "cell_type": "markdown",
   "id": "5a1b9446",
   "metadata": {},
   "source": [
    "#### using for loop"
   ]
  },
  {
   "cell_type": "code",
   "execution_count": 75,
   "id": "fab23a36",
   "metadata": {},
   "outputs": [
    {
     "name": "stdout",
     "output_type": "stream",
     "text": [
      "1\n",
      "2\n",
      "3\n",
      "\n",
      "4\n",
      "5\n",
      "6\n",
      "\n",
      "1\n",
      "2\n",
      "3\n",
      "\n",
      "4\n",
      "5\n",
      "6\n",
      "\n"
     ]
    }
   ],
   "source": [
    "arr = np.array([[1, 2, 3], [4, 5, 6] ])\n",
    "\n",
    "# without index\n",
    "for row in arr:\n",
    "    for col in row:\n",
    "        print(col)\n",
    "    print()\n",
    "        \n",
    "#with index\n",
    "n = len(arr)\n",
    "for i in range(n):\n",
    "    for j in range(len(arr[i])):\n",
    "        print(arr[i][j])\n",
    "    print()"
   ]
  },
  {
   "cell_type": "markdown",
   "id": "cb77a73b",
   "metadata": {},
   "source": [
    "#### while loop"
   ]
  },
  {
   "cell_type": "code",
   "execution_count": 76,
   "id": "c3e43523",
   "metadata": {},
   "outputs": [
    {
     "name": "stdout",
     "output_type": "stream",
     "text": [
      "1\n",
      "2\n",
      "3\n",
      "\n",
      "4\n",
      "5\n",
      "6\n",
      "\n"
     ]
    }
   ],
   "source": [
    "i = 0\n",
    "while i < len(arr):\n",
    "    j = 0\n",
    "    while j < len(arr[i]):\n",
    "        print(arr[i][j])\n",
    "        j += 1\n",
    "    print()\n",
    "    i += 1"
   ]
  },
  {
   "cell_type": "markdown",
   "id": "4f0ba6f7",
   "metadata": {},
   "source": [
    "## slicing\n",
    "In Python's NumPy library, array slicing allows you to extract a portion of an array by specifying a range of indices. It returns a view of the original array, not a new copy, and so any changes made to the slice will affect the original array.\n",
    "\n",
    "The basic syntax for slicing a NumPy array is:\n",
    "\n",
    "new_array = original_array[start:stop:step]\n",
    "\n",
    "Here, start is the starting index of the slice, stop is the ending index (exclusive), and step is the interval between values. If any of these parameters are omitted, they take on default values. If start is not specified, it defaults to 0. If stop is not specified, it defaults to the end of the array. If step is not specified, it defaults to 1."
   ]
  },
  {
   "cell_type": "code",
   "execution_count": 31,
   "id": "0611bb20",
   "metadata": {},
   "outputs": [
    {
     "name": "stdout",
     "output_type": "stream",
     "text": [
      "[1, 3, 5]\n"
     ]
    }
   ],
   "source": [
    "l=[1,2,3,4,5]\n",
    "print(l[0:5:2])\n",
    "# start:end:step"
   ]
  },
  {
   "cell_type": "code",
   "execution_count": 32,
   "id": "a5f2fe2b",
   "metadata": {},
   "outputs": [
    {
     "name": "stdout",
     "output_type": "stream",
     "text": [
      "[1 2 3]\n",
      "[4 5]\n",
      "[1 4]\n"
     ]
    }
   ],
   "source": [
    "import numpy as np\n",
    "\n",
    "arr = np.array([1, 2, 3, 4, 5])\n",
    "\n",
    "# slicing the first three elements of the array\n",
    "new_arr = arr[:3]\n",
    "print(new_arr)  \n",
    "\n",
    "# slicing the last two elements of the array\n",
    "new_arr = arr[-2:]\n",
    "print(new_arr) \n",
    "\n",
    "# slicing every other element of the array\n",
    "new_arr = arr[::3]\n",
    "print(new_arr) \n"
   ]
  },
  {
   "cell_type": "markdown",
   "id": "436df4e8",
   "metadata": {},
   "source": [
    "#### slice 2D arrays "
   ]
  },
  {
   "cell_type": "code",
   "execution_count": 8,
   "id": "677567bd",
   "metadata": {},
   "outputs": [
    {
     "name": "stdout",
     "output_type": "stream",
     "text": [
      "[[1 2 3]\n",
      " [4 5 6]\n",
      " [7 8 9]]\n",
      "[[2 3]\n",
      " [5 6]]\n"
     ]
    }
   ],
   "source": [
    "import numpy as np\n",
    "\n",
    "arr = np.array([[1, 2, 3], [4, 5, 6], [7, 8, 9]])\n",
    "print(arr)\n",
    "\n",
    "# slicing the first two rows and last two columns of the array\n",
    "new_arr = arr[:2, -2:]\n",
    "print(new_arr) \n"
   ]
  },
  {
   "cell_type": "markdown",
   "id": "faf864b5",
   "metadata": {},
   "source": [
    "#### negative slicing"
   ]
  },
  {
   "cell_type": "code",
   "execution_count": 80,
   "id": "01d48e7c",
   "metadata": {},
   "outputs": [
    {
     "name": "stdout",
     "output_type": "stream",
     "text": [
      "[3 4 5]\n",
      "[5 3 1]\n"
     ]
    }
   ],
   "source": [
    "arr = np.array([1, 2, 3, 4, 5])\n",
    "\n",
    "# slicing the last three elements of the array using negative indices\n",
    "new_arr = arr[-3:]\n",
    "print(new_arr)\n",
    "\n",
    "# slicing every other element of the array in reverse order\n",
    "new_arr = arr[::-2]\n",
    "print(new_arr) \n",
    "\n"
   ]
  },
  {
   "cell_type": "markdown",
   "id": "7fe2d8c3",
   "metadata": {},
   "source": [
    "#### 2d array negative sclicing\n"
   ]
  },
  {
   "cell_type": "code",
   "execution_count": 22,
   "id": "e1646084",
   "metadata": {},
   "outputs": [
    {
     "name": "stdout",
     "output_type": "stream",
     "text": [
      "[[1 2 3]\n",
      " [4 5 6]\n",
      " [7 8 9]]\n",
      "[[5 6]\n",
      " [8 9]]\n"
     ]
    }
   ],
   "source": [
    "arr = np.array([[1, 2, 3], [4, 5, 6], [7, 8, 9]])\n",
    "print(arr)\n",
    "\n",
    "# slicing the last two rows and last two columns of the array using negative indices\n",
    "new_arr = arr[-2:, -2:]\n",
    "print(new_arr)  "
   ]
  },
  {
   "cell_type": "code",
   "execution_count": null,
   "id": "460c151a",
   "metadata": {},
   "outputs": [],
   "source": [
    "arr[-2:]: This selects the last two rows of the array. The negative index -2 represents the second-to-last row,\n",
    "and the colon : indicates that all columns should be included."
   ]
  },
  {
   "cell_type": "code",
   "execution_count": null,
   "id": "500d5c92",
   "metadata": {},
   "outputs": [],
   "source": [
    "This further slices the previously obtained array by selecting the last two columns. The negative index -2 represents \n",
    "the second-to-last column, and the colon : indicates that all rows should be included."
   ]
  },
  {
   "cell_type": "markdown",
   "id": "d0984db5",
   "metadata": {},
   "source": [
    "#### String Operations"
   ]
  },
  {
   "cell_type": "code",
   "execution_count": 36,
   "id": "1e27f44e",
   "metadata": {},
   "outputs": [
    {
     "name": "stdout",
     "output_type": "stream",
     "text": [
      "The arrays are : \n",
      "['Hello ']\n",
      "['world']\n",
      "\n",
      "The concatenated array is :\n",
      "['Hello world']\n"
     ]
    }
   ],
   "source": [
    "# Concatenation: To concatenate two or more arrays of strings, you can use the np.char.add() function:\n",
    "\n",
    "# importing the module\n",
    "import numpy as np\n",
    "\n",
    "# create the arrays\n",
    "x1 = ['Hello ']\n",
    "x2 = ['world']\n",
    "\n",
    "print(\"The arrays are : \")\n",
    "print(x1)\n",
    "print(x2)\n",
    "\n",
    "# using the char.add() method\n",
    "result = np.char.add(x1, x2)\n",
    "print(\"\\nThe concatenated array is :\")\n",
    "print(result)\n"
   ]
  },
  {
   "cell_type": "code",
   "execution_count": 83,
   "id": "656b9647",
   "metadata": {},
   "outputs": [
    {
     "name": "stdout",
     "output_type": "stream",
     "text": [
      "[False  True False]\n",
      "[ True False  True]\n"
     ]
    }
   ],
   "source": [
    "#Comparison: You can compare two arrays of strings using the np.char.equal() and np.char.not_equal() functions:\n",
    "arr1 = np.array(['apple', 'banana', 'orange'])\n",
    "arr2 = np.array(['Apple', 'banana', 'Orange'])\n",
    "\n",
    "print(np.char.equal(arr1, arr2))      \n",
    "print(np.char.not_equal(arr1, arr2))"
   ]
  },
  {
   "cell_type": "code",
   "execution_count": 84,
   "id": "448569c8",
   "metadata": {},
   "outputs": [
    {
     "name": "stdout",
     "output_type": "stream",
     "text": [
      "['hello world' 'python is fun']\n",
      "['HELLO WORLD' 'PYTHON IS FUN']\n",
      "['Hello world' 'Python is fun']\n",
      "[list(['Hello', 'World']) list(['Python', 'is', 'Fun'])]\n"
     ]
    }
   ],
   "source": [
    "#Information: You can get information about the strings in an array using functions like np.char.lower(), np.char.upper(), np.char.capitalize(), and np.char.split():\n",
    "arr = np.array(['Hello World', 'Python is Fun'])\n",
    "\n",
    "print(np.char.lower(arr))       \n",
    "print(np.char.upper(arr))         \n",
    "print(np.char.capitalize(arr))   \n",
    "print(np.char.split(arr)) "
   ]
  },
  {
   "cell_type": "markdown",
   "id": "1f1d47c2",
   "metadata": {},
   "source": [
    "## trigonometry\n"
   ]
  },
  {
   "cell_type": "code",
   "execution_count": 24,
   "id": "68e84642",
   "metadata": {},
   "outputs": [],
   "source": [
    "import numpy as np\n",
    "import matplotlib.pyplot as plt"
   ]
  },
  {
   "cell_type": "code",
   "execution_count": 25,
   "id": "d16b096f",
   "metadata": {},
   "outputs": [
    {
     "name": "stdout",
     "output_type": "stream",
     "text": [
      "-0.8011526357338304\n",
      "0.8939966636005579\n",
      "-0.5984600690578582\n",
      "1.3386902103511544\n"
     ]
    }
   ],
   "source": [
    "print(np.sin(180))\n",
    "# print()\n",
    "print(np.sin(90))\n",
    "# print()\n",
    "print(np.cos(180))\n",
    "# print()\n",
    "print(np.tan(180))\n",
    "# print()"
   ]
  },
  {
   "cell_type": "code",
   "execution_count": 28,
   "id": "cda471ce",
   "metadata": {},
   "outputs": [
    {
     "name": "stdout",
     "output_type": "stream",
     "text": [
      "[0.  0.1 0.2 0.3 0.4 0.5 0.6 0.7 0.8 0.9 1.  1.1 1.2 1.3 1.4 1.5 1.6 1.7\n",
      " 1.8 1.9 2.  2.1 2.2 2.3 2.4 2.5 2.6 2.7 2.8 2.9 3.  3.1 3.2 3.3 3.4 3.5\n",
      " 3.6 3.7 3.8 3.9 4.  4.1 4.2 4.3 4.4 4.5 4.6 4.7 4.8 4.9 5.  5.1 5.2 5.3\n",
      " 5.4 5.5 5.6 5.7 5.8 5.9 6.  6.1 6.2 6.3 6.4 6.5 6.6 6.7 6.8 6.9 7.  7.1\n",
      " 7.2 7.3 7.4 7.5 7.6 7.7 7.8 7.9 8.  8.1 8.2 8.3 8.4 8.5 8.6 8.7 8.8 8.9\n",
      " 9.  9.1 9.2 9.3 9.4]\n"
     ]
    }
   ],
   "source": [
    "x_sin=np.arange(0, 3*np.pi, 0.1)\n",
    "                \n",
    "print(x_sin)\n",
    "# print()"
   ]
  },
  {
   "cell_type": "code",
   "execution_count": 88,
   "id": "329cc7cc",
   "metadata": {},
   "outputs": [
    {
     "name": "stdout",
     "output_type": "stream",
     "text": [
      "[ 0.          0.09983342  0.19866933  0.29552021  0.38941834  0.47942554\n",
      "  0.56464247  0.64421769  0.71735609  0.78332691  0.84147098  0.89120736\n",
      "  0.93203909  0.96355819  0.98544973  0.99749499  0.9995736   0.99166481\n",
      "  0.97384763  0.94630009  0.90929743  0.86320937  0.8084964   0.74570521\n",
      "  0.67546318  0.59847214  0.51550137  0.42737988  0.33498815  0.23924933\n",
      "  0.14112001  0.04158066 -0.05837414 -0.15774569 -0.2555411  -0.35078323\n",
      " -0.44252044 -0.52983614 -0.61185789 -0.68776616 -0.7568025  -0.81827711\n",
      " -0.87157577 -0.91616594 -0.95160207 -0.97753012 -0.993691   -0.99992326\n",
      " -0.99616461 -0.98245261 -0.95892427 -0.92581468 -0.88345466 -0.83226744\n",
      " -0.77276449 -0.70554033 -0.63126664 -0.55068554 -0.46460218 -0.37387666\n",
      " -0.2794155  -0.1821625  -0.0830894   0.0168139   0.1165492   0.21511999\n",
      "  0.31154136  0.40484992  0.49411335  0.57843976  0.6569866   0.72896904\n",
      "  0.79366786  0.85043662  0.8987081   0.93799998  0.96791967  0.98816823\n",
      "  0.99854335  0.99894134  0.98935825  0.96988981  0.94073056  0.90217183\n",
      "  0.85459891  0.79848711  0.7343971   0.66296923  0.58491719  0.50102086\n",
      "  0.41211849  0.31909836  0.22288991  0.12445442  0.02477543]\n"
     ]
    }
   ],
   "source": [
    "y_sin=np.sin(x_sin)\n",
    "print(y_sin)"
   ]
  },
  {
   "cell_type": "code",
   "execution_count": 89,
   "id": "6e66ebab",
   "metadata": {},
   "outputs": [
    {
     "name": "stdout",
     "output_type": "stream",
     "text": [
      "[<matplotlib.lines.Line2D object at 0x0000013ACF2265D0>]\n"
     ]
    },
    {
     "data": {
      "image/png": "[encoded data removed]",
      "text/plain": [
       "<Figure size 640x480 with 1 Axes>"
      ]
     },
     "metadata": {},
     "output_type": "display_data"
    },
    {
     "name": "stdout",
     "output_type": "stream",
     "text": [
      "None\n"
     ]
    }
   ],
   "source": [
    "print(plt.plot(x_sin, y_sin))\n",
    "print(plt.show())\n"
   ]
  },
  {
   "cell_type": "code",
   "execution_count": 90,
   "id": "48afc8a2",
   "metadata": {},
   "outputs": [
    {
     "name": "stdout",
     "output_type": "stream",
     "text": [
      "[<matplotlib.lines.Line2D object at 0x0000013ACF6F5E10>]\n"
     ]
    },
    {
     "data": {
      "image/png": "[encoded data removed]",
      "text/plain": [
       "<Figure size 640x480 with 1 Axes>"
      ]
     },
     "metadata": {},
     "output_type": "display_data"
    },
    {
     "name": "stdout",
     "output_type": "stream",
     "text": [
      "None\n",
      "\n"
     ]
    }
   ],
   "source": [
    "y_cos=np.cos(x_sin)\n",
    "print(plt.plot(x_sin, y_cos))\n",
    "print(plt.show())\n",
    "print()\n"
   ]
  },
  {
   "cell_type": "code",
   "execution_count": 91,
   "id": "a051b9c0",
   "metadata": {},
   "outputs": [
    {
     "name": "stdout",
     "output_type": "stream",
     "text": [
      "[<matplotlib.lines.Line2D object at 0x0000013ACF7475D0>]\n"
     ]
    },
    {
     "data": {
      "image/png": "[encoded data removed]",
      "text/plain": [
       "<Figure size 640x480 with 1 Axes>"
      ]
     },
     "metadata": {},
     "output_type": "display_data"
    },
    {
     "name": "stdout",
     "output_type": "stream",
     "text": [
      "None\n"
     ]
    }
   ],
   "source": [
    "y_tan=np.tan(x_sin)\n",
    "print(plt.plot(x_sin, y_tan))\n",
    "print(plt.show())"
   ]
  },
  {
   "cell_type": "markdown",
   "id": "dfbf1ff4",
   "metadata": {},
   "source": [
    "### concatenation\n"
   ]
  },
  {
   "cell_type": "code",
   "execution_count": 43,
   "id": "2ef266a1",
   "metadata": {},
   "outputs": [
    {
     "name": "stdout",
     "output_type": "stream",
     "text": [
      "[[ 1  2]\n",
      " [ 3  4]\n",
      " [ 5  6]\n",
      " [ 7  8]\n",
      " [ 9 10]\n",
      " [11 12]\n",
      " [13 14]\n",
      " [15 16]]\n"
     ]
    }
   ],
   "source": [
    "import numpy as np\n",
    "arr1=np.arange(1,17).reshape(8,2)\n",
    "print(arr1)"
   ]
  },
  {
   "cell_type": "code",
   "execution_count": 46,
   "id": "ba5bdd7b",
   "metadata": {},
   "outputs": [
    {
     "name": "stdout",
     "output_type": "stream",
     "text": [
      "[[17 18]\n",
      " [19 20]\n",
      " [21 22]\n",
      " [23 24]\n",
      " [25 26]\n",
      " [27 28]\n",
      " [29 30]\n",
      " [31 32]]\n"
     ]
    }
   ],
   "source": [
    "arr2=np.arange(17, 33).reshape(8,2)\n",
    "print(arr2)"
   ]
  },
  {
   "cell_type": "code",
   "execution_count": 47,
   "id": "63e0c7fd",
   "metadata": {},
   "outputs": [
    {
     "name": "stdout",
     "output_type": "stream",
     "text": [
      "[[ 1  2]\n",
      " [ 3  4]\n",
      " [ 5  6]\n",
      " [ 7  8]\n",
      " [ 9 10]\n",
      " [11 12]\n",
      " [13 14]\n",
      " [15 16]\n",
      " [17 18]\n",
      " [19 20]\n",
      " [21 22]\n",
      " [23 24]\n",
      " [25 26]\n",
      " [27 28]\n",
      " [29 30]\n",
      " [31 32]]\n",
      "\n",
      "[[ 1  2]\n",
      " [ 3  4]\n",
      " [ 5  6]\n",
      " [ 7  8]\n",
      " [ 9 10]\n",
      " [11 12]\n",
      " [13 14]\n",
      " [15 16]\n",
      " [17 18]\n",
      " [19 20]\n",
      " [21 22]\n",
      " [23 24]\n",
      " [25 26]\n",
      " [27 28]\n",
      " [29 30]\n",
      " [31 32]]\n"
     ]
    }
   ],
   "source": [
    "print(np.concatenate((arr1,arr2))) #column wise concatenate\n",
    "#Or\n",
    "print()\n",
    "print(np.vstack((arr1,arr2)))\n"
   ]
  },
  {
   "cell_type": "code",
   "execution_count": 48,
   "id": "7f2a0525",
   "metadata": {},
   "outputs": [
    {
     "name": "stdout",
     "output_type": "stream",
     "text": [
      "[[ 1  2 17 18]\n",
      " [ 3  4 19 20]\n",
      " [ 5  6 21 22]\n",
      " [ 7  8 23 24]\n",
      " [ 9 10 25 26]\n",
      " [11 12 27 28]\n",
      " [13 14 29 30]\n",
      " [15 16 31 32]]\n",
      "\n",
      "[[ 1  2 17 18]\n",
      " [ 3  4 19 20]\n",
      " [ 5  6 21 22]\n",
      " [ 7  8 23 24]\n",
      " [ 9 10 25 26]\n",
      " [11 12 27 28]\n",
      " [13 14 29 30]\n",
      " [15 16 31 32]]\n"
     ]
    }
   ],
   "source": [
    "print(np.concatenate((arr1,arr2), axis=1)) #row wise concatenation\n",
    "#Or\n",
    "print()\n",
    "\n",
    "print(np.hstack((arr1,arr2)))"
   ]
  },
  {
   "cell_type": "code",
   "execution_count": 96,
   "id": "02ccd986",
   "metadata": {},
   "outputs": [
    {
     "name": "stdout",
     "output_type": "stream",
     "text": [
      "[1 2 3 4 5 6 1 2 3]\n"
     ]
    }
   ],
   "source": [
    "#concatenate multiple array\n",
    "\n",
    "arr1 = np.array([1, 2, 3])\n",
    "arr2 = np.array([4, 5, 6])\n",
    "new_arr = np.hstack((arr1, arr2, arr1)) # pass the arrays as a tuple\n",
    "print(new_arr)"
   ]
  },
  {
   "cell_type": "markdown",
   "id": "960b4dbf",
   "metadata": {},
   "source": [
    "### #concatenate multiple array\n"
   ]
  },
  {
   "cell_type": "code",
   "execution_count": 29,
   "id": "369e1525",
   "metadata": {},
   "outputs": [
    {
     "name": "stdout",
     "output_type": "stream",
     "text": [
      "[array([[1, 2],\n",
      "       [6, 7]]), array([[7, 4],\n",
      "       [8, 8]]), array([[5, 8],\n",
      "       [6, 5]])]\n",
      "[array([[1, 2],\n",
      "       [6, 7]]), array([[7, 4],\n",
      "       [8, 8]]), array([[5, 8],\n",
      "       [6, 5]])]\n"
     ]
    }
   ],
   "source": [
    "  #split array row wise\n",
    "arr1 = np.array([[1, 2,7,4, 5,8],[6,7,8,8,6,5]])\n",
    "new_arr = np.split(arr1, 3, axis=1)\n",
    "print(new_arr)\n",
    "print(new_arr)"
   ]
  },
  {
   "cell_type": "code",
   "execution_count": null,
   "id": "e07ed250",
   "metadata": {},
   "outputs": [],
   "source": [
    "# array split method\n",
    "import numpy as np\n",
    "\n",
    "arr = np.array([1, 2, 3, 4, 5, 6])\n",
    "\n",
    "newarr = np.array_split(arr, 4)\n",
    "\n",
    "print(newarr)"
   ]
  },
  {
   "cell_type": "code",
   "execution_count": 18,
   "id": "1a6ed1ea",
   "metadata": {},
   "outputs": [
    {
     "name": "stdout",
     "output_type": "stream",
     "text": [
      "<class 'list'>\n",
      "[[6 7 8 8 6 5]]\n",
      "<class 'numpy.ndarray'>\n"
     ]
    }
   ],
   "source": [
    "L1=np.split(arr1,2)\n",
    "print(type(L1))\n",
    "print(L1[1])\n",
    "print(type(L1[0]))"
   ]
  },
  {
   "cell_type": "code",
   "execution_count": 99,
   "id": "a0eb5aa3",
   "metadata": {},
   "outputs": [
    {
     "name": "stdout",
     "output_type": "stream",
     "text": [
      "[array([[ 1],\n",
      "       [ 4],\n",
      "       [ 7],\n",
      "       [10]]), array([[ 2],\n",
      "       [ 5],\n",
      "       [ 8],\n",
      "       [11]]), array([[ 3],\n",
      "       [ 6],\n",
      "       [ 9],\n",
      "       [12]])]\n"
     ]
    }
   ],
   "source": [
    "#split array column wise\n",
    "# create a 2D array\n",
    "arr = np.array([[1, 2, 3], [4, 5, 6], [7, 8, 9], [10, 11, 12]])\n",
    "\n",
    "# split the array column-wise into 3 parts\n",
    "new_arr = np.split(arr, 3, axis=1)\n",
    "\n",
    "print(new_arr)"
   ]
  },
  {
   "cell_type": "markdown",
   "id": "dd9c8f5e",
   "metadata": {},
   "source": [
    "#### Convert 1D array to multi D array:\n"
   ]
  },
  {
   "cell_type": "code",
   "execution_count": 100,
   "id": "09610f77",
   "metadata": {},
   "outputs": [
    {
     "name": "stdout",
     "output_type": "stream",
     "text": [
      "[array([4]), array([11,  2]), array([3, 9])]\n"
     ]
    }
   ],
   "source": [
    "d1=np.array([4,11,2,3,9])\n",
    "print(np.split(d1,[1,3]))\n"
   ]
  },
  {
   "cell_type": "markdown",
   "id": "fd6b8505",
   "metadata": {},
   "source": [
    "# data types list in numpy"
   ]
  },
  {
   "cell_type": "code",
   "execution_count": 1,
   "id": "94c59692",
   "metadata": {},
   "outputs": [
    {
     "name": "stdout",
     "output_type": "stream",
     "text": [
      "int32\n"
     ]
    }
   ],
   "source": [
    "import numpy as np\n",
    "var=np.array([1,2,3,4])\n",
    "print(var.dtype)"
   ]
  },
  {
   "cell_type": "code",
   "execution_count": 2,
   "id": "45fef2d0",
   "metadata": {},
   "outputs": [
    {
     "name": "stdout",
     "output_type": "stream",
     "text": [
      "float64\n"
     ]
    }
   ],
   "source": [
    "import numpy as np\n",
    "var=np.array([1.0,2.0,3.0,4.0])\n",
    "print(var.dtype)"
   ]
  },
  {
   "cell_type": "code",
   "execution_count": 3,
   "id": "e7571601",
   "metadata": {},
   "outputs": [
    {
     "name": "stdout",
     "output_type": "stream",
     "text": [
      "<U1\n"
     ]
    }
   ],
   "source": [
    "import numpy as np\n",
    "var=np.array([\"1\",\"2\"])\n",
    "print(var.dtype)"
   ]
  },
  {
   "cell_type": "code",
   "execution_count": 3,
   "id": "5b749524",
   "metadata": {},
   "outputs": [
    {
     "name": "stdout",
     "output_type": "stream",
     "text": [
      "['1.0' 'gfchggvjh' '3.0' '4.0']\n",
      "<U32\n"
     ]
    }
   ],
   "source": [
    "import numpy as np\n",
    "var=np.array([1.0,'gfchggvjh',3.0,4.0])\n",
    "print(var)\n",
    "print(var.dtype)"
   ]
  },
  {
   "cell_type": "code",
   "execution_count": 4,
   "id": "be1faf94",
   "metadata": {},
   "outputs": [
    {
     "name": "stdout",
     "output_type": "stream",
     "text": [
      "float64\n"
     ]
    }
   ],
   "source": [
    "import numpy as np\n",
    "var=np.array([1.0,2.0,3.0,4.0])\n",
    "print(var.dtype)"
   ]
  },
  {
   "cell_type": "code",
   "execution_count": 7,
   "id": "a9bd853f",
   "metadata": {},
   "outputs": [
    {
     "name": "stdout",
     "output_type": "stream",
     "text": [
      "int32\n",
      "[1 2 3 4]\n"
     ]
    }
   ],
   "source": [
    "import numpy as np\n",
    "var=np.array([1.0,2.0,3.0,4.0],dtype=np.int32)\n",
    "print(var.dtype)\n",
    "print(var)"
   ]
  },
  {
   "cell_type": "code",
   "execution_count": 8,
   "id": "7d054e8a",
   "metadata": {},
   "outputs": [
    {
     "name": "stdout",
     "output_type": "stream",
     "text": [
      "int32\n",
      "[1 2 3 4]\n"
     ]
    }
   ],
   "source": [
    "import numpy as np\n",
    "var=np.array([1.0,2.0,3.0,4.0],dtype=\"i\")\n",
    "print(var.dtype)\n",
    "print(var)"
   ]
  },
  {
   "cell_type": "code",
   "execution_count": 9,
   "id": "4fcdbf90",
   "metadata": {},
   "outputs": [
    {
     "name": "stdout",
     "output_type": "stream",
     "text": [
      "float64\n",
      "[1. 2. 3. 4.]\n",
      "[1 2 3 4]\n",
      "int32\n"
     ]
    }
   ],
   "source": [
    "import numpy as np\n",
    "\n",
    "var=np.array([1.0,2.0,3.0,4.0])\n",
    "new=np.int32(var)\n",
    "print(var.dtype)\n",
    "print(var)\n",
    "print(new)\n",
    "print(new.dtype)"
   ]
  },
  {
   "cell_type": "code",
   "execution_count": 12,
   "id": "fa1bfb3b",
   "metadata": {},
   "outputs": [
    {
     "name": "stdout",
     "output_type": "stream",
     "text": [
      "float64\n",
      "[1 2 3 4]\n"
     ]
    }
   ],
   "source": [
    "var=np.array([1.0,2.0,3.0,4.0])\n",
    "new=var.astype(\"int32\")\n",
    "print(var.dtype)\n",
    "print(new)"
   ]
  },
  {
   "cell_type": "code",
   "execution_count": 32,
   "id": "dcd6ac41",
   "metadata": {},
   "outputs": [
    {
     "name": "stdout",
     "output_type": "stream",
     "text": [
      "[1 3 6]\n"
     ]
    }
   ],
   "source": [
    "# What would be the answer of this cummulative summation in NumPy?\n",
    "import numpy as np\n",
    "arr = np.array([1,2,3])\n",
    "print(np.cumsum(arr))"
   ]
  },
  {
   "cell_type": "code",
   "execution_count": null,
   "id": "71b5c9f4",
   "metadata": {},
   "outputs": [],
   "source": []
  }
 ],
 "metadata": {
  "kernelspec": {
   "display_name": "Python 3 (ipykernel)",
   "language": "python",
   "name": "python3"
  },
  "language_info": {
   "codemirror_mode": {
    "name": "ipython",
    "version": 3
   },
   "file_extension": ".py",
   "mimetype": "text/x-python",
   "name": "python",
   "nbconvert_exporter": "python",
   "pygments_lexer": "ipython3",
   "version": "3.11.7"
  }
 },
 "nbformat": 4,
 "nbformat_minor": 5
}
