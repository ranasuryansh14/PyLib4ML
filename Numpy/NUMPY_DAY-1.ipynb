{
 "cells": [
  {
   "cell_type": "markdown",
   "id": "788bd56c-b7db-4efe-bce8-e2098325da7c",
   "metadata": {},
   "source": [
    "# ARRAY"
   ]
  },
  {
   "cell_type": "code",
   "execution_count": 11,
   "id": "40db5977-eaf4-45fc-a9a6-069aed3e9561",
   "metadata": {},
   "outputs": [
    {
     "name": "stdout",
     "output_type": "stream",
     "text": [
      "[1 2 3 4]\n",
      "<class 'numpy.ndarray'>\n",
      "1\n"
     ]
    }
   ],
   "source": [
    "import numpy as np \n",
    "#One way to define array\n",
    "x = [1,2,3,4]\n",
    "\n",
    "y= np.array(x)\n",
    "\n",
    "print(y)\n",
    "print(type(y))\n",
    "print(y.ndim)"
   ]
  },
  {
   "cell_type": "code",
   "execution_count": 3,
   "id": "aa43f9dc-665f-43ba-b723-dfe7c0bc2909",
   "metadata": {},
   "outputs": [
    {
     "name": "stdout",
     "output_type": "stream",
     "text": [
      "[1 2 3 4]\n"
     ]
    },
    {
     "data": {
      "text/plain": [
       "array([1, 2, 3, 4])"
      ]
     },
     "execution_count": 3,
     "metadata": {},
     "output_type": "execute_result"
    }
   ],
   "source": [
    "import numpy as np \n",
    "#One way to define array\n",
    "y= np.array([1,2,3,4])\n",
    "#this print function will show direct the element of array \n",
    "print(y)\n",
    "#this y will show the type -->array\n",
    "y"
   ]
  },
  {
   "cell_type": "code",
   "execution_count": 9,
   "id": "2c957373-2c20-4e7e-9fc5-76754d759cd4",
   "metadata": {},
   "outputs": [
    {
     "name": "stdin",
     "output_type": "stream",
     "text": [
      "enter : 4\n",
      "enter : 5\n",
      "enter : 3\n",
      "enter : 5\n"
     ]
    },
    {
     "name": "stdout",
     "output_type": "stream",
     "text": [
      "[4 5 3 5]\n"
     ]
    }
   ],
   "source": [
    "#taking user input in the array\n",
    "l = []\n",
    "\n",
    "for i in range(1,5):\n",
    "    int_1 = int(input(\"enter :\"))  #adding int in the input will not make this str\n",
    "    l.append(int_1)\n",
    "\n",
    "print(np.array(l))  #this will return the string if no int in input"
   ]
  },
  {
   "cell_type": "code",
   "execution_count": null,
   "id": "eb084244-e95c-4a1e-bde3-0bed88e90861",
   "metadata": {},
   "outputs": [],
   "source": [
    "#Dimensions of Array\n",
    "[1 3 5 6]\n",
    "[[1 3 5 7]]\n",
    "[[[3 6 7 7 3]]]\n",
    "#name.ndim --> for Dimension of array "
   ]
  },
  {
   "cell_type": "code",
   "execution_count": 19,
   "id": "cd86a786-78c0-4275-a07b-92cbf41d37ef",
   "metadata": {},
   "outputs": [
    {
     "name": "stdout",
     "output_type": "stream",
     "text": [
      "[[1 3 2 4]\n",
      " [1 2 3 4]]\n",
      "Dimensions : 2\n"
     ]
    }
   ],
   "source": [
    "ar2= np.array([[1,3,2,4],[1,2,3,4]])\n",
    "print(ar2)\n",
    "print(\"Dimensions :\",ar2.ndim)"
   ]
  },
  {
   "cell_type": "code",
   "execution_count": 27,
   "id": "721fd10f-fcd1-485e-a52a-b48b2124d6d9",
   "metadata": {},
   "outputs": [
    {
     "name": "stdout",
     "output_type": "stream",
     "text": [
      "[[[ 1  3  2  4]\n",
      "  [ 1  2  3  4]\n",
      "  [ 3  5 62  4]]]\n",
      "Dimensions : 3\n"
     ]
    }
   ],
   "source": [
    "ar3= np.array([[[1,3,2,4],[1,2,3,4],[3,5,62,4]]])\n",
    "print(ar3)\n",
    "print(\"Dimensions :\",ar3.ndim)"
   ]
  },
  {
   "cell_type": "code",
   "execution_count": 41,
   "id": "9f794c0c-faa2-483f-9468-fc2ccce09cf7",
   "metadata": {},
   "outputs": [
    {
     "name": "stdout",
     "output_type": "stream",
     "text": [
      "[[[[[[[[[[1 2 6 4]]]]]]]]]]\n",
      "10\n"
     ]
    }
   ],
   "source": [
    "#Create a array with input Dimension\n",
    "arn = np.array([1,2,6,4], ndmin = 10)\n",
    "print(arn)\n",
    "print(arn.ndim)"
   ]
  },
  {
   "cell_type": "markdown",
   "id": "e32bdf66-30dd-4272-ba1e-c13f06894303",
   "metadata": {},
   "source": [
    "# ZEROS"
   ]
  },
  {
   "cell_type": "code",
   "execution_count": 49,
   "id": "8f7441f4-79e7-4c33-a684-51c5be79e198",
   "metadata": {},
   "outputs": [
    {
     "name": "stdout",
     "output_type": "stream",
     "text": [
      "[0. 0. 0. 0. 0.]\n",
      "\n",
      "[[0. 0. 0. 0. 0.]\n",
      " [0. 0. 0. 0. 0.]\n",
      " [0. 0. 0. 0. 0.]]\n",
      "2\n"
     ]
    }
   ],
   "source": [
    "ar_zeros = np.zeros(5)\n",
    "ar_zeros1 = np.zeros((3,5))\n",
    "\n",
    "print(ar_zeros)\n",
    "print()\n",
    "print(ar_zeros1)\n",
    "print(ar_zeros1.ndim)"
   ]
  },
  {
   "cell_type": "markdown",
   "id": "baa8de25-9a13-4272-8024-7e6e043bdf46",
   "metadata": {},
   "source": [
    "# ONES array"
   ]
  },
  {
   "cell_type": "code",
   "execution_count": 55,
   "id": "9ff4b4f3-6c45-4a45-8405-c1aef5887697",
   "metadata": {},
   "outputs": [
    {
     "name": "stdout",
     "output_type": "stream",
     "text": [
      "[1. 1. 1. 1.]\n",
      "\n",
      "[[1. 1. 1. 1. 1.]\n",
      " [1. 1. 1. 1. 1.]\n",
      " [1. 1. 1. 1. 1.]]\n"
     ]
    }
   ],
   "source": [
    "ar_one = np.ones(4)\n",
    "ar_one1 = np.ones((3,5))\n",
    "\n",
    "print(ar_one)\n",
    "print()\n",
    "print(ar_one1)"
   ]
  },
  {
   "cell_type": "code",
   "execution_count": 57,
   "id": "ebf9a738-0091-429a-b06d-2b789981d411",
   "metadata": {},
   "outputs": [
    {
     "name": "stdout",
     "output_type": "stream",
     "text": [
      "[0. 0. 0. 0. 0. 0. 0. 0.]\n"
     ]
    }
   ],
   "source": [
    "#Empty array \n",
    "\n",
    "ar=np.empty(8)\n",
    "print(ar)"
   ]
  },
  {
   "cell_type": "code",
   "execution_count": 59,
   "id": "24e1e52b-0422-4145-9ec0-a5c5fa52a6c1",
   "metadata": {},
   "outputs": [
    {
     "name": "stdout",
     "output_type": "stream",
     "text": [
      "[0 1 2]\n"
     ]
    }
   ],
   "source": [
    "# Range in array\n",
    "\n",
    "ar = np.arange(3)\n",
    "print(ar)"
   ]
  },
  {
   "cell_type": "code",
   "execution_count": 73,
   "id": "b0a2ac0c-2b98-4755-97ae-6b083e7b3a98",
   "metadata": {},
   "outputs": [
    {
     "name": "stdout",
     "output_type": "stream",
     "text": [
      "[[1. 0. 0.]\n",
      " [0. 1. 0.]\n",
      " [0. 0. 1.]]\n"
     ]
    }
   ],
   "source": [
    "##   Array With Diogonal Element filled with Zeros\n",
    "\n",
    "ar=np.eye(3)\n",
    "print(ar)"
   ]
  },
  {
   "cell_type": "code",
   "execution_count": 75,
   "id": "c100819d-4658-4d3a-afc2-bead498cf199",
   "metadata": {},
   "outputs": [
    {
     "name": "stdout",
     "output_type": "stream",
     "text": [
      "[ 1.   2.8  4.6  6.4  8.2 10. ]\n"
     ]
    }
   ],
   "source": [
    "# LineSpace Function\n",
    "\n",
    "ar = np.linspace(1,10,6)\n",
    "print(ar)"
   ]
  },
  {
   "cell_type": "markdown",
   "id": "84354b79-cc20-425e-8d25-9d764da8eca7",
   "metadata": {},
   "source": [
    "## 0-Create Numpy array with Random Numbers\n",
    "# rand()\n",
    "# randn()\n",
    "# ranf()\n",
    "# randint()"
   ]
  },
  {
   "cell_type": "markdown",
   "id": "7980b6ae-e532-439d-960b-b1af45726327",
   "metadata": {},
   "source": [
    "# Rand()  ->>> return between 0---1\n",
    "np.random.rand(number)"
   ]
  },
  {
   "cell_type": "code",
   "execution_count": 77,
   "id": "afe8e0f8-bd57-4698-a7fe-edea864b52a5",
   "metadata": {},
   "outputs": [
    {
     "name": "stdout",
     "output_type": "stream",
     "text": [
      "[0.09337945 0.50938244 0.05196162 0.81578353 0.58536252]\n"
     ]
    }
   ],
   "source": [
    "var = np.random.rand(5)\n",
    "print(var)"
   ]
  },
  {
   "cell_type": "code",
   "execution_count": 81,
   "id": "6ae86d30-20fb-4170-ba95-5594a7967b29",
   "metadata": {},
   "outputs": [
    {
     "name": "stdout",
     "output_type": "stream",
     "text": [
      "[[0.53813778 0.52190448 0.59199534 0.07070733 0.55696875]\n",
      " [0.31355055 0.55530307 0.32258004 0.30311747 0.83527536]\n",
      " [0.69592136 0.50305222 0.31137838 0.14711463 0.63841939]]\n"
     ]
    }
   ],
   "source": [
    "var1 = np.random.rand(3,5)\n",
    "print(var1)"
   ]
  },
  {
   "cell_type": "markdown",
   "id": "81346fde-cf36-4724-8b50-57e2b98f16a9",
   "metadata": {},
   "source": [
    "#  randn() ->>> -ve +ve both "
   ]
  },
  {
   "cell_type": "code",
   "execution_count": 83,
   "id": "c51d956b-119b-4e53-bb9e-c655559cf75f",
   "metadata": {},
   "outputs": [
    {
     "name": "stdout",
     "output_type": "stream",
     "text": [
      "[-0.29789172  1.65767959  0.04843906 -0.514677    1.18854259]\n"
     ]
    }
   ],
   "source": [
    "var = np.random.randn(5)\n",
    "print(var)"
   ]
  },
  {
   "cell_type": "code",
   "execution_count": 85,
   "id": "b3e9abb4-2a4b-41de-9d5f-0e016cee7bfd",
   "metadata": {},
   "outputs": [
    {
     "name": "stdout",
     "output_type": "stream",
     "text": [
      "[[ 0.5908123   0.58429016  0.41416636  0.61500069 -0.42845358]\n",
      " [ 1.38673656 -0.02641854 -0.40700843 -0.02345276 -0.33741796]]\n"
     ]
    }
   ],
   "source": [
    "var = np.random.randn(2,5)\n",
    "print(var)"
   ]
  },
  {
   "cell_type": "markdown",
   "id": "e9db5546-5669-4f32-8d31-ed8d30cfc9d7",
   "metadata": {},
   "source": [
    "# ranf() ...>>> lessthan 1 close zero  [0.0,1.0)"
   ]
  },
  {
   "cell_type": "code",
   "execution_count": 87,
   "id": "6b8bdd75-a7c8-4b6f-bc43-04e592cb72aa",
   "metadata": {},
   "outputs": [
    {
     "name": "stdout",
     "output_type": "stream",
     "text": [
      "[0.43749515 0.30885832 0.33097775 0.17314683 0.3756677 ]\n"
     ]
    }
   ],
   "source": [
    "var = np.random.ranf(5)\n",
    "print(var)"
   ]
  },
  {
   "cell_type": "code",
   "execution_count": 95,
   "id": "64748e6b-bbad-47d2-814c-713990653dd0",
   "metadata": {},
   "outputs": [
    {
     "name": "stdout",
     "output_type": "stream",
     "text": [
      "[0.20130749 0.85648134 0.98969451 0.91653942 0.54708189]\n"
     ]
    }
   ],
   "source": [
    "var = np.random.ranf(5)\n",
    "print(var)"
   ]
  },
  {
   "cell_type": "markdown",
   "id": "79491b43-45d4-4f83-8c38-b680d7e4b1b6",
   "metadata": {},
   "source": [
    "# Randint()----------->"
   ]
  },
  {
   "cell_type": "code",
   "execution_count": 105,
   "id": "44b814b2-f90b-4809-bed9-2346800cae8a",
   "metadata": {},
   "outputs": [
    {
     "name": "stdout",
     "output_type": "stream",
     "text": [
      "[[20 67 17 47 58 35 10  8 24  9]\n",
      " [38 53  3 53 55 39  2 98  2 19]\n",
      " [46 36 65 63  2 15 52 14 20 75]\n",
      " [23 16  5 56  2 67 50 89 46 52]\n",
      " [13 72  1 97 58 79 50 92 46 99]\n",
      " [67 11 21  7  7 21  5  5 64 25]\n",
      " [50 73 52 51 57 99 19 16 45  6]\n",
      " [70 30 23 93 81 94 34 30 66 47]\n",
      " [74  5 17 14 53 56 78 20 63 43]\n",
      " [49 18 22 80 28 81 64 13  9 73]]\n"
     ]
    }
   ],
   "source": [
    "var = np.random.randint(1,100,100).reshape(10,10)\n",
    "print(var)"
   ]
  },
  {
   "cell_type": "code",
   "execution_count": null,
   "id": "cd560b86-cde2-4b6e-a6bb-9049fdae4b3d",
   "metadata": {},
   "outputs": [],
   "source": []
  }
 ],
 "metadata": {
  "kernelspec": {
   "display_name": "Python 3 (ipykernel)",
   "language": "python",
   "name": "python3"
  },
  "language_info": {
   "codemirror_mode": {
    "name": "ipython",
    "version": 3
   },
   "file_extension": ".py",
   "mimetype": "text/x-python",
   "name": "python",
   "nbconvert_exporter": "python",
   "pygments_lexer": "ipython3",
   "version": "3.11.7"
  }
 },
 "nbformat": 4,
 "nbformat_minor": 5
}
