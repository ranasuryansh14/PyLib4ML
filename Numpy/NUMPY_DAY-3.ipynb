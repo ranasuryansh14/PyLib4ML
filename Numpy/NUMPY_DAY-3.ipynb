{
 "cells": [
  {
   "cell_type": "markdown",
   "id": "eec3a235-4357-483a-8ac5-f3eed91d303a",
   "metadata": {},
   "source": [
    "# SHAPE AND RESHAPING IN NUMPY ARRAYS"
   ]
  },
  {
   "cell_type": "code",
   "execution_count": 3,
   "id": "a219f44f-3ebc-47f0-9bf5-9b78091e79fa",
   "metadata": {},
   "outputs": [
    {
     "name": "stdout",
     "output_type": "stream",
     "text": [
      "[[1 2]\n",
      " [1 2]]\n",
      "\n",
      "[[1 2 3 4]\n",
      " [1 2 3 4]]\n",
      "\n",
      "(2, 2)\n",
      "(2, 4)\n"
     ]
    }
   ],
   "source": [
    "import numpy as np\n",
    "var1 = np.array([[1,2],[1,2]])\n",
    "var2 = np.array([[1,2,3,4],[1,2,3,4]])\n",
    "print(var1)\n",
    "print()\n",
    "print(var2)\n",
    "print()\n",
    "print(var1.shape)\n",
    "print(var2.shape)"
   ]
  },
  {
   "cell_type": "code",
   "execution_count": 28,
   "id": "6202bb38-3b8a-40f9-836d-12dc9328d216",
   "metadata": {},
   "outputs": [
    {
     "name": "stdout",
     "output_type": "stream",
     "text": [
      "[[[[1 2 3 4]]]]\n",
      "Dimension of var is :  4\n",
      "\n",
      "Shape of Var is :  (1, 1, 1, 4)\n"
     ]
    }
   ],
   "source": [
    "var = np.array([1,2,3,4], ndmin = 4)\n",
    "print(var)\n",
    "print(\"Dimension of var is : \",var.ndim)\n",
    "print()\n",
    "print(\"Shape of Var is : \",var.shape)"
   ]
  },
  {
   "cell_type": "markdown",
   "id": "c9e71fee-2195-4ca0-abaf-dcde0836bf66",
   "metadata": {},
   "source": [
    "# How to reshape array"
   ]
  },
  {
   "cell_type": "markdown",
   "id": "7e2f6634-498a-426c-ae78-20c3d89e15ba",
   "metadata": {},
   "source": [
    "variable_name.reshape(number of rows, number of elements)"
   ]
  },
  {
   "cell_type": "code",
   "execution_count": 52,
   "id": "88e48b5b-f210-4221-93bb-c4d8acc2a08d",
   "metadata": {},
   "outputs": [
    {
     "name": "stdout",
     "output_type": "stream",
     "text": [
      "One Dimension array :  [1 2 3 4 5 6 7 8]\n",
      "\n",
      "Two dimension array as (Per Reshape(4,2) : \n",
      " [[1 2]\n",
      " [3 4]\n",
      " [5 6]\n",
      " [7 8]]\n"
     ]
    }
   ],
   "source": [
    "arr = np.array([1,2,3,4,5,6,7,8])\n",
    "\n",
    "x = arr.reshape(4,2)\n",
    "print(\"One Dimension array : \",arr)\n",
    "print()\n",
    "print(\"Two dimension array as (Per Reshape(4,2) : \\n\", x)\n"
   ]
  },
  {
   "cell_type": "code",
   "execution_count": 113,
   "id": "57c1c48c-7124-4f3f-9c14-735f8f7dc4f7",
   "metadata": {},
   "outputs": [
    {
     "name": "stdout",
     "output_type": "stream",
     "text": [
      "[[[ 2  3]\n",
      "  [ 4  5]\n",
      "  [ 6  7]]\n",
      "\n",
      " [[ 8  9]\n",
      "  [21 32]\n",
      "  [ 1 23]]]\n",
      "3\n",
      "\n",
      "[[[ 2  3  4]\n",
      "  [ 5  6  7]]\n",
      "\n",
      " [[ 8  9 21]\n",
      "  [32  1 23]]]\n",
      "3\n",
      "\n",
      "[ 2  3  4  5  6  7  8  9 21 32  1 23]\n",
      "1\n"
     ]
    }
   ],
   "source": [
    "arr = np.array([2,3,4,5,6,7,8,9,21,32,1,23])\n",
    "\n",
    "x = arr.reshape(2,3,2)\n",
    "print(x)\n",
    "print(x.ndim)\n",
    "print()\n",
    "x = arr.reshape(2,2,3)\n",
    "print(x)\n",
    "print(x.ndim)\n",
    "print()\n",
    "#change to one\n",
    "one = x.reshape(-1)\n",
    "print(one)\n",
    "print(one.ndim)"
   ]
  },
  {
   "cell_type": "markdown",
   "id": "39ef87a2-8a5b-4811-804d-ec6077d77a4f",
   "metadata": {},
   "source": [
    "# Arithmetic Operations"
   ]
  },
  {
   "cell_type": "raw",
   "id": "326bdba5-6532-4f68-ad53-8e5e9382da97",
   "metadata": {},
   "source": [
    "a+b    np.add(a,b)\n",
    "a-b    np.subtract(a,b)\n",
    "a*b    np.multiply(a,b)\n",
    "a/b    np.divide(a,b)\n",
    "a%b    np.mod(a,b)\n",
    "a**b   np.power(a,b)\n",
    "1/a    np.reciprocal(a,b)"
   ]
  },
  {
   "cell_type": "code",
   "execution_count": 122,
   "id": "e69a14b0-33d6-48e4-be1c-d5f4ab944daf",
   "metadata": {},
   "outputs": [
    {
     "name": "stdout",
     "output_type": "stream",
     "text": [
      "[ 2  3 45  5]\n"
     ]
    }
   ],
   "source": [
    "var = np.array([2,3,45,5])\n",
    "\n",
    "var1 = var + 5\n",
    "print(var)"
   ]
  },
  {
   "cell_type": "code",
   "execution_count": 162,
   "id": "f28428f6-93e0-4272-8e7c-d41b4f77979e",
   "metadata": {},
   "outputs": [
    {
     "name": "stdout",
     "output_type": "stream",
     "text": [
      "[10 10 10 10]\n"
     ]
    }
   ],
   "source": [
    "a = np.array([1,2,3,4])\n",
    "b = np.array([9,8,7,6])\n",
    "add = a+b\n",
    "print(add)"
   ]
  },
  {
   "cell_type": "code",
   "execution_count": 7,
   "id": "3ff34e2e-33b5-41d0-8158-f3b805bec7e3",
   "metadata": {},
   "outputs": [],
   "source": [
    "a = np.array([1,2,3,4])\n",
    "b = np.array([9,8,7,6])\n",
    "\n",
    "varAdd = np.add(a,b)\n",
    "varSub = np.subtract(a,b)\n",
    "varMul = np.multiply(a,b)\n",
    "varDiv = np.divide(a,b)\n",
    "varMod = np.mod(a,b)\n",
    "varPow = np.power(a,b)\n",
    "varRec = np.reciprocal(a,b)"
   ]
  },
  {
   "cell_type": "code",
   "execution_count": 158,
   "id": "08f87b2e-ac66-47c2-9890-8099b273ad18",
   "metadata": {},
   "outputs": [
    {
     "name": "stdout",
     "output_type": "stream",
     "text": [
      "[10 10 10 10]\n"
     ]
    }
   ],
   "source": [
    "print(varAdd) "
   ]
  },
  {
   "cell_type": "code",
   "execution_count": 124,
   "id": "bbd84914-c789-46c5-9fcf-b17f1cfd4005",
   "metadata": {},
   "outputs": [
    {
     "name": "stdout",
     "output_type": "stream",
     "text": [
      "[-8 -6 -4 -2]\n"
     ]
    }
   ],
   "source": [
    "print(varSub)"
   ]
  },
  {
   "cell_type": "code",
   "execution_count": 144,
   "id": "747437c6-4211-4b36-814a-93b80e22960f",
   "metadata": {},
   "outputs": [
    {
     "name": "stdout",
     "output_type": "stream",
     "text": [
      "[   1  256 2187 4096]\n"
     ]
    }
   ],
   "source": [
    "print(varPow)"
   ]
  },
  {
   "cell_type": "code",
   "execution_count": 150,
   "id": "14314f65-ff42-462c-8d94-6a068bec962d",
   "metadata": {},
   "outputs": [
    {
     "name": "stdout",
     "output_type": "stream",
     "text": [
      "[1 2 3 4]\n"
     ]
    }
   ],
   "source": [
    "print(varMod)"
   ]
  },
  {
   "cell_type": "code",
   "execution_count": 152,
   "id": "35c37317-8760-405b-86fb-ad3c61778c17",
   "metadata": {},
   "outputs": [
    {
     "name": "stdout",
     "output_type": "stream",
     "text": [
      "[0.11111111 0.25       0.42857143 0.66666667]\n"
     ]
    }
   ],
   "source": [
    "print(varDiv)"
   ]
  },
  {
   "cell_type": "code",
   "execution_count": 154,
   "id": "09d0eb80-2de4-4152-aa32-1eb1d00da745",
   "metadata": {},
   "outputs": [
    {
     "name": "stdout",
     "output_type": "stream",
     "text": [
      "[ 9 16 21 24]\n"
     ]
    }
   ],
   "source": [
    "print(varMul)"
   ]
  },
  {
   "cell_type": "code",
   "execution_count": 156,
   "id": "6d60ed95-3a28-4272-8134-5088db7e8709",
   "metadata": {},
   "outputs": [
    {
     "name": "stdout",
     "output_type": "stream",
     "text": [
      "[1 0 0 0]\n"
     ]
    }
   ],
   "source": [
    "print(varRec)"
   ]
  },
  {
   "cell_type": "markdown",
   "id": "a9ae7990-8bca-4b0e-8404-265eb9df32c8",
   "metadata": {},
   "source": [
    "# 2D Array"
   ]
  },
  {
   "cell_type": "code",
   "execution_count": 168,
   "id": "25efaba4-94c9-432e-bf49-9d327d156324",
   "metadata": {},
   "outputs": [
    {
     "name": "stdout",
     "output_type": "stream",
     "text": [
      "[[10 10 10 10]\n",
      " [10 10 10 10]]\n"
     ]
    }
   ],
   "source": [
    "a = np.array([[1,2,3,4],[9,8,7,6]])\n",
    "b = np.array([[9,8,7,6],[1,2,3,4]])\n",
    "add = a+b\n",
    "print(add)"
   ]
  },
  {
   "cell_type": "code",
   "execution_count": 176,
   "id": "426be316-d75a-4f12-b2ab-93b985b1b89f",
   "metadata": {},
   "outputs": [
    {
     "name": "stdout",
     "output_type": "stream",
     "text": [
      "1\n",
      "4\n"
     ]
    }
   ],
   "source": [
    "var = np.array([1,2,3,4])\n",
    "print(np.min(var))\n",
    "print(np.max(var))"
   ]
  },
  {
   "cell_type": "markdown",
   "id": "34db2cac-3f09-4c42-8fdb-2c9e18ddeef6",
   "metadata": {},
   "source": [
    "# position of max and min\n",
    "Index of element np.argmx"
   ]
  },
  {
   "cell_type": "code",
   "execution_count": 188,
   "id": "580dea4a-9ceb-458f-8924-f3e60a4824d0",
   "metadata": {},
   "outputs": [
    {
     "name": "stdout",
     "output_type": "stream",
     "text": [
      "1 2 3\n"
     ]
    }
   ],
   "source": [
    "var = np.array([2,3,1,4,1])\n",
    "print(np.min(var), np.argmin(var), np.argmax(var))"
   ]
  },
  {
   "cell_type": "code",
   "execution_count": null,
   "id": "c9cdf901-70be-4353-b180-ec9aad2e10db",
   "metadata": {},
   "outputs": [],
   "source": [
    "# axis in 2D array\n",
    "axis = 0 ----> col\n",
    "axis = 1 ----> row"
   ]
  },
  {
   "cell_type": "code",
   "execution_count": 200,
   "id": "0cc6b65b-19e2-423b-b9e9-f1fab7a1a2be",
   "metadata": {},
   "outputs": [
    {
     "name": "stdout",
     "output_type": "stream",
     "text": [
      "[2 3 1 4 1]\n",
      "Square of array elements\n",
      "[[1.41421356 1.73205081 1.         2.         1.        ]\n",
      " [5.74456265 5.83095189 8.         2.         1.        ]]\n"
     ]
    }
   ],
   "source": [
    "var = np.array([[2,3,1,4,1],[33,34,64,4,1]])\n",
    "print (np.min(var,axis=0))\n",
    "#sqrt\n",
    "print(\"Square of array elements\")\n",
    "print(np.sqrt(var))"
   ]
  },
  {
   "cell_type": "markdown",
   "id": "29c0fb33-aefb-423c-952a-737a400b1890",
   "metadata": {},
   "source": [
    "# Trignometry"
   ]
  },
  {
   "cell_type": "code",
   "execution_count": 204,
   "id": "9c28f397-2cbc-49af-88df-2a62f9d589d8",
   "metadata": {},
   "outputs": [
    {
     "name": "stdout",
     "output_type": "stream",
     "text": [
      "[ 0.84147098  0.90929743  0.14112001 -0.95892427  0.6569866 ]\n"
     ]
    }
   ],
   "source": [
    "var = np.array([1,2,3,5,7])\n",
    "print(np.sin(var))"
   ]
  },
  {
   "cell_type": "raw",
   "id": "f16c6e67-88e7-46a6-bf61-6ab269e28168",
   "metadata": {},
   "source": [
    "# CumSum ----in Statstics"
   ]
  },
  {
   "cell_type": "code",
   "execution_count": 206,
   "id": "a038bde8-fcae-4259-8ce1-909f6fece215",
   "metadata": {},
   "outputs": [
    {
     "name": "stdout",
     "output_type": "stream",
     "text": [
      "[ 1  3  6 11 18]\n"
     ]
    }
   ],
   "source": [
    "var = np.array([1,2,3,5,7])\n",
    "print(np.cumsum(var))"
   ]
  },
  {
   "cell_type": "markdown",
   "id": "0afef246-09ba-45c6-98a6-0e693bcfb15e",
   "metadata": {},
   "source": [
    "# BroadCasting in Numpy array"
   ]
  },
  {
   "cell_type": "code",
   "execution_count": 213,
   "id": "bfad9ec7-068e-42a7-bc81-269dc2f988f8",
   "metadata": {},
   "outputs": [
    {
     "ename": "ValueError",
     "evalue": "operands could not be broadcast together with shapes (5,) (4,) ",
     "output_type": "error",
     "traceback": [
      "\u001b[1;31m---------------------------------------------------------------------------\u001b[0m",
      "\u001b[1;31mValueError\u001b[0m                                Traceback (most recent call last)",
      "Cell \u001b[1;32mIn[213], line 3\u001b[0m\n\u001b[0;32m      1\u001b[0m var \u001b[38;5;241m=\u001b[39m np\u001b[38;5;241m.\u001b[39marray([\u001b[38;5;241m1\u001b[39m,\u001b[38;5;241m2\u001b[39m,\u001b[38;5;241m3\u001b[39m,\u001b[38;5;241m5\u001b[39m,\u001b[38;5;241m7\u001b[39m])\n\u001b[0;32m      2\u001b[0m var1 \u001b[38;5;241m=\u001b[39m np\u001b[38;5;241m.\u001b[39marray([\u001b[38;5;241m1\u001b[39m,\u001b[38;5;241m2\u001b[39m,\u001b[38;5;241m3\u001b[39m,\u001b[38;5;241m4\u001b[39m])\n\u001b[1;32m----> 3\u001b[0m \u001b[38;5;28mprint\u001b[39m(var\u001b[38;5;241m+\u001b[39mvar1)\n",
      "\u001b[1;31mValueError\u001b[0m: operands could not be broadcast together with shapes (5,) (4,) "
     ]
    }
   ],
   "source": [
    "var = np.array([1,2,3,5,7])\n",
    "var1 = np.array([1,2,3,4])\n",
    "print(var+var1)"
   ]
  },
  {
   "cell_type": "code",
   "execution_count": null,
   "id": "4f804d7b-a0d7-4fa7-a587-2d15651b8776",
   "metadata": {},
   "outputs": [],
   "source": [
    "#this is Broadcasting error"
   ]
  },
  {
   "cell_type": "code",
   "execution_count": 215,
   "id": "6cd2ea85-98f0-4870-b325-faffaca251ea",
   "metadata": {},
   "outputs": [
    {
     "name": "stdout",
     "output_type": "stream",
     "text": [
      "[ 2  4  6  9 10]\n"
     ]
    }
   ],
   "source": [
    "var = np.array([1,2,3,5,7])\n",
    "var1 = np.array([1,2,3,4,3])\n",
    "print(var+var1)"
   ]
  },
  {
   "cell_type": "code",
   "execution_count": null,
   "id": "5f1423de-b798-4911-be38-e1879a71d45d",
   "metadata": {},
   "outputs": [],
   "source": [
    "# this Works Because of same number of elements in the array"
   ]
  },
  {
   "cell_type": "markdown",
   "id": "0e697d57-fc90-49a5-b5cc-f21c8618c93c",
   "metadata": {},
   "source": [
    "# Array Shapes"
   ]
  },
  {
   "cell_type": "code",
   "execution_count": 222,
   "id": "fdadeef1-5aa2-442c-8b00-d21626734e76",
   "metadata": {},
   "outputs": [
    {
     "name": "stdout",
     "output_type": "stream",
     "text": [
      "This array is (1x3) : \n",
      "[1 2 3]\n",
      "\n",
      "This array is (3x1) : \n",
      "[[1]\n",
      " [2]\n",
      " [3]]\n"
     ]
    }
   ],
   "source": [
    "var1 = np.array([1,2,3])\n",
    "print(\"This array is (1x3) : \")\n",
    "print(var1)\n",
    "print()\n",
    "var2 = np.array([[1],[2],[3]])\n",
    "print(\"This array is (3x1) : \")\n",
    "print(var2)"
   ]
  },
  {
   "cell_type": "code",
   "execution_count": 224,
   "id": "8879342b-8c85-4d40-892a-0bf8fc12c714",
   "metadata": {},
   "outputs": [
    {
     "name": "stdout",
     "output_type": "stream",
     "text": [
      "[[2 3 4]\n",
      " [3 4 5]\n",
      " [4 5 6]]\n"
     ]
    }
   ],
   "source": [
    "#Added 1x3 and 3x1\n",
    "var1 = np.array([1,2,3])\n",
    "var2 = np.array([[1],[2],[3]])\n",
    "print(var1+var2)"
   ]
  },
  {
   "cell_type": "code",
   "execution_count": 226,
   "id": "b322d0dc-f339-4da0-8f87-9e8948707049",
   "metadata": {},
   "outputs": [
    {
     "name": "stdout",
     "output_type": "stream",
     "text": [
      "[[2 3 4]\n",
      " [4 5 6]]\n"
     ]
    }
   ],
   "source": [
    "#Added 1x3 and 2x1\n",
    "var1 = np.array([1,2,3])\n",
    "var2 = np.array([[1],[3]])\n",
    "print(var1+var2)"
   ]
  },
  {
   "cell_type": "code",
   "execution_count": 236,
   "id": "722c3c8e-9bfd-4a87-8ccc-cb04f60e53ca",
   "metadata": {},
   "outputs": [
    {
     "name": "stdout",
     "output_type": "stream",
     "text": [
      "[[4 5 6]]\n",
      "2\n"
     ]
    }
   ],
   "source": [
    "#Added 1x3 and 1x1\n",
    "var1 = np.array([1,2,3])\n",
    "var2 = np.array([[3]])\n",
    "varAdd = var1 + var2\n",
    "print(varAdd)\n",
    "print(np.ndim(varAdd))"
   ]
  },
  {
   "cell_type": "code",
   "execution_count": 238,
   "id": "51ef06a6-3f5b-4e6d-88ef-6e1ea3a88f05",
   "metadata": {},
   "outputs": [
    {
     "name": "stdout",
     "output_type": "stream",
     "text": [
      "[4 5 6]\n",
      "1\n"
     ]
    }
   ],
   "source": [
    "#Added 1x3 and 1x1\n",
    "var1 = np.array([1,2,3])\n",
    "var2 = np.array([3])\n",
    "varAdd = var1 + var2\n",
    "print(varAdd)\n",
    "print(np.ndim(varAdd))"
   ]
  },
  {
   "cell_type": "code",
   "execution_count": 240,
   "id": "08ef9b92-7879-4a92-8d6a-411f25b46f44",
   "metadata": {},
   "outputs": [
    {
     "ename": "ValueError",
     "evalue": "operands could not be broadcast together with shapes (3,) (2,) ",
     "output_type": "error",
     "traceback": [
      "\u001b[1;31m---------------------------------------------------------------------------\u001b[0m",
      "\u001b[1;31mValueError\u001b[0m                                Traceback (most recent call last)",
      "Cell \u001b[1;32mIn[240], line 3\u001b[0m\n\u001b[0;32m      1\u001b[0m var1 \u001b[38;5;241m=\u001b[39m np\u001b[38;5;241m.\u001b[39marray([\u001b[38;5;241m1\u001b[39m,\u001b[38;5;241m2\u001b[39m,\u001b[38;5;241m3\u001b[39m])\n\u001b[0;32m      2\u001b[0m var2 \u001b[38;5;241m=\u001b[39m np\u001b[38;5;241m.\u001b[39marray([\u001b[38;5;241m3\u001b[39m,\u001b[38;5;241m4\u001b[39m])\n\u001b[1;32m----> 3\u001b[0m varAdd \u001b[38;5;241m=\u001b[39m var1 \u001b[38;5;241m+\u001b[39m var2\n\u001b[0;32m      4\u001b[0m \u001b[38;5;28mprint\u001b[39m(varAdd)\n",
      "\u001b[1;31mValueError\u001b[0m: operands could not be broadcast together with shapes (3,) (2,) "
     ]
    }
   ],
   "source": [
    "var1 = np.array([1,2,3])\n",
    "var2 = np.array([3,4])\n",
    "varAdd = var1 + var2\n",
    "print(varAdd)"
   ]
  },
  {
   "cell_type": "code",
   "execution_count": null,
   "id": "4b22e45e-dd1c-48d7-893f-6d09825b8d9b",
   "metadata": {},
   "outputs": [],
   "source": [
    "# Why BroadCasting Error \n",
    "when you are doing operations In both arrays\n",
    "there must be be 1Xany pr anyX1 "
   ]
  }
 ],
 "metadata": {
  "kernelspec": {
   "display_name": "Python 3 (ipykernel)",
   "language": "python",
   "name": "python3"
  },
  "language_info": {
   "codemirror_mode": {
    "name": "ipython",
    "version": 3
   },
   "file_extension": ".py",
   "mimetype": "text/x-python",
   "name": "python",
   "nbconvert_exporter": "python",
   "pygments_lexer": "ipython3",
   "version": "3.11.7"
  }
 },
 "nbformat": 4,
 "nbformat_minor": 5
}
