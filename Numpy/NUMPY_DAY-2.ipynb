{
 "cells": [
  {
   "cell_type": "markdown",
   "id": "b1d7294a-3a47-42bc-aa0c-af7e3818835f",
   "metadata": {},
   "source": [
    "# DataType"
   ]
  },
  {
   "cell_type": "code",
   "execution_count": 3,
   "id": "89b26dbf-8a7d-4700-9d77-e92c2d7d3b0b",
   "metadata": {},
   "outputs": [
    {
     "name": "stdout",
     "output_type": "stream",
     "text": [
      "DataType of x : int32\n"
     ]
    }
   ],
   "source": [
    "import numpy as np\n",
    "x = np.array([1,2,3,4,5])\n",
    "print(\"DataType of x :\",x.dtype)"
   ]
  },
  {
   "cell_type": "code",
   "execution_count": 5,
   "id": "a6a4ca2a-0bed-4688-92fe-d0203f48cd92",
   "metadata": {},
   "outputs": [
    {
     "name": "stdout",
     "output_type": "stream",
     "text": [
      "DataType of x : <U1\n"
     ]
    }
   ],
   "source": [
    "x = np.array(['a','b','t'])\n",
    "print(\"DataType of x :\",x.dtype)"
   ]
  },
  {
   "cell_type": "markdown",
   "id": "6c22d83a-c86b-4d82-af7e-659423df6a03",
   "metadata": {},
   "source": [
    "# HOW TO ASSIGN DATATYPE IN ARRAY"
   ]
  },
  {
   "cell_type": "code",
   "execution_count": 21,
   "id": "d5eda982-2088-4098-a325-6c632f8d4c12",
   "metadata": {},
   "outputs": [
    {
     "name": "stdout",
     "output_type": "stream",
     "text": [
      "[1 2 3 4 5]\n",
      "DataType before x : int32\n",
      "DataType after x : int8\n"
     ]
    }
   ],
   "source": [
    "a = np.array([1,2,3,4,5])\n",
    "x = np.array([1,2,3,4,5], dtype = np.int8)\n",
    "print(a)\n",
    "print(\"DataType before x :\",a.dtype)\n",
    "print(\"DataType after x :\",x.dtype)"
   ]
  },
  {
   "cell_type": "code",
   "execution_count": null,
   "id": "ff21d57f-2fa1-49de-9953-5aa6e5ade213",
   "metadata": {},
   "outputs": [],
   "source": [
    "x = np.array([1,2,3,4,5], dtype = float32)\n",
    "print(x)\n",
    "print(\"DataType before x :\",x.dtype)"
   ]
  },
  {
   "cell_type": "markdown",
   "id": "afd9ad44-0e64-4814-9ef1-cfde5630c644",
   "metadata": {},
   "source": [
    "# DATATYPE CONVERSION"
   ]
  },
  {
   "cell_type": "code",
   "execution_count": 23,
   "id": "aab3ba29-4606-480d-8fdc-eb872f659429",
   "metadata": {},
   "outputs": [
    {
     "name": "stdout",
     "output_type": "stream",
     "text": [
      "[1 2 3 5]\n",
      "DataType of s : int32\n",
      "[1. 2. 3. 5.]\n",
      "DataType of new : float32\n"
     ]
    }
   ],
   "source": [
    "s = np.array([1,2,3,5])\n",
    "new = np.float32(s)\n",
    "\n",
    "print(s)\n",
    "print(\"DataType of s :\",s.dtype)\n",
    "print(new)\n",
    "print(\"DataType of new :\",new.dtype)"
   ]
  },
  {
   "cell_type": "code",
   "execution_count": null,
   "id": "70d71800-9d03-4e01-a536-0e35b9e68102",
   "metadata": {},
   "outputs": [],
   "source": []
  }
 ],
 "metadata": {
  "kernelspec": {
   "display_name": "Python 3 (ipykernel)",
   "language": "python",
   "name": "python3"
  },
  "language_info": {
   "codemirror_mode": {
    "name": "ipython",
    "version": 3
   },
   "file_extension": ".py",
   "mimetype": "text/x-python",
   "name": "python",
   "nbconvert_exporter": "python",
   "pygments_lexer": "ipython3",
   "version": "3.11.7"
  }
 },
 "nbformat": 4,
 "nbformat_minor": 5
}
