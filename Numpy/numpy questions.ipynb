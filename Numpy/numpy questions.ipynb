{
 "cells": [
  {
   "cell_type": "raw",
   "id": "3c51326e",
   "metadata": {},
   "source": [
    "1.create the following matrix:-"
   ]
  },
  {
   "cell_type": "code",
   "execution_count": null,
   "id": "110172e3",
   "metadata": {},
   "outputs": [],
   "source": [
    "array([[ 0.01,  0.02,  0.03,  0.04,  0.05,  0.06,  0.07,  0.08,  0.09,  0.1 ],\n",
    "       [ 0.11,  0.12,  0.13,  0.14,  0.15,  0.16,  0.17,  0.18,  0.19,  0.2 ],\n",
    "       [ 0.21,  0.22,  0.23,  0.24,  0.25,  0.26,  0.27,  0.28,  0.29,  0.3 ],\n",
    "       [ 0.31,  0.32,  0.33,  0.34,  0.35,  0.36,  0.37,  0.38,  0.39,  0.4 ],\n",
    "       [ 0.41,  0.42,  0.43,  0.44,  0.45,  0.46,  0.47,  0.48,  0.49,  0.5 ],\n",
    "       [ 0.51,  0.52,  0.53,  0.54,  0.55,  0.56,  0.57,  0.58,  0.59,  0.6 ],\n",
    "       [ 0.61,  0.62,  0.63,  0.64,  0.65,  0.66,  0.67,  0.68,  0.69,  0.7 ],\n",
    "       [ 0.71,  0.72,  0.73,  0.74,  0.75,  0.76,  0.77,  0.78,  0.79,  0.8 ],\n",
    "       [ 0.81,  0.82,  0.83,  0.84,  0.85,  0.86,  0.87,  0.88,  0.89,  0.9 ],\n",
    "       [ 0.91,  0.92,  0.93,  0.94,  0.95,  0.96,  0.97,  0.98,  0.99,  1.  ]])\n"
   ]
  },
  {
   "cell_type": "code",
   "execution_count": null,
   "id": "dc0ad517",
   "metadata": {},
   "outputs": [],
   "source": [
    "2. Create an array of 20 linearly spaced points between 0 and 1:"
   ]
  },
  {
   "cell_type": "code",
   "execution_count": null,
   "id": "ee80acdf",
   "metadata": {},
   "outputs": [],
   "source": [
    "3.array([[ 1,  2,  3,  4,  5],\n",
    "       [ 6,  7,  8,  9, 10],\n",
    "       [11, 12, 13, 14, 15],\n",
    "       [16, 17, 18, 19, 20],\n",
    "       [21, 22, 23, 24, 25]])"
   ]
  },
  {
   "cell_type": "code",
   "execution_count": null,
   "id": "85335802",
   "metadata": {},
   "outputs": [],
   "source": [
    "4.extract this matrix from above matrix\n",
    "array([[12, 13, 14, 15],\n",
    "       [17, 18, 19, 20],\n",
    "       [22, 23, 24, 25]])\n"
   ]
  },
  {
   "cell_type": "code",
   "execution_count": null,
   "id": "8790979a",
   "metadata": {},
   "outputs": [],
   "source": [
    "5.extract 20 matrix from above matrix"
   ]
  },
  {
   "cell_type": "code",
   "execution_count": null,
   "id": "c7408aab",
   "metadata": {},
   "outputs": [],
   "source": [
    "6.extract this\n",
    "array([[ 2],\n",
    "       [ 7],\n",
    "       [12]])"
   ]
  },
  {
   "cell_type": "code",
   "execution_count": null,
   "id": "c513981a",
   "metadata": {},
   "outputs": [],
   "source": [
    "7.extract this:\n",
    "array([21, 22, 23, 24, 25])"
   ]
  },
  {
   "cell_type": "code",
   "execution_count": null,
   "id": "e8f12a63",
   "metadata": {},
   "outputs": [],
   "source": [
    "8.extract this\n",
    "array([[16, 17, 18, 19, 20],\n",
    "       [21, 22, 23, 24, 25]])"
   ]
  },
  {
   "cell_type": "code",
   "execution_count": null,
   "id": "a4bbcf89",
   "metadata": {},
   "outputs": [],
   "source": [
    "9.Now do the following\n",
    "Get the sum of all the values in mat"
   ]
  },
  {
   "cell_type": "code",
   "execution_count": null,
   "id": "bad31bbe",
   "metadata": {},
   "outputs": [],
   "source": [
    "10.Get the standard deviation of the values in mat"
   ]
  },
  {
   "cell_type": "code",
   "execution_count": null,
   "id": "6f6834db",
   "metadata": {},
   "outputs": [],
   "source": [
    "11.Get the sum of all the columns in mat"
   ]
  }
 ],
 "metadata": {
  "kernelspec": {
   "display_name": "Python 3 (ipykernel)",
   "language": "python",
   "name": "python3"
  },
  "language_info": {
   "codemirror_mode": {
    "name": "ipython",
    "version": 3
   },
   "file_extension": ".py",
   "mimetype": "text/x-python",
   "name": "python",
   "nbconvert_exporter": "python",
   "pygments_lexer": "ipython3",
   "version": "3.11.7"
  }
 },
 "nbformat": 4,
 "nbformat_minor": 5
}
